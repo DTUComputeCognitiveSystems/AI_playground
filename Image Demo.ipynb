{
 "cells": [
  {
   "cell_type": "code",
   "execution_count": null,
   "metadata": {},
   "outputs": [],
   "source": [
    "\n",
    "from matplotlib import pyplot as plt\n",
    "\n",
    "from src.image.video.snapshot import VideoCamera\n",
    "from src.image.object_detection.keras_detector import KerasDetector\n"
   ]
  },
  {
   "cell_type": "markdown",
   "metadata": {},
   "source": [
    "\n",
    "# Image Demo\n",
    "\n",
    "WELCOME MESSAGE"
   ]
  },
  {
   "cell_type": "markdown",
   "metadata": {},
   "source": [
    "## Recognizing objects in images/video\n",
    "\n",
    "In the cell below you can run a program that uses AI to recognize objects in images. Try to see if you can make it recognize some objects around you and perhaps find some objects that it can not detect. \n"
   ]
  },
  {
   "cell_type": "markdown",
   "metadata": {},
   "source": [
    "`Program for object recognition.`"
   ]
  },
  {
   "cell_type": "code",
   "execution_count": null,
   "metadata": {
    "collapsed": true
   },
   "outputs": [],
   "source": [
    "# In this cell, the user should be able to write the labels from the object recognitions program to a file"
   ]
  },
  {
   "cell_type": "markdown",
   "metadata": {},
   "source": [
    "### Creating an experiment\n",
    "\n",
    "1. Using Python in the cell above, make sure the labels from the program are stored to a file.\n",
    "1. Select a number of object for testing the object recognition program.\n",
    "1. Run the program while showing it the object you selected. Make sure to show all the objects and to time (approximately) when you showed each of the objects."
   ]
  },
  {
   "cell_type": "markdown",
   "metadata": {},
   "source": [
    "### Analysing the experiment\n",
    "\n",
    "1. In the cell below, reload the file with the experiment data"
   ]
  },
  {
   "cell_type": "markdown",
   "metadata": {},
   "source": [
    "`Make some kind of usefull visualization, which they can easily access.`"
   ]
  },
  {
   "cell_type": "code",
   "execution_count": null,
   "metadata": {
    "collapsed": true
   },
   "outputs": [],
   "source": [
    "plt.close(\"all\")\n",
    "plt.ion()\n",
    "the_video = VideoWText(\n",
    "    record_frames=True, \n",
    "    frame_rate=15, \n",
    "    seconds=10,\n",
    ")"
   ]
  },
  {
   "cell_type": "markdown",
   "metadata": {
    "collapsed": true
   },
   "source": [
    "## 1 Object classification\n"
   ]
  },
  {
   "cell_type": "markdown",
   "metadata": {},
   "source": [
    "### Taking pictures"
   ]
  },
  {
   "cell_type": "markdown",
   "metadata": {},
   "source": [
    "Run the following cell and take multiple pictures of five objects of your choice after labeling the object"
   ]
  },
  {
   "cell_type": "code",
   "execution_count": null,
   "metadata": {
    "scrolled": false
   },
   "outputs": [],
   "source": [
    "%matplotlib inline\n",
    "%matplotlib auto\n",
    "num_pictures_each = 2\n",
    "num_objects = 1\n",
    "num_labels_predicted = 4\n",
    "\n",
    "frames = []\n",
    "labels = []\n",
    "for i in range(num_objects):\n",
    "    label_name = input(\"Object label: \")\n",
    "    labels.append(label_name)\n",
    "\n",
    "    my_camera = VideoCamera(n_photos = num_pictures_each,title = \"Hold object before camera to take picture and press enter\", block = True)\n",
    "\n",
    "    my_camera.start()\n",
    "    frames.append(my_camera.photos[:num_pictures_each])\n"
   ]
  },
  {
   "cell_type": "markdown",
   "metadata": {},
   "source": [
    "### Classifying images"
   ]
  },
  {
   "cell_type": "markdown",
   "metadata": {},
   "source": [
    "\n",
    "We load a neural network to categorize your object pictures"
   ]
  },
  {
   "cell_type": "code",
   "execution_count": null,
   "metadata": {
    "collapsed": true,
    "scrolled": true
   },
   "outputs": [],
   "source": [
    "net = KerasDetector(model_name=\"inception_resnet_v2\",n_labels_returned = num_labels_predicted)"
   ]
  },
  {
   "cell_type": "code",
   "execution_count": null,
   "metadata": {
    "collapsed": true
   },
   "outputs": [],
   "source": [
    "%matplotlib inline\n",
    "plt.close(\"all\")\n",
    "\n",
    "f, axarr = plt.subplots(num_objects, num_pictures_each, figsize=(4*num_pictures_each,3*num_objects))\n",
    "for i in range (num_objects):\n",
    "    print(100*\"_\" +\"\\nObject {}\".format(labels[i]) )\n",
    "    for j in range(num_pictures_each):\n",
    "        if j==0:\n",
    "            axarr[i,j].set_ylabel(labels[i], rotation=0, size='large', labelpad=5*(len(labels[i])))\n",
    "        axarr[i,j].set_title(\"Picture {}\".format(j))\n",
    "        probable_labels=net.label_frame(frames[i][j])[0]\n",
    "        print(\"Picture {}: \".format(j),\", \".join(probable_labels))\n",
    "        axarr[i,j].imshow(frames[i][j])\n",
    "        axarr[i,j].tick_params( which='both', labelbottom=False,labelleft = False,length=0)\n"
   ]
  },
  {
   "cell_type": "markdown",
   "metadata": {},
   "source": [
    "### Analyzing the results\n",
    "1. How accurate are the labels for each object? Decide if one of the probable labels accurately describes the object and  count how many images are correct for each object. \n",
    "\n",
    "1. Are there differences in the accuracies for the objects? \n",
    "\n",
    "1. If yes, why do you think this happens?"
   ]
  },
  {
   "cell_type": "markdown",
   "metadata": {},
   "source": [
    "### Checking against categories"
   ]
  },
  {
   "cell_type": "markdown",
   "metadata": {},
   "source": [
    "1. Find a list of the categories used for training the neural network\n",
    "\n",
    "1. Do the categories reflect the environment you are in? \n",
    "\n",
    "1. Are there categories that you would not expect to encounter? \n",
    "\n",
    "1. Can you find an object  that you can not find in the categories? \n",
    "\n",
    "1. What do you expect to happen when you classify this object? Take pictures of the object and classify them? What does happen?"
   ]
  },
  {
   "cell_type": "code",
   "execution_count": null,
   "metadata": {
    "collapsed": true
   },
   "outputs": [],
   "source": []
  }
 ],
 "metadata": {
  "kernelspec": {
   "display_name": "Python 3",
   "language": "python",
   "name": "python3"
  },
  "language_info": {
   "codemirror_mode": {
    "name": "ipython",
    "version": 3
   },
   "file_extension": ".py",
   "mimetype": "text/x-python",
   "name": "python",
   "nbconvert_exporter": "python",
   "pygments_lexer": "ipython3",
   "version": "3.6.3"
  }
 },
 "nbformat": 4,
 "nbformat_minor": 2
}
