{
 "cells": [
  {
   "cell_type": "code",
   "execution_count": 6,
   "metadata": {},
   "outputs": [],
   "source": [
    "%%capture\n",
    "import numpy as np\n",
    "import matplotlib.pyplot as plt\n",
    "import sys\n",
    "sys.path.append('..')\n",
    "import os\n",
    "from pathlib import Path\n",
    "if Path.cwd().name == \"notebooks\":\n",
    "    os.chdir(Path.cwd().parent.resolve())\n",
    "print(\"Working directory: {}\".format(Path.cwd()))\n",
    "\n",
    "from notebooks.src.image_demos.demo_1 import VideoRecognitionDashboard\n",
    "from notebooks.src.image_demos.demo_1_2 import VideoTakeDashboard\n",
    "from src.image.image_collection import Image_Collector, load_data\n",
    "from src.image.object_detection.custom_network import Classifier"
   ]
  },
  {
   "cell_type": "markdown",
   "metadata": {},
   "source": [
    "\n",
    "# Image Demo Notebooks\n",
    "\n",
    "These notebooks will lead you through multiple tasks dealing with applying deep learning to image recognition tasks. \n",
    "\n",
    "Learning objectives:\n",
    "\n",
    "* Be able to apply a neural network trained on images to classify objects\n",
    "    * Explain the importance of unbiased datasets\n",
    "    * Know basic metrics for NN quality\n",
    "* Train a neural network on self-gathered images\n",
    "    * Know the steps to take while training an ML classifier\n",
    "    * Explain the idea of dataset augmentationm\n",
    "    * Explain and judge basic metrics for NN training\n",
    "    * Be able to judge the quality of a basic neural network\n",
    "    \n"
   ]
  },
  {
   "cell_type": "markdown",
   "metadata": {},
   "source": [
    "---\n",
    "## Image Demo 1 - Using a classifier\n",
    "\n",
    "Modern algorithms can today detect objects in images in real-time. This is not a completely solved task, but the algorithms are getting so good that they are today used many places.  \n",
    "\n",
    "This demo shows how we can use Python to gather data from your webcamera and use a classification algorithm to classify what is seen in the images.  \n",
    "\n",
    "In the cell below you can run a program that uses AI to recognize objects in images. Try to see if you can make it recognize some objects around you and perhaps find some objects that it can not detect. "
   ]
  },
  {
   "cell_type": "code",
   "execution_count": null,
   "metadata": {
    "collapsed": true
   },
   "outputs": [],
   "source": [
    "%matplotlib qt5\n",
    "dashboard = VideoRecognitionDashboard()\n",
    "dashboard.start"
   ]
  },
  {
   "cell_type": "markdown",
   "metadata": {
    "collapsed": true
   },
   "source": [
    "---\n",
    "Now we take multiple images of multiple objects to judge the reliability of the neural network:\n",
    "Run the cell below to first take the images. Run the cell below that to display and classify the images."
   ]
  },
  {
   "cell_type": "code",
   "execution_count": null,
   "metadata": {
    "collapsed": true
   },
   "outputs": [],
   "source": [
    "%matplotlib qt5\n",
    "vid_dashboard = VideoTakeDashboard()\n",
    "vid_dashboard.start"
   ]
  },
  {
   "cell_type": "code",
   "execution_count": null,
   "metadata": {
    "collapsed": true
   },
   "outputs": [],
   "source": [
    "%matplotlib inline\n",
    "vid_dashboard.collector.show_images(model_name=vid_dashboard.select_network.value)"
   ]
  },
  {
   "cell_type": "markdown",
   "metadata": {},
   "source": [
    "### Analyzing the results\n",
    "* How accurate are the labels for each object? Decide if one of the probable labels accurately describes the object and  count how many images are correct for each object. \n",
    "\n",
    "* Are there differences in the accuracies for the objects? \n",
    "\n",
    "* Look at the list of categories the neural network is trained on [here](https://gist.github.com/yrevar/942d3a0ac09ec9e5eb3a)\n",
    "\n",
    "    * Do the categories reflect the environment you are in? \n",
    "\n",
    "    * Are there categories that you would not expect to encounter? \n",
    "\n",
    "    * Find an object not in the categories:\n",
    "        * What do you **expect** to happen when you classify this object?\n",
    "        * Take pictures of the object and classify them? What does happen?\n",
    "\n",
    "\n"
   ]
  },
  {
   "cell_type": "markdown",
   "metadata": {},
   "source": [
    "***\n",
    "*double click here to edit cell*\n",
    "\n",
    "\n",
    "** Type in the accuracies for the different objects here**:\n"
   ]
  }
 ],
 "metadata": {
  "kernelspec": {
   "display_name": "Python [default]",
   "language": "python",
   "name": "python3"
  },
  "language_info": {
   "codemirror_mode": {
    "name": "ipython",
    "version": 3
   },
   "file_extension": ".py",
   "mimetype": "text/x-python",
   "name": "python",
   "nbconvert_exporter": "python",
   "pygments_lexer": "ipython3",
   "version": "3.6.3"
  }
 },
 "nbformat": 4,
 "nbformat_minor": 2
}
