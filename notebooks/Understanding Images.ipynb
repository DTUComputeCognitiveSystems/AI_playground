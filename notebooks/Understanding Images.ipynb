{
 "cells": [
  {
   "cell_type": "markdown",
   "metadata": {},
   "source": [
    "# Understanding Images\n",
    "\n",
    "This Notebook gives an introduction to how computers represent and work with images. "
   ]
  },
  {
   "cell_type": "code",
   "execution_count": null,
   "metadata": {},
   "outputs": [],
   "source": [
    "%matplotlib inline\n",
    "import numpy as np\n",
    "import matplotlib.pyplot as plt\n",
    "import ipywidgets as widgets\n",
    "from IPython.display import display\n",
    "import sys\n",
    "sys.path.append('..')\n",
    "from notebooks.src.image_understanding import plot_art, \\\n",
    "    plot_color_scales, plot_single_pixel, rgb_sliders, PixelViewer\n",
    "import os\n",
    "\n",
    "from pathlib import Path\n",
    "if Path.cwd().name == \"notebooks\":\n",
    "    os.chdir(Path.cwd().parent.resolve())\n",
    "print(\"Working directory: {}\".format(Path.cwd()))"
   ]
  },
  {
   "cell_type": "markdown",
   "metadata": {},
   "source": [
    "## Red-Green-Blue Pixel\n",
    "\n",
    "Here you can select a color using RGB with a couple of sliders.  \n",
    "You can also see the data as a databpoint in a 3D space."
   ]
  },
  {
   "cell_type": "code",
   "execution_count": null,
   "metadata": {},
   "outputs": [],
   "source": [
    "rgb_widgets, rgb_box = rgb_sliders()\n",
    "rgb_box"
   ]
  },
  {
   "cell_type": "code",
   "execution_count": null,
   "metadata": {},
   "outputs": [],
   "source": [
    "%matplotlib notebook\n",
    "%matplotlib notebook\n",
    "PixelViewer(rgb_widgets=rgb_widgets, rgb_box=rgb_box)"
   ]
  },
  {
   "cell_type": "markdown",
   "metadata": {},
   "source": [
    "## Playing around with RGB"
   ]
  },
  {
   "cell_type": "markdown",
   "metadata": {},
   "source": [
    "Run the command below to make a comparison of different shades of a few colors.  \n",
    "**Right-click-hold and move mouse to zoom.**  \n",
    "Remember that you can also enlargen the figure, by stretching it from the bottom-right corner. "
   ]
  },
  {
   "cell_type": "code",
   "execution_count": null,
   "metadata": {},
   "outputs": [],
   "source": [
    "%matplotlib notebook\n",
    "%matplotlib notebook\n",
    "plot_color_scales()"
   ]
  },
  {
   "cell_type": "markdown",
   "metadata": {},
   "source": [
    "## Something Familiar"
   ]
  },
  {
   "cell_type": "code",
   "execution_count": null,
   "metadata": {},
   "outputs": [],
   "source": [
    "%matplotlib notebook\n",
    "%matplotlib notebook\n",
    "plot_art()"
   ]
  },
  {
   "cell_type": "markdown",
   "metadata": {},
   "source": [
    "## A simple image\n",
    "Here is a simple image with four colors in quadrants, with their vector-representations visualized next to them."
   ]
  },
  {
   "cell_type": "markdown",
   "metadata": {},
   "source": [
    "## Image operations\n",
    "Using the above simple image, make some simple operations and show the results.\n",
    "Operations like adding some red, adding some brightness, taking the average of the image with another simple image."
   ]
  },
  {
   "cell_type": "code",
   "execution_count": null,
   "metadata": {},
   "outputs": [],
   "source": []
  }
 ],
 "metadata": {
  "kernelspec": {
   "display_name": "Python 3",
   "language": "python",
   "name": "python3"
  },
  "language_info": {
   "codemirror_mode": {
    "name": "ipython",
    "version": 3
   },
   "file_extension": ".py",
   "mimetype": "text/x-python",
   "name": "python",
   "nbconvert_exporter": "python",
   "pygments_lexer": "ipython3",
   "version": "3.6.4"
  }
 },
 "nbformat": 4,
 "nbformat_minor": 2
}
