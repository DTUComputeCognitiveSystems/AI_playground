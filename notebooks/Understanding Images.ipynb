{
 "cells": [
  {
   "cell_type": "markdown",
   "metadata": {},
   "source": [
    "# Understanding Images\n",
    "\n",
    "This Notebook gives an introduction to how computers represent and work with images. "
   ]
  },
  {
   "cell_type": "code",
   "execution_count": null,
   "metadata": {},
   "outputs": [],
   "source": [
    "%matplotlib inline\n",
    "import numpy as np\n",
    "import matplotlib.pyplot as plt\n",
    "import ipywidgets as widgets\n",
    "from IPython.display import display\n",
    "import sys\n",
    "sys.path.append('..')\n",
    "import os\n",
    "\n",
    "from pathlib import Path\n",
    "if Path.cwd().name == \"notebooks\":\n",
    "    os.chdir(Path.cwd().parent.resolve())\n",
    "print(\"Working directory: {}\".format(Path.cwd()))\n",
    "\n",
    "from notebooks.src.understanding_images import \\\n",
    "    plot_color_scales, \\\n",
    "    PixelViewer, ArtViewer"
   ]
  },
  {
   "cell_type": "code",
   "execution_count": null,
   "metadata": {},
   "outputs": [],
   "source": [
    "%%html\n",
    "<style>\n",
    ".output_wrapper button.btn.btn-default,\n",
    ".output_wrapper .ui-dialog-titlebar {\n",
    "  display: none;\n",
    "}\n",
    "</style>"
   ]
  },
  {
   "cell_type": "markdown",
   "metadata": {},
   "source": [
    "# Pixels\n",
    "\n",
    "Images are digitally represented with so-called **pixels**. A pixel is a single (usually square) unit, which can emit light in various colors and intensities. In the screens of your mobile phone, computer and television are a TON of pixels. The pixels are placed in a tight grid next to eachother and when they all emit light they produce the images that we see.  \n",
    "\n",
    "\n",
    "### Exercise 1\n",
    "For the first exercise we want you to consider how many pixels there are on your phone (or your friends). First write up the expression for computing the total number of pixels on your phone, given the number of pixels onboth sides (width and height). Then use a web-browser to find the specification on your phone are and fill out the blanks below."
   ]
  },
  {
   "cell_type": "markdown",
   "metadata": {},
   "source": [
    "$$\n",
    "Total = \n",
    "$$\n",
    "\n",
    "```\n",
    "Your phone's pixels\n",
    "Width:  \n",
    "Height:  \n",
    "Total:  \n",
    "```"
   ]
  },
  {
   "cell_type": "markdown",
   "metadata": {},
   "source": [
    "This is A LOT of pixels to think about. Luckily our brains are fantastic at handling images overall as we see them on our phones, and we generally do not need to think about each pixel. If we want to work intelligently with images though, we need to understand the basics of how they work.  "
   ]
  },
  {
   "cell_type": "markdown",
   "metadata": {},
   "source": [
    "## RGB\n",
    "A common way of making a pixel for a screen is to put three small diodes of three different colors very close to eachother (basically three small lamps). The three colors given are **Red**, **Green** and **Blue**, giving this method the name: **RGB**. We can now assign an intensity to each diode to give the pixel more or less of each color. With this way of mixing colors we can create all the colors you see on your screens!  \n",
    "\n",
    "If you run the cell below you can see the three diodes of a pixel. You can also see some sliders with the values of the three diodes and a 3D coordinate-system where each axis is a color component.  \n",
    "Right now the diodes are all turned off (black) - try turning them on with the sliders and see how it works!"
   ]
  },
  {
   "cell_type": "code",
   "execution_count": null,
   "metadata": {
    "scrolled": false
   },
   "outputs": [],
   "source": [
    "%matplotlib notebook\n",
    "%matplotlib notebook\n",
    "viewer = PixelViewer(fig_size=(12, 7))\n",
    "viewer.start()"
   ]
  },
  {
   "cell_type": "markdown",
   "metadata": {},
   "source": [
    "Have you tried rotating the boxes/diodes above? (using your mouse)  \n",
    "Try looking at it from above - do you see the color they produce when combined?"
   ]
  },
  {
   "cell_type": "markdown",
   "metadata": {},
   "source": [
    "### Exercise 2\n",
    "The above 3D plot has 8 corners. Use the above sliders to figure out what the color of each of the corners are and write them below. We have filled out the first one for you:"
   ]
  },
  {
   "cell_type": "markdown",
   "metadata": {},
   "source": [
    "```\n",
    "(0, 0, 0): Black\n",
    "(1, 0, 0): \n",
    "```"
   ]
  },
  {
   "cell_type": "markdown",
   "metadata": {},
   "source": [
    "# More Pixels"
   ]
  },
  {
   "cell_type": "markdown",
   "metadata": {},
   "source": [
    "Below are 7 rows of diodes.  \n",
    "\n",
    "Use your mouse to:\n",
    "- Rotate the diodes (left click and drag)\n",
    "- Zoom (right click and drag)  \n",
    "\n",
    "When looking at the diodes from the sides it looks quite complicated, but when looked at from above, allowing the colors to mix, it is very easy to see what the rows represent. "
   ]
  },
  {
   "cell_type": "code",
   "execution_count": null,
   "metadata": {
    "scrolled": false
   },
   "outputs": [],
   "source": [
    "%matplotlib notebook\n",
    "%matplotlib notebook\n",
    "plot_color_scales()"
   ]
  },
  {
   "cell_type": "markdown",
   "metadata": {},
   "source": [
    "### Exercise 3\n",
    "\n",
    "Say we allow the diodes $R$, $G$ and $B$ in a pixel to have intensities 1 to 10, where 10 is the highest intensity.   \n",
    "How many different colors will we be able to make?  \n",
    "What is the general formula for the number of colors $N$ given $n$ different intensities for each diode?"
   ]
  },
  {
   "cell_type": "markdown",
   "metadata": {},
   "source": [
    "$$\n",
    "N_{10} = \n",
    "$$\n",
    "$$\n",
    "N = \n",
    "$$"
   ]
  },
  {
   "cell_type": "markdown",
   "metadata": {},
   "source": [
    "It is comon to have intensities from 0 to 255 for each diode. How many colors do you now have?"
   ]
  },
  {
   "cell_type": "markdown",
   "metadata": {},
   "source": [
    "$$\n",
    "N_{256} = \n",
    "$$"
   ]
  },
  {
   "cell_type": "markdown",
   "metadata": {},
   "source": [
    "## Images\n",
    "If we combine large numbers of pixels we can create images, which our brains are very good at identifying. See if you can recognize some of the figures below (press \"Show!\" to show an image). Once again you can rotate and zoom using the left and right mouse button respectively."
   ]
  },
  {
   "cell_type": "code",
   "execution_count": null,
   "metadata": {},
   "outputs": [],
   "source": [
    "%matplotlib notebook\n",
    "%matplotlib notebook\n",
    "\n",
    "viewer = ArtViewer()\n",
    "viewer.start()"
   ]
  },
  {
   "cell_type": "markdown",
   "metadata": {},
   "source": [
    "### Exercise 4\n",
    "\n",
    "Try activating the button that says \"Show Means/Averages\". What do you think it does?  \n",
    "Can you identify the three new components in the plot?  \n",
    "How does the camera viewpoint work?  \n",
    "\n",
    "Write out your explanation of these parts below"
   ]
  },
  {
   "cell_type": "markdown",
   "metadata": {},
   "source": [
    "```\n",
    "Answer:\n",
    "```"
   ]
  }
 ],
 "metadata": {
  "kernelspec": {
   "display_name": "Python 3",
   "language": "python",
   "name": "python3"
  },
  "language_info": {
   "codemirror_mode": {
    "name": "ipython",
    "version": 3
   },
   "file_extension": ".py",
   "mimetype": "text/x-python",
   "name": "python",
   "nbconvert_exporter": "python",
   "pygments_lexer": "ipython3",
   "version": "3.6.4"
  }
 },
 "nbformat": 4,
 "nbformat_minor": 2
}
