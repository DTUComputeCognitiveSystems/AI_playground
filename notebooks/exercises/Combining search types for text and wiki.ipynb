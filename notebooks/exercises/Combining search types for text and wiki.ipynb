{
 "cells": [
  {
   "cell_type": "code",
   "execution_count": null,
   "metadata": {},
   "outputs": [],
   "source": [
    "try:\n",
    "    with open(\"../global_setup.py\") as setupfile:\n",
    "        exec(setupfile.read())\n",
    "except FileNotFoundError:\n",
    "    print('Setup already completed')"
   ]
  },
  {
   "cell_type": "code",
   "execution_count": null,
   "metadata": {},
   "outputs": [],
   "source": [
    "import pprint"
   ]
  },
  {
   "cell_type": "code",
   "execution_count": null,
   "metadata": {},
   "outputs": [],
   "source": [
    "from src.text.document_retrieval.wikipedia import Wikipedia # Generic Wikipedia class\n",
    "wikipedia = Wikipedia(\n",
    "    language=\"Danish\",\n",
    "    cache_directory_url=False\n",
    ")"
   ]
  },
  {
   "cell_type": "code",
   "execution_count": null,
   "metadata": {},
   "outputs": [],
   "source": [
    "import re\n",
    "# ESA relatedness package\n",
    "from sklearn.feature_extraction.text import TfidfVectorizer\n",
    "\n",
    "class Rsspedia:\n",
    "    def __init__(self, wikipedia: Wikipedia):\n",
    "\n",
    "        self.wikipedia = wikipedia\n",
    "\n",
    "        self.search_results = []\n",
    "        self.content = self.texts = self.wikipedia_results = None\n",
    "        \n",
    "        self._transformer = TfidfVectorizer(stop_words = None, norm = \"l2\", use_idf = True, sublinear_tf = False)\n",
    "        #self._Y = self._transformer.fit_transform(texts)\n",
    "\n",
    "    def loadTexts(self, texts):\n",
    "        self.texts = texts\n",
    "\n",
    "    def display_beautifully(self, titles, texts, urls):\n",
    "        formatted_result_list = [\"<ol>\"]\n",
    "        for i in range(len(titles)):\n",
    "            formatted_result = \"\\n\".join([\n",
    "                \"<li>\",\n",
    "                f\"<p><a href=\\\"{urls[i]}\\\">{titles[i]}</a></p>\",\n",
    "                f\"<p>{texts[i]}</p>\",\n",
    "                \"</li>\"\n",
    "            ])\n",
    "            formatted_result_list.append(formatted_result)\n",
    "        formatted_result_list.append(\"</ol>\")\n",
    "        formatted_results = \"\\n\".join(formatted_result_list)\n",
    "        return formatted_results\n",
    "\n",
    "    def search_wiki(self, search_texts, n_matches = 3, search_type = \"okapibm25\"):\n",
    "        \n",
    "        titles = [] \n",
    "        texts = []\n",
    "        urls = []\n",
    "        \n",
    "        # (1) Remove unnecessary symbols from the search text\n",
    "        pattern = re.compile('[^a-zA-Z0-9åÅøØæÆ ]+', re.UNICODE)\n",
    "\n",
    "        if search_texts:\n",
    "            for i, text in enumerate(search_texts):\n",
    "                # (1) Remove unnecessary symbols from the search text\n",
    "                text = pattern.sub('', text)\n",
    "                \n",
    "                if search_type == \"okapibm25\":\n",
    "                    wikipedia_results, search_terms = self.wikipedia.search(query = text, k_1 = 1.2, b = 0.75)\n",
    "                else if search_type = \"esa_relatedness\":\n",
    "                    \n",
    "                    y = self._transformer.transform([text])\n",
    "                    D = np.array((self._Y * y.T).todense())\n",
    "                    indices = np.argsort(-D, axis=0)\n",
    "                    titles = [self._titles[index] for index in indices[:n_matches, 0]]\n",
    "                    texts = [self._Y[index] for index in indices[:n_matches, 0]]\n",
    "                \n",
    "                for index, score in wikipedia_results[:n_matches].items():\n",
    "                    document = self.wikipedia.documents[index]\n",
    "                    titles.append(document.title)\n",
    "                    texts.append(document.abstract)\n",
    "                    urls.append(document.url)\n",
    "\n",
    "        return titles, texts, urls\n",
    "\n",
    "rsspedia = Rsspedia(wikipedia)\n",
    "titles, texts, urls = rsspedia.search_wiki([\"Professorer om oprettelsen af Skat: 'Utrolig løsagtigt' og 'frygtelig forhastet'\"])\n",
    "pprint.pprint(titles)"
   ]
  },
  {
   "cell_type": "code",
   "execution_count": null,
   "metadata": {},
   "outputs": [],
   "source": [
    "print(wikipedia.documents[1])"
   ]
  },
  {
   "cell_type": "code",
   "execution_count": null,
   "metadata": {},
   "outputs": [],
   "source": []
  }
 ],
 "metadata": {
  "kernelspec": {
   "display_name": "Python 3",
   "language": "python",
   "name": "python3"
  },
  "language_info": {
   "codemirror_mode": {
    "name": "ipython",
    "version": 3
   },
   "file_extension": ".py",
   "mimetype": "text/x-python",
   "name": "python",
   "nbconvert_exporter": "python",
   "pygments_lexer": "ipython3",
   "version": "3.6.6"
  }
 },
 "nbformat": 4,
 "nbformat_minor": 2
}
