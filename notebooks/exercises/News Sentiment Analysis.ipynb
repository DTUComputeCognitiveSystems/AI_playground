{
 "cells": [
  {
   "cell_type": "code",
   "execution_count": null,
   "metadata": {},
   "outputs": [],
   "source": [
    "import feedparser\n",
    "from afinn import Afinn\n",
    "import pandas as pd"
   ]
  },
  {
   "cell_type": "code",
   "execution_count": null,
   "metadata": {},
   "outputs": [],
   "source": [
    "feed = feedparser.parse(\"http://politiken.dk/rss/senestenyt.rss\")\n",
    "afinn = Afinn (language = \"da\", emoticons = True)\n",
    "data_titles = []\n",
    "data_scores = []\n",
    "for i in range(len(feed[\"entries\"])):\n",
    "    data_titles.append(feed[\"entries\"][i][\"title\"])\n",
    "    data_scores.append(afinn.score(feed[\"entries\"][i][\"title\"]))\n",
    "\n",
    "pd.set_option('display.max_colwidth', -1)\n",
    "df = pd.DataFrame({\"Title\": data_titles, \"Score\": data_scores})\n",
    "\n",
    "\n",
    "def highlight(s):\n",
    "    if s.Score > 0:\n",
    "        return ['background-color: green']*3\n",
    "    else:\n",
    "        return ['background-color: red']*3\n",
    "#**Note that the return part should be a list of 10 (corresponding to the number of columns). This is the key part.\n",
    "\n",
    "#Now you can apply this to the dataframe style as:\n",
    "\n",
    "def color_negative_red(val):\n",
    "    import numbers\n",
    "    \"\"\"\n",
    "    Takes a scalar and returns a string with\n",
    "    the css property `'color: red'` for negative\n",
    "    strings, black otherwise.\n",
    "    \"\"\"\n",
    "    if isinstance(val, numbers.Number):\n",
    "        if val < 0:\n",
    "            return 'background-color: red'\n",
    "        elif val > 0:\n",
    "            return 'background-color: green'\n",
    "        else:\n",
    "            return 'background-color: white'\n",
    "    else:\n",
    "        return 'background-color: white'\n",
    "#In this case, the cell’s style depends only on it’s own value. That means we should use the Styler.applymap method which works elementwise.\n",
    "\n",
    "#In [6]:\n",
    "    \n",
    "df.style.applymap(color_negative_red)\n",
    "\n",
    "df.style.apply(highlight, axis=1)\n",
    "\n",
    "\n",
    "df\n",
    "s"
   ]
  },
  {
   "cell_type": "code",
   "execution_count": null,
   "metadata": {},
   "outputs": [],
   "source": []
  },
  {
   "cell_type": "code",
   "execution_count": null,
   "metadata": {},
   "outputs": [],
   "source": []
  }
 ],
 "metadata": {
  "kernelspec": {
   "display_name": "Python 3",
   "language": "python",
   "name": "python3"
  },
  "language_info": {
   "codemirror_mode": {
    "name": "ipython",
    "version": 3
   },
   "file_extension": ".py",
   "mimetype": "text/x-python",
   "name": "python",
   "nbconvert_exporter": "python",
   "pygments_lexer": "ipython3",
   "version": "3.6.6"
  }
 },
 "nbformat": 4,
 "nbformat_minor": 2
}
