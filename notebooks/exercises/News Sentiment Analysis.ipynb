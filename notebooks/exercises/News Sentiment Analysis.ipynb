{
 "cells": [
  {
   "cell_type": "markdown",
   "metadata": {},
   "source": [
    "Global setup"
   ]
  },
  {
   "cell_type": "code",
   "execution_count": null,
   "metadata": {},
   "outputs": [],
   "source": [
    "try:\n",
    "    with open(\"../global_setup.py\") as setupfile:\n",
    "        exec(setupfile.read())\n",
    "except FileNotFoundError:\n",
    "    print('Setup already completed')"
   ]
  },
  {
   "cell_type": "code",
   "execution_count": null,
   "metadata": {},
   "outputs": [],
   "source": [
    "import feedparser # Parsing the RSS feed\n",
    "import pandas as pd # Displaying results in a data-frame\n",
    "from afinn import Afinn # Sentiment analysis package\n",
    "from IPython.core.display import display, HTML # HTML displayer\n",
    "from notebooks.exercises.src.text.rsspedia import Rsspedia # Searching in Wiki for text matches using Okapi BM25\n",
    "from src.text.document_retrieval.wikipedia import Wikipedia # Generic Wikipedia class"
   ]
  },
  {
   "cell_type": "code",
   "execution_count": null,
   "metadata": {},
   "outputs": [],
   "source": [
    "# Get the Politiken RSS feed\n",
    "feed = feedparser.parse(\"http://politiken.dk/rss/senestenyt.rss\")\n",
    "afinn = Afinn(language = \"da\")\n",
    "data_titles = []\n",
    "data_scores = []\n",
    "# Get relevant objects from RSS feed ans store titles and scores\n",
    "for i in range(len(feed[\"entries\"])):\n",
    "    data_titles.append(feed[\"entries\"][i][\"title\"])\n",
    "    data_scores.append(afinn.score(feed[\"entries\"][i][\"title\"]))\n",
    "\n",
    "# Dataframe\n",
    "pd.set_option('display.max_colwidth', -1) # Used to display whole title (non-truncated)\n",
    "df = pd.DataFrame({\"Title\": data_titles, \"Score\": data_scores}) # Creating the data frame and populating it\n",
    "\n",
    "# Highlight the positive and negative sentiments\n",
    "def highlight(s):\n",
    "    if s.Score > 0:\n",
    "        return ['background-color: #AAFFAA']*2\n",
    "    elif s.Score < 0:\n",
    "        return ['background-color: #FFAAAA']*2\n",
    "    else:\n",
    "        return ['background-color: #FFFFFF']*2\n",
    "\n",
    "df = df.style.apply(highlight, axis=1)\n",
    "\n",
    "df"
   ]
  },
  {
   "cell_type": "code",
   "execution_count": null,
   "metadata": {},
   "outputs": [],
   "source": [
    "# Initialize the wikipedia class and (down)load the vocabulary\n",
    "wikipedia = Wikipedia(language=\"danish\", cache_directory_url=None)\n",
    "# Initialize the class to search RSS titles in the Wikipedia\n",
    "rsspedia = Rsspedia(wikipedia)"
   ]
  },
  {
   "cell_type": "code",
   "execution_count": null,
   "metadata": {},
   "outputs": [],
   "source": [
    "rsspedia.search_wikipedia([data_titles[1]])"
   ]
  },
  {
   "cell_type": "code",
   "execution_count": null,
   "metadata": {},
   "outputs": [],
   "source": [
    "print(data_titles[1])\n",
    "display(HTML(rsspedia.search_results))"
   ]
  },
  {
   "cell_type": "code",
   "execution_count": null,
   "metadata": {},
   "outputs": [],
   "source": [
    "from ipywidgets.widgets import Accordion, FloatText, Layout, Label\n",
    "\n",
    "accordion = widgets.Accordion(children=[widgets.Label(), widgets.Text()])\n",
    "accordion.set_title(0, 'Slider')\n",
    "accordion.set_title(1, 'Text')"
   ]
  },
  {
   "cell_type": "code",
   "execution_count": null,
   "metadata": {},
   "outputs": [],
   "source": [
    "from dasem.wikipedia import ExplicitSemanticAnalysis\n",
    "esa = ExplicitSemanticAnalysis()\n",
    "esa.related(u\"Skal Nobelprisen i litteratur reddes fra den synkende svenske skude, så flyt den til Alexandria\".lower())"
   ]
  },
  {
   "cell_type": "code",
   "execution_count": null,
   "metadata": {},
   "outputs": [],
   "source": []
  }
 ],
 "metadata": {
  "kernelspec": {
   "display_name": "Python 3",
   "language": "python",
   "name": "python3"
  },
  "language_info": {
   "codemirror_mode": {
    "name": "ipython",
    "version": 3
   },
   "file_extension": ".py",
   "mimetype": "text/x-python",
   "name": "python",
   "nbconvert_exporter": "python",
   "pygments_lexer": "ipython3",
   "version": "3.6.6"
  }
 },
 "nbformat": 4,
 "nbformat_minor": 2
}
