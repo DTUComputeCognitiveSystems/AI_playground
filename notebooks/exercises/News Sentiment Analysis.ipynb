{
 "cells": [
  {
   "cell_type": "markdown",
   "metadata": {},
   "source": [
    "Global setup"
   ]
  },
  {
   "cell_type": "code",
   "execution_count": null,
   "metadata": {},
   "outputs": [],
   "source": [
    "try:\n",
    "    with open(\"../global_setup.py\") as setupfile:\n",
    "        exec(setupfile.read())\n",
    "except FileNotFoundError:\n",
    "    print('Setup already completed')"
   ]
  },
  {
   "cell_type": "code",
   "execution_count": null,
   "metadata": {},
   "outputs": [],
   "source": [
    "import feedparser\n",
    "from afinn import Afinn\n",
    "import pandas as pd\n",
    "\n",
    "from IPython.core.display import display, HTML\n",
    "\n",
    "from notebooks.exercises.src.text.rsspedia import Rsspedia\n",
    "from src.text.document_retrieval.wikipedia import Wikipedia"
   ]
  },
  {
   "cell_type": "code",
   "execution_count": null,
   "metadata": {},
   "outputs": [],
   "source": [
    "feed = feedparser.parse(\"http://politiken.dk/rss/senestenyt.rss\")\n",
    "afinn = Afinn (language = \"da\", emoticons = True)\n",
    "data_titles = []\n",
    "data_scores = []\n",
    "for i in range(len(feed[\"entries\"])):\n",
    "    data_titles.append(feed[\"entries\"][i][\"title\"])\n",
    "    data_scores.append(afinn.score(feed[\"entries\"][i][\"title\"]))\n",
    "\n",
    "pd.set_option('display.max_colwidth', -1)\n",
    "df = pd.DataFrame({\"Title\": data_titles, \"Score\": data_scores})\n",
    "\n",
    "def highlight(s):\n",
    "    if s.Score > 0:\n",
    "        return ['background-color: #AAFFAA']*2\n",
    "    elif s.Score < 0:\n",
    "        return ['background-color: #FFAAAA']*2\n",
    "    else:\n",
    "        return ['background-color: #FFFFFF']*2\n",
    "\n",
    "d2 = df.style.apply(highlight, axis=1)\n",
    "\n",
    "d2\n"
   ]
  },
  {
   "cell_type": "code",
   "execution_count": null,
   "metadata": {},
   "outputs": [],
   "source": [
    "wikipedia = Wikipedia(\n",
    "    language=\"danish\",\n",
    "    cache_directory_url=None\n",
    ")"
   ]
  },
  {
   "cell_type": "code",
   "execution_count": null,
   "metadata": {},
   "outputs": [],
   "source": [
    "rsspedia = Rsspedia(wikipedia)"
   ]
  },
  {
   "cell_type": "code",
   "execution_count": null,
   "metadata": {},
   "outputs": [],
   "source": [
    "rsspedia.search_wikipedia([data_titles[0]])"
   ]
  },
  {
   "cell_type": "code",
   "execution_count": null,
   "metadata": {},
   "outputs": [],
   "source": [
    "print(data_titles[0])\n",
    "display(HTML(rsspedia.search_results))"
   ]
  },
  {
   "cell_type": "code",
   "execution_count": null,
   "metadata": {},
   "outputs": [],
   "source": []
  }
 ],
 "metadata": {
  "kernelspec": {
   "display_name": "Python 3",
   "language": "python",
   "name": "python3"
  },
  "language_info": {
   "codemirror_mode": {
    "name": "ipython",
    "version": 3
   },
   "file_extension": ".py",
   "mimetype": "text/x-python",
   "name": "python",
   "nbconvert_exporter": "python",
   "pygments_lexer": "ipython3",
   "version": "3.6.6"
  }
 },
 "nbformat": 4,
 "nbformat_minor": 2
}
