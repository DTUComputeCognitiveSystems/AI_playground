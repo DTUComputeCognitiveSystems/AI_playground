{
 "cells": [
  {
   "cell_type": "markdown",
   "metadata": {},
   "source": [
    "Global setup"
   ]
  },
  {
   "cell_type": "code",
   "execution_count": null,
   "metadata": {},
   "outputs": [],
   "source": [
    "try:\n",
    "    with open(\"../global_setup.py\") as setupfile:\n",
    "        exec(setupfile.read())\n",
    "except FileNotFoundError:\n",
    "    print('Setup already completed')"
   ]
  },
  {
   "cell_type": "code",
   "execution_count": null,
   "metadata": {},
   "outputs": [],
   "source": [
    "import feedparser # Parsing the RSS feed\n",
    "import pandas as pd # Displaying results in a data-frame\n",
    "from afinn import Afinn # Sentiment analysis package\n",
    "from IPython.core.display import display#, HTML # HTML displayer\n",
    "from ipywidgets.widgets import Accordion, FloatText, Layout, Label, VBox, HTML, Dropdown\n",
    "\n",
    "from notebooks.exercises.src.text.rsspedia import Rsspedia # Searching in Wiki for text matches using Okapi BM25\n",
    "from src.text.document_retrieval.wikipedia import Wikipedia # Generic Wikipedia class"
   ]
  },
  {
   "cell_type": "code",
   "execution_count": null,
   "metadata": {},
   "outputs": [],
   "source": [
    "RSS_feeds = [('Politiken.dk', 'http://politiken.dk/rss/senestenyt.rss'), \n",
    "             ('DR.dk', 'http://www.dr.dk/Forms/Published/rssNewsFeed.aspx?config=6b82610d-b898-49b2-80ef-85c5642519c3&rss=Yes&rssTitle=DR+Nyheder+Online&overskrift=Politik+-+seneste+20&Url=%2fnyheder%2f'), \n",
    "             ('BT.dk', 'https://www.bt.dk/bt/seneste/rss'),\n",
    "             ('Information.dk', 'https://www.information.dk/feed'),\n",
    "             ('Børsen.dk', 'https://borsen.dk/rss/'),\n",
    "             ('Ekstrabladet.dk', 'http://ekstrabladet.dk/seneste10.rss')\n",
    "]\n",
    "\n",
    "w = Dropdown(\n",
    "    options={'Politiken.dk': 0, \n",
    "             'DR.dk': 1, \n",
    "             'BT.dk': 2,\n",
    "             'Information.dk': 3,\n",
    "             'Børsen.dk': 4,\n",
    "             'Ekstrabladet.dk': 5\n",
    "    },\n",
    "    value=1,\n",
    "    description='Vælg nyhedskilde:',\n",
    "    disabled=False,\n",
    ")\n",
    "containter = VBox((w, HTML(value = \"\",)),)\n",
    "\n",
    "def on_change(change):\n",
    "    if change['type'] == 'change' and change['name'] == 'value':\n",
    "        clear_output()\n",
    "        global container\n",
    "        containter.value = \"\"\n",
    "        #print(RSS_feeds[change['new']])\n",
    "        feed = feedparser.parse(RSS_feeds[change['new']][1])\n",
    "\n",
    "        afinn = Afinn(language = \"da\")\n",
    "        data_titles = []\n",
    "        data_scores = []\n",
    "        # Get relevant objects from RSS feed ans store titles and scores\n",
    "        for i in range(len(feed[\"entries\"])):\n",
    "            data_titles.append(feed[\"entries\"][i][\"title\"])\n",
    "            data_scores.append(afinn.score(feed[\"entries\"][i][\"title\"]))\n",
    "\n",
    "        # Dataframe\n",
    "        pd.set_option('display.max_colwidth', -1) # Used to display whole title (non-truncated)\n",
    "        df = pd.DataFrame({\"Title\": data_titles, \"Score\": data_scores}) # Creating the data frame and populating it\n",
    "\n",
    "        # Highlight the positive and negative sentiments\n",
    "        def highlight(s):\n",
    "            if s.Score > 0:\n",
    "                return ['background-color: #AAFFAA']*2\n",
    "            elif s.Score < 0:\n",
    "                return ['background-color: #FFAAAA']*2\n",
    "            else:\n",
    "                return ['background-color: #FFFFFF']*2\n",
    "\n",
    "        df = df.style.apply(highlight, axis=1)\n",
    "\n",
    "        containter.value = df\n",
    "        display(container)\n",
    "\n",
    "w.observe(on_change)\n",
    "\n",
    "display(containter)"
   ]
  },
  {
   "cell_type": "code",
   "execution_count": null,
   "metadata": {},
   "outputs": [],
   "source": [
    "from notebooks.exercises.src.text.news_sentiment_1 import RSSDashboard\n",
    "dashboard = RSSDashboard()\n",
    "dashboard.start"
   ]
  },
  {
   "cell_type": "code",
   "execution_count": null,
   "metadata": {},
   "outputs": [],
   "source": [
    "# Get the Politiken RSS feed\n",
    "#feed = feedparser.parse(\"http://politiken.dk/rss/senestenyt.rss\")\n",
    "#feed = feedparser.parse(\"http://www.dr.dk/Forms/Published/rssNewsFeed.aspx?config=6b82610d-b898-49b2-80ef-85c5642519c3&rss=Yes&rssTitle=DR+Nyheder+Online&overskrift=Politik+-+seneste+20&Url=%2fnyheder%2f\")\n",
    "#feed = feedparser.parse(\"https://www.bt.dk/bt/seneste/rss\")\n",
    "#feed = feedparser.parse(\"https://www.information.dk/feed\")\n",
    "#feed = feedparser.parse(\"https://borsen.dk/rss/\")\n",
    "feed = feedparser.parse(\"http://ekstrabladet.dk/seneste10.rss\")\n",
    "\n",
    "afinn = Afinn(language = \"da\")\n",
    "data_titles = []\n",
    "data_scores = []\n",
    "# Get relevant objects from RSS feed ans store titles and scores\n",
    "for i in range(len(feed[\"entries\"])):\n",
    "    data_titles.append(feed[\"entries\"][i][\"title\"])\n",
    "    data_scores.append(afinn.score(feed[\"entries\"][i][\"title\"]))\n",
    "\n",
    "# Dataframe\n",
    "pd.set_option('display.max_colwidth', -1) # Used to display whole title (non-truncated)\n",
    "df = pd.DataFrame({\"Title\": data_titles, \"Score\": data_scores}) # Creating the data frame and populating it\n",
    "\n",
    "# Highlight the positive and negative sentiments\n",
    "def highlight(s):\n",
    "    if s.Score > 0:\n",
    "        return ['background-color: #AAFFAA']*2\n",
    "    elif s.Score < 0:\n",
    "        return ['background-color: #FFAAAA']*2\n",
    "    else:\n",
    "        return ['background-color: #FFFFFF']*2\n",
    "\n",
    "df = df.style.apply(highlight, axis=1)\n",
    "\n",
    "df"
   ]
  },
  {
   "cell_type": "code",
   "execution_count": null,
   "metadata": {},
   "outputs": [],
   "source": [
    "# Initialize the wikipedia class and (down)load the vocabulary\n",
    "wikipedia = Wikipedia(language=\"danish\", cache_directory_url=None)\n",
    "# Initialize the class to search RSS titles in the Wikipedia\n",
    "rsspedia = Rsspedia(wikipedia)"
   ]
  },
  {
   "cell_type": "code",
   "execution_count": null,
   "metadata": {},
   "outputs": [],
   "source": [
    "rsspedia.search_wikipedia(data_titles)"
   ]
  },
  {
   "cell_type": "code",
   "execution_count": null,
   "metadata": {},
   "outputs": [],
   "source": [
    "#print(data_titles[1])\n",
    "#import pprint\n",
    "#pprint.pprint(rsspedia.search_results)\n",
    "#display(HTML(rsspedia.search_results))"
   ]
  },
  {
   "cell_type": "code",
   "execution_count": null,
   "metadata": {},
   "outputs": [],
   "source": [
    "list_labels = []\n",
    "for i in range(len(feed[\"entries\"])):\n",
    "    list_labels.append(HTML(value = rsspedia.search_results[i]))\n",
    "\n",
    "accordion = Accordion(children = (list_labels),)\n",
    "\n",
    "for i in range(len(feed[\"entries\"])):\n",
    "    accordion.set_title(i, \"{}. {}\".format(i + 1, data_titles[i]))\n",
    "\n",
    "display(accordion)"
   ]
  },
  {
   "cell_type": "code",
   "execution_count": null,
   "metadata": {},
   "outputs": [],
   "source": [
    "from dasem.wikipedia import ExplicitSemanticAnalysis\n",
    "#esa.related(u\"Skal Nobelprisen i litteratur reddes fra den synkende svenske skude, så flyt den til Alexandria\".lower())"
   ]
  },
  {
   "cell_type": "code",
   "execution_count": null,
   "metadata": {},
   "outputs": [],
   "source": [
    "esa = ExplicitSemanticAnalysis()"
   ]
  },
  {
   "cell_type": "code",
   "execution_count": null,
   "metadata": {},
   "outputs": [],
   "source": [
    "#esa.related(u\"Skal Nobelprisen i litteratur reddes fra den synkende svenske skude, så flyt den til Alexandria\".lower())"
   ]
  },
  {
   "cell_type": "code",
   "execution_count": null,
   "metadata": {
    "scrolled": true
   },
   "outputs": [],
   "source": [
    "#import nltk\n",
    "#nltk.download('punkt')\n",
    "\n",
    "list_labels = []\n",
    "for i in range(len(feed[\"entries\"])):\n",
    "    list_labels.append(HTML(value = str(esa.related(data_titles[i].lower(), n = 3))))\n",
    "\n",
    "accordion = Accordion(children = (list_labels),)\n",
    "\n",
    "for i in range(len(feed[\"entries\"])):\n",
    "    accordion.set_title(i, \"{}. {}\".format(i + 1, data_titles[i]))\n",
    "\n",
    "display(accordion)"
   ]
  },
  {
   "cell_type": "code",
   "execution_count": null,
   "metadata": {},
   "outputs": [],
   "source": [
    "r = rsspedia.search_wikipedia([esa.related(data_titles[0].lower(), n = 3)[0][1]])\n",
    "print(r)"
   ]
  },
  {
   "cell_type": "code",
   "execution_count": null,
   "metadata": {},
   "outputs": [],
   "source": [
    "print([esa.related(data_titles[0].lower(), n = 3)[0][1]])"
   ]
  },
  {
   "cell_type": "code",
   "execution_count": null,
   "metadata": {},
   "outputs": [],
   "source": []
  }
 ],
 "metadata": {
  "kernelspec": {
   "display_name": "Python 3",
   "language": "python",
   "name": "python3"
  },
  "language_info": {
   "codemirror_mode": {
    "name": "ipython",
    "version": 3
   },
   "file_extension": ".py",
   "mimetype": "text/x-python",
   "name": "python",
   "nbconvert_exporter": "python",
   "pygments_lexer": "ipython3",
   "version": "3.6.6"
  }
 },
 "nbformat": 4,
 "nbformat_minor": 2
}
