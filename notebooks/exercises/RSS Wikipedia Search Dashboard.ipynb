{
 "cells": [
  {
   "cell_type": "code",
   "execution_count": null,
   "metadata": {},
   "outputs": [],
   "source": [
    "try:\n",
    "    with open(\"../global_setup.py\") as setupfile:\n",
    "        exec(setupfile.read())\n",
    "except FileNotFoundError:\n",
    "    print('Setup already completed')"
   ]
  },
  {
   "cell_type": "code",
   "execution_count": null,
   "metadata": {},
   "outputs": [],
   "source": [
    "%%html\n",
    "<style>\n",
    ".output_wrapper, .output {\n",
    "    height:auto !important;\n",
    "    max-height: 10000px;\n",
    "}\n",
    "</style>"
   ]
  },
  {
   "cell_type": "code",
   "execution_count": null,
   "metadata": {},
   "outputs": [],
   "source": [
    "from notebooks.exercises.src.text.news_wiki_dashboard import RSSWikiDashboard"
   ]
  },
  {
   "cell_type": "code",
   "execution_count": null,
   "metadata": {},
   "outputs": [],
   "source": [
    "from src.text.document_retrieval.wikipedia import Wikipedia\n",
    "\n",
    "from notebooks.exercises.src.text.news_wiki_search_init import RsspediaInit"
   ]
  },
  {
   "cell_type": "code",
   "execution_count": null,
   "metadata": {},
   "outputs": [],
   "source": [
    "wikipedia = Wikipedia(\n",
    "    language=\"Danish\",\n",
    "    cache_directory_url=False\n",
    ")\n",
    "rss_search_init = RsspediaInit(wikipedia = wikipedia)"
   ]
  },
  {
   "cell_type": "code",
   "execution_count": null,
   "metadata": {},
   "outputs": [],
   "source": [
    "rsswdb = RSSWikiDashboard(wikipedia, rss_search_init)\n",
    "rsswdb.start"
   ]
  },
  {
   "cell_type": "code",
   "execution_count": null,
   "metadata": {},
   "outputs": [],
   "source": [
    "r = rsswdb.rsspedia_search.cdist_func([rss_search_init.sumVectorRepresentation(\"6\")],\n",
    "    [rss_search_init.sumVectorRepresentation(\"Guide Anmelderne anbefaler 6 gode spisesteder med pasta på menuen\")])"
   ]
  },
  {
   "cell_type": "code",
   "execution_count": null,
   "metadata": {},
   "outputs": [],
   "source": [
    "import numpy as np\n",
    "\n",
    "text = \"10\"\n",
    "n_matches = 3\n",
    "p = 0.5\n",
    "\n",
    "ngrams = rsswdb.rsspedia_search.get_ngrams(text)\n",
    "\n",
    "r = []\n",
    "titles = [] \n",
    "texts = []\n",
    "urls = []\n",
    "scores = []\n",
    "        \n",
    "for i in range(len(ngrams)):\n",
    "    cdist_result = rsswdb.rsspedia_search.cdist_func(rsswdb.rsspedia_search.wikipedia_title_vectors, [rsswdb.rsspedia_search.rsspediainit.sumVectorRepresentation(text = ngrams[i], type = rsswdb.rsspedia_search.embedding_composition)])\n",
    "    cdist_result2 = rsswdb.rsspedia_search.cdist_func([rsswdb.rsspedia_search.rsspediainit.sumVectorRepresentation(text = text, type = rsswdb.rsspedia_search.embedding_composition)], [rsswdb.rsspedia_search.rsspediainit.sumVectorRepresentation(text = ngrams[i], type = rsswdb.rsspedia_search.embedding_composition)])\n",
    "\n",
    "    cdist_list1 = cdist_result[1] # List of all the cosine distances\n",
    "    cdist_list2 = cdist_result2[1]\n",
    "    cdist_list = (cdist_list1 * p + cdist_list2 * (1 - p))\n",
    "    cdist_list_sorted = np.sort(cdist_list, axis = 0) # Sorted list of cosine distances - to get top N matches\n",
    "\n",
    "    for j in range(n_matches):\n",
    "        if(cdist_list[x]):\n",
    "            x = np.where(cdist_list == cdist_list_sorted[j])[0]\n",
    "        else:\n",
    "            continue"
   ]
  },
  {
   "cell_type": "code",
   "execution_count": null,
   "metadata": {},
   "outputs": [],
   "source": [
    "# Transform into list of tuples\n",
    "r = [ (r[i][0][0], r[i][1][0]) for i in range(len(r))]\n",
    "# Sort the list of tuples by cosine distance\n",
    "r = sorted(r, key=lambda tup: tup[1])\n",
    "\n",
    "for i in range(len(r)):\n",
    "    document = rsswdb.rsspedia_search.wikipedia.documents_clean[r[i][0]]\n",
    "    titles.append(document.title)\n",
    "    #print(\"{} {}\".format(document.title, r[i][1]))\n",
    "    texts.append(document.abstract)\n",
    "    urls.append(document.url)\n",
    "    scores.append(r[i][1])"
   ]
  },
  {
   "cell_type": "code",
   "execution_count": null,
   "metadata": {},
   "outputs": [],
   "source": [
    "import pprint\n",
    "pprint.pprint(titles)"
   ]
  },
  {
   "cell_type": "code",
   "execution_count": null,
   "metadata": {},
   "outputs": [],
   "source": []
  }
 ],
 "metadata": {
  "kernelspec": {
   "display_name": "Python 3",
   "language": "python",
   "name": "python3"
  },
  "language_info": {
   "codemirror_mode": {
    "name": "ipython",
    "version": 3
   },
   "file_extension": ".py",
   "mimetype": "text/x-python",
   "name": "python",
   "nbconvert_exporter": "python",
   "pygments_lexer": "ipython3",
   "version": "3.6.6"
  }
 },
 "nbformat": 4,
 "nbformat_minor": 2
}
