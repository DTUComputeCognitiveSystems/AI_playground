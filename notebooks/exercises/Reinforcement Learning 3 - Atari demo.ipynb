{
 "cells": [
  {
   "cell_type": "code",
   "execution_count": 1,
   "metadata": {},
   "outputs": [
    {
     "name": "stderr",
     "output_type": "stream",
     "text": [
      "/home/ralars/.local/lib/python3.6/site-packages/h5py/__init__.py:36: FutureWarning: Conversion of the second argument of issubdtype from `float` to `np.floating` is deprecated. In future, it will be treated as `np.float64 == np.dtype(float).type`.\n  from ._conv import register_converters as _register_converters\n"
     ]
    }
   ],
   "source": [
    "from src.rl.NatureDQN import NatureDQN\n",
    "from src.rl.AtariAgent import AtariAgent\n",
    "from src.rl.util import run_episode\n",
    "from tqdm import tqdm\n",
    "import gym\n",
    "\n",
    "config = {'conv_layers': 3,\n",
    "          'conv_units': [32, 64, 64],\n",
    "          'filter_sizes': [8, 4, 3],\n",
    "          'strides': [4, 2, 1],\n",
    "          'state_frames': 4,\n",
    "          'fc_layers': 1,\n",
    "          'fc_units': [512],\n",
    "          'in_width': 84,\n",
    "          'in_height': 84,\n",
    "          'discount': 0.99,\n",
    "          'device': '/gpu:0',\n",
    "          'lr': 0.00025,\n",
    "          'opt_decay': 0.95,\n",
    "          'momentum': 0.0,\n",
    "          'opt_eps': 0.01,\n",
    "          'clip_delta': 1.0,\n",
    "          'tensorboard': False,\n",
    "          'tensorboard_freq': 50,\n",
    "          'ckpt': 0,\n",
    "          'random_seed': 42,\n",
    "          'hist_size': 1e6,\n",
    "          'batch_size': 32,\n",
    "          'eps': 1.0,\n",
    "          \n",
    "          }\n",
    "\n",
    "env = gym.make('Breakout-v4')\n",
    "config['num_actions'] = env.action_space.n\n",
    "net = NatureDQN(config)\n",
    "#net.load('src/rl/trained/breakout')\n",
    "agent = AtariAgent(env, net, config)\n"
   ]
  },
  {
   "cell_type": "code",
   "execution_count": 2,
   "metadata": {},
   "outputs": [
    {
     "data": {
      "text/plain": [
       "(210, 160, 3)"
      ]
     },
     "execution_count": 2,
     "metadata": {},
     "output_type": "execute_result"
    }
   ],
   "source": [
    "s = env.reset()\n",
    "s.shape"
   ]
  },
  {
   "cell_type": "code",
   "execution_count": 3,
   "metadata": {},
   "outputs": [
    {
     "data": {
      "text/plain": [
       "1.0"
      ]
     },
     "execution_count": 3,
     "metadata": {},
     "output_type": "execute_result"
    }
   ],
   "source": [
    "run_episode(env, agent, render=True, render_delay=0.03)"
   ]
  },
  {
   "cell_type": "code",
   "execution_count": 4,
   "metadata": {},
   "outputs": [
    {
     "name": "stderr",
     "output_type": "stream",
     "text": [
      "\r  0%|          | 0/10 [00:00<?, ?it/s]"
     ]
    },
    {
     "name": "stderr",
     "output_type": "stream",
     "text": [
      "\r 10%|█         | 1/10 [00:05<00:50,  5.59s/it]"
     ]
    },
    {
     "name": "stderr",
     "output_type": "stream",
     "text": [
      "\r 20%|██        | 2/10 [00:10<00:41,  5.23s/it]"
     ]
    },
    {
     "name": "stderr",
     "output_type": "stream",
     "text": [
      "\r 30%|███       | 3/10 [00:18<00:42,  6.03s/it]"
     ]
    },
    {
     "name": "stderr",
     "output_type": "stream",
     "text": [
      "\r 40%|████      | 4/10 [00:28<00:42,  7.07s/it]"
     ]
    },
    {
     "name": "stderr",
     "output_type": "stream",
     "text": [
      "\r 50%|█████     | 5/10 [00:35<00:35,  7.13s/it]"
     ]
    },
    {
     "name": "stderr",
     "output_type": "stream",
     "text": [
      "\r 60%|██████    | 6/10 [00:41<00:27,  6.95s/it]"
     ]
    },
    {
     "name": "stderr",
     "output_type": "stream",
     "text": [
      "\r 70%|███████   | 7/10 [00:55<00:23,  7.91s/it]"
     ]
    },
    {
     "name": "stderr",
     "output_type": "stream",
     "text": [
      "\r 80%|████████  | 8/10 [01:08<00:17,  8.51s/it]"
     ]
    },
    {
     "name": "stderr",
     "output_type": "stream",
     "text": [
      "\r 90%|█████████ | 9/10 [01:14<00:08,  8.28s/it]"
     ]
    },
    {
     "name": "stderr",
     "output_type": "stream",
     "text": [
      "\r100%|██████████| 10/10 [01:22<00:00,  8.21s/it]"
     ]
    },
    {
     "name": "stderr",
     "output_type": "stream",
     "text": [
      "\n"
     ]
    },
    {
     "name": "stdout",
     "output_type": "stream",
     "text": [
      "Trained for  10  episodes. Last episode achieved a reward of  2.0\n"
     ]
    },
    {
     "data": {
      "text/plain": [
       "[0.0, 0.0, 3.0, 3.0, 1.0, 1.0, 6.0, 5.0, 1.0, 2.0]"
      ]
     },
     "execution_count": 4,
     "metadata": {},
     "output_type": "execute_result"
    }
   ],
   "source": [
    "def run_experiment(env, agent, epsilon_decay, n_episodes) -> list:\n",
    "    rewards = []\n",
    "    for i in tqdm(range(n_episodes)):\n",
    "        agent.reset()\n",
    "        sum_r = run_episode(env, agent, learn=True)\n",
    "        rewards.append(sum_r)\n",
    "        agent.eps *= epsilon_decay\n",
    "        if i % 1e4 == 0:\n",
    "            agent.sync_target()\n",
    "    agent.epsilon = 0\n",
    "    sum_r = run_episode(env, agent)\n",
    "    print('Trained for ', n_episodes, ' episodes. Last episode achieved a reward of ', sum_r)     \n",
    "    return rewards\n",
    "\n",
    "\n",
    "run_experiment(env, agent, 9e-7, 10)"
   ]
  }
 ],
 "metadata": {
  "kernelspec": {
   "display_name": "Python 3",
   "language": "python",
   "name": "python3"
  },
  "language_info": {
   "codemirror_mode": {
    "name": "ipython",
    "version": 3
   },
   "file_extension": ".py",
   "mimetype": "text/x-python",
   "name": "python",
   "nbconvert_exporter": "python",
   "pygments_lexer": "ipython3",
   "version": "3.6.5"
  }
 },
 "nbformat": 4,
 "nbformat_minor": 2
}
