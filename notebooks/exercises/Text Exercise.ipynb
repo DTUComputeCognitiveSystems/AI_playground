{
 "cells": [
  {
   "cell_type": "markdown",
   "metadata": {},
   "source": [
    "# Text Exercise\n",
    "In this notebook we will show some interesting AI-tools used on textual data!"
   ]
  },
  {
   "cell_type": "code",
   "execution_count": null,
   "metadata": {},
   "outputs": [],
   "source": [
    "%matplotlib inline\n",
    "%matplotlib notebook\n",
    "import os \n",
    "import sys\n",
    "from pathlib import Path\n",
    "import numpy as np\n",
    "import matplotlib.pyplot as plt\n",
    "\n",
    "levels_below = list(reversed(Path.cwd().parts)).index(\"AI_playground\")\n",
    "os.chdir(str(Path(*Path.cwd().parts[:-levels_below])))\n",
    "print(\"Working directory: {}\".format(Path.cwd()))\n",
    "\n",
    "from src.text.sentiment import SentimentHighlighter\n",
    "from src.real_time.text_input_backend import TextInputLoop"
   ]
  },
  {
   "cell_type": "code",
   "execution_count": null,
   "metadata": {},
   "outputs": [],
   "source": [
    "%%html\n",
    "<style>\n",
    ".output_wrapper button.btn.btn-default,\n",
    ".output_wrapper .ui-dialog-titlebar {\n",
    "  display: none;\n",
    "}\n",
    "</style>"
   ]
  },
  {
   "cell_type": "markdown",
   "metadata": {},
   "source": [
    "## Sentiment Analysis\n",
    "In the below cells you can write text and have its words highlighted according to their sentiment. "
   ]
  },
  {
   "cell_type": "code",
   "execution_count": null,
   "metadata": {
    "scrolled": false
   },
   "outputs": [],
   "source": [
    "%matplotlib notebook\n",
    "%matplotlib notebook\n",
    "plt.close(\"all\")\n",
    "the_backend = TextInputLoop(use_widget=True)\n",
    "the_backend.add_interface(SentimentHighlighter(the_backend))\n",
    "the_backend.start()"
   ]
  }
 ],
 "metadata": {
  "kernelspec": {
   "display_name": "Python 3",
   "language": "python",
   "name": "python3"
  },
  "language_info": {
   "codemirror_mode": {
    "name": "ipython",
    "version": 3
   },
   "file_extension": ".py",
   "mimetype": "text/x-python",
   "name": "python",
   "nbconvert_exporter": "python",
   "pygments_lexer": "ipython3",
   "version": "3.6.4"
  }
 },
 "nbformat": 4,
 "nbformat_minor": 2
}
