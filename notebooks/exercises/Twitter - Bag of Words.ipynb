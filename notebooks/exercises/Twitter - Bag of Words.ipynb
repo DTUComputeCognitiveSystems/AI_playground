{
  "cells": [
    {
      "cell_type": "markdown",
      "source": [
        "# Twitter – Bag of Words"
      ],
      "metadata": {}
    },
    {
      "cell_type": "markdown",
      "source": [
        "**Global setup**"
      ],
      "metadata": {}
    },
    {
      "cell_type": "code",
      "source": [
        "try:\n",
        "    with open(\"../global_setup.py\") as setupfile:\n",
        "        exec(setupfile.read())\n",
        "except FileNotFoundError:\n",
        "    print('Setup already completed')"
      ],
      "outputs": [],
      "execution_count": null,
      "metadata": {}
    },
    {
      "cell_type": "markdown",
      "source": [
        "**Local setup**"
      ],
      "metadata": {}
    },
    {
      "cell_type": "code",
      "source": [
        "from pathlib import Path\n",
        "import json\n",
        "\n",
        "from src.text.twitter.twitter_client import TwitterClient\n",
        "from notebooks.exercises.src.text.bag_of_words import BagOfWords\n",
        "from src.utility.files import ensure_directory\n",
        "\n",
        "%matplotlib notebook\n",
        "\n",
        "authentication_path = Path(\"data\", \"twitter\", \"authentication.json\")\n",
        "ensure_directory(authentication_path)"
      ],
      "outputs": [],
      "execution_count": null,
      "metadata": {}
    },
    {
      "cell_type": "markdown",
      "source": [
        "## Introduction\n",
        "\nA bag-of-words representation is a way to represent documents by counting distinct words in each document. First, the distinct words for a set of documents (also called a corpus) is found. This is called the vocabulary. Then for each document the number of occurences of each distinct word is counted."
      ],
      "metadata": {}
    },
    {
      "cell_type": "markdown",
      "source": [
        "### Example\n",
        "\n",
        "To show how this is done, we first need a corpus. We start with a fictional corpus of tweets.\n",
        "\nA new Twitter user with limited vocabulary might tweet something like the following:"
      ],
      "metadata": {}
    },
    {
      "cell_type": "code",
      "source": [
        "fictional_tweets = [\n",
        "    \"This is my first tweet!\",\n",
        "    \"My second tweet is not like my first tweet.\",\n",
        "    \"I really like to tweet in my own words. This is fun.\",\n",
        "    \"I'm running out of things to tweet.\",\n",
        "    \"I don't really like to tweet anymore.\"\n",
        "]"
      ],
      "outputs": [],
      "execution_count": null,
      "metadata": {
        "inputHidden": false,
        "outputHidden": false
      }
    },
    {
      "cell_type": "markdown",
      "source": [
        "We start by focusing on the first tweet."
      ],
      "metadata": {}
    },
    {
      "cell_type": "code",
      "source": [
        "one_tweet_bag_of_words = BagOfWords(fictional_tweets[0])\n",
        "one_tweet_bag_of_words.plot()"
      ],
      "outputs": [],
      "execution_count": null,
      "metadata": {
        "inputHidden": false,
        "outputHidden": false
      }
    },
    {
      "cell_type": "markdown",
      "source": [
        "Including the second tweet."
      ],
      "metadata": {}
    },
    {
      "cell_type": "code",
      "source": [
        "two_tweet_bag_of_words = BagOfWords(fictional_tweets[0:2])\n",
        "two_tweet_bag_of_words.plot()"
      ],
      "outputs": [],
      "execution_count": null,
      "metadata": {
        "inputHidden": false,
        "outputHidden": false
      }
    },
    {
      "cell_type": "markdown",
      "source": [
        "All tweets:"
      ],
      "metadata": {}
    },
    {
      "cell_type": "code",
      "source": [
        "fictional_bag_of_words = BagOfWords(fictional_tweets)\n",
        "fictional_bag_of_words.plot()"
      ],
      "outputs": [],
      "execution_count": null,
      "metadata": {
        "inputHidden": false,
        "outputHidden": false
      }
    },
    {
      "cell_type": "markdown",
      "source": [
        "### tf-idf\n",
        "\n"
      ],
      "metadata": {}
    },
    {
      "cell_type": "code",
      "source": [
        "fictional_bag_of_words.plot(tfidf=True)"
      ],
      "outputs": [],
      "execution_count": null,
      "metadata": {
        "inputHidden": false,
        "outputHidden": false
      }
    },
    {
      "cell_type": "markdown",
      "source": [
        "### Questions\n",
        "\n",
        "1. Why not use a set of real tweets instead of the fictional tweets?\n",
        "    * Little overlap between document vocabulary for small sets.\n",
        "2. Try to replacing the fictional tweets."
      ],
      "metadata": {}
    },
    {
      "cell_type": "markdown",
      "source": [
        "## Real tweets"
      ],
      "metadata": {}
    },
    {
      "cell_type": "code",
      "source": [
        "# For easier development, the consumer key and secret can be read from a file\n",
        "use_file = True\n",
        "consumer_key = \"\"\n",
        "consumer_secret = \"\"\n",
        "\n",
        "if use_file:\n",
        "    twitter = TwitterClient.authenticate_from_path()\n",
        "    \n",
        "else:\n",
        "    twitter = TwitterClient(consumer_key, consumer_secret)\n",
        "    twitter.save_authentication_to_path()"
      ],
      "outputs": [],
      "execution_count": null,
      "metadata": {}
    },
    {
      "cell_type": "markdown",
      "source": [
        "Next, we are fetching some tweets:"
      ],
      "metadata": {}
    },
    {
      "cell_type": "code",
      "source": [
        "tweets = twitter.search(\"#AI\", count=10)"
      ],
      "outputs": [],
      "execution_count": null,
      "metadata": {
        "inputHidden": false,
        "outputHidden": false
      }
    },
    {
      "cell_type": "markdown",
      "source": [
        "Then, we extract the text from each tweet:"
      ],
      "metadata": {}
    },
    {
      "cell_type": "code",
      "source": [
        "tweet_texts = [\n",
        "    tweet.text_excluding(\n",
        "        hashtags=False,\n",
        "        mentions=False,\n",
        "        urls=False\n",
        "    )\n",
        "    for tweet in tweets\n",
        "]"
      ],
      "outputs": [],
      "execution_count": null,
      "metadata": {
        "inputHidden": false,
        "outputHidden": false
      }
    },
    {
      "cell_type": "markdown",
      "source": [
        "Both bag-of-words matrix and tf-idf transformed one."
      ],
      "metadata": {}
    },
    {
      "cell_type": "code",
      "source": [
        "bag_of_words = BagOfWords(tweet_texts)\n",
        "bag_of_words.plot()"
      ],
      "outputs": [],
      "execution_count": null,
      "metadata": {
        "inputHidden": false,
        "outputHidden": false
      }
    },
    {
      "cell_type": "code",
      "source": [
        "bag_of_words.filter_vocabulary([\n",
        "    lambda word: word.isdigit() and int(word) > 1e15\n",
        "])\n",
        "bag_of_words.plot()"
      ],
      "outputs": [],
      "execution_count": null,
      "metadata": {
        "collapsed": false,
        "outputHidden": false,
        "inputHidden": false
      }
    },
    {
      "cell_type": "code",
      "source": [
        "bag_of_words.plot(tfidf=True)"
      ],
      "outputs": [],
      "execution_count": null,
      "metadata": {
        "inputHidden": false,
        "outputHidden": false
      }
    },
    {
      "cell_type": "code",
      "source": [],
      "outputs": [],
      "execution_count": null,
      "metadata": {
        "inputHidden": false,
        "outputHidden": false
      }
    }
  ],
  "metadata": {
    "kernel_info": {
      "name": "python3"
    },
    "kernelspec": {
      "name": "python3",
      "language": "python",
      "display_name": "Python 3"
    },
    "language_info": {
      "name": "python",
      "version": "3.6.5",
      "mimetype": "text/x-python",
      "codemirror_mode": {
        "name": "ipython",
        "version": 3
      },
      "pygments_lexer": "ipython3",
      "nbconvert_exporter": "python",
      "file_extension": ".py"
    },
    "nteract": {
      "version": "0.8.4"
    }
  },
  "nbformat": 4,
  "nbformat_minor": 2
}