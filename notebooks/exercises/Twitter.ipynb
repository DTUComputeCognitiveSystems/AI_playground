{
 "cells": [
  {
   "cell_type": "markdown",
   "metadata": {},
   "source": [
    "# Twitter"
   ]
  },
  {
   "cell_type": "markdown",
   "metadata": {},
   "source": [
    "**Global setup**"
   ]
  },
  {
   "cell_type": "code",
   "execution_count": null,
   "metadata": {},
   "outputs": [],
   "source": [
    "try:\n",
    "    with open(\"../global_setup.py\") as setupfile:\n",
    "        exec(setupfile.read())\n",
    "except FileNotFoundError:\n",
    "    print('Setup already completed')"
   ]
  },
  {
   "cell_type": "markdown",
   "metadata": {},
   "source": [
    "**Local setup**"
   ]
  },
  {
   "cell_type": "code",
   "execution_count": null,
   "metadata": {},
   "outputs": [],
   "source": [
    "from pathlib import Path\n",
    "import json\n",
    "\n",
    "from src.text.twitter.twitter_client import TwitterClient\n",
    "from src.text.twitter.twitter_analyze import TwitterSentimentViewer\n",
    "from src.utility.files import ensure_directory\n",
    "\n",
    "authentication_path = Path(\"data\", \"twitter\", \"authentication.json\")\n",
    "ensure_directory(authentication_path)"
   ]
  },
  {
   "cell_type": "markdown",
   "metadata": {},
   "source": [
    "## Setup\n",
    "\n",
    "1. Create an account on [Twitter](https://twitter.com) (if you don't have any or want one specifically for this course).\n",
    "\t* You are only going to use this account to download tweets.\n",
    "2. Create a new app in [Twitter Application Management](https://apps.twitter.com/).\n",
    "\t* Name: \"DTU CogSys's AI Playground\"\n",
    "\t* Description: \"Application to pull tweets from Twitter for use in DTU CogSys's AI Playground\"\n",
    "\t* Website: <https://github.com/DTUComputeCognitiveSystems/AI_playground>\n",
    "\t* Read and agree to [Twitter's developer agreement and policy](https://dev.twitter.com/overview/terms/agreement-and-policy)\n",
    "3. Copy the consumer key and secret and paste below.\n",
    "\t* In the \"Keys and Access Tokens\" tab under \"Application Settings\""
   ]
  },
  {
   "cell_type": "code",
   "execution_count": null,
   "metadata": {},
   "outputs": [],
   "source": [
    "# For easier development, the consumer key and secret can be read from a file\n",
    "use_file = True\n",
    "\n",
    "# Load from file\n",
    "if use_file and authentication_path.exists():\n",
    "\n",
    "    with open(authentication_path, \"r\") as authentication_file:\n",
    "        authentication = json.loads(authentication_file.read())\n",
    "\n",
    "    consumer_key = authentication[\"consumer_key\"]\n",
    "    consumer_secret = authentication[\"consumer_secret\"]\n",
    "    \n",
    "# Alternatively, they can be set manually - and saved\n",
    "else:\n",
    "    consumer_key = \"\"\n",
    "    consumer_secret = \"\"\n",
    "    \n",
    "    with open(authentication_path, \"w\") as authentication_file:\n",
    "        json.dump(dict(consumer_key=consumer_key, consumer_secret=consumer_secret), authentication_file)\n",
    "\n",
    "twitter = TwitterClient(consumer_key, consumer_secret)"
   ]
  },
  {
   "cell_type": "code",
   "execution_count": null,
   "metadata": {
    "scrolled": false
   },
   "outputs": [],
   "source": [
    "viewer = TwitterSentimentViewer(twitter_client=twitter)"
   ]
  },
  {
   "cell_type": "code",
   "execution_count": null,
   "metadata": {},
   "outputs": [],
   "source": []
  }
 ],
 "metadata": {
  "kernelspec": {
   "display_name": "Python 3",
   "language": "python",
   "name": "python3"
  },
  "language_info": {
   "codemirror_mode": {
    "name": "ipython",
    "version": 3
   },
   "file_extension": ".py",
   "mimetype": "text/x-python",
   "name": "python",
   "nbconvert_exporter": "python",
   "pygments_lexer": "ipython3",
   "version": "3.6.4"
  }
 },
 "nbformat": 4,
 "nbformat_minor": 2
}
