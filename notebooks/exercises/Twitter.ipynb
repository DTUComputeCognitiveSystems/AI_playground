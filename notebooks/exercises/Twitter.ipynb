{
 "cells": [
  {
   "cell_type": "markdown",
   "metadata": {},
   "source": [
    "# Twitter"
   ]
  },
  {
   "cell_type": "markdown",
   "metadata": {},
   "source": [
    "**Global setup**"
   ]
  },
  {
   "cell_type": "code",
   "execution_count": null,
   "metadata": {},
   "outputs": [],
   "source": [
    "try:\n",
    "    with open(\"../global_setup.py\") as setupfile:\n",
    "        exec(setupfile.read())\n",
    "except FileNotFoundError:\n",
    "    print('Setup already completed')"
   ]
  },
  {
   "cell_type": "markdown",
   "metadata": {},
   "source": [
    "**Local setup**"
   ]
  },
  {
   "cell_type": "code",
   "execution_count": null,
   "metadata": {},
   "outputs": [],
   "source": [
    "from src.text.twitter.TwitterClient import TwitterClient\n",
    "\n",
    "import json"
   ]
  },
  {
   "cell_type": "markdown",
   "metadata": {},
   "source": [
    "## Setup\n",
    "\n",
    "1. Create an account on [Twitter](https://twitter.com) (if you don't have any or want one specifically for this course).\n",
    "\t* You are only going to use this account to download tweets.\n",
    "2. Create a new app in [Twitter Application Management](https://apps.twitter.com/).\n",
    "\t* Name: \"DTU CogSys's AI Playground\"\n",
    "\t* Description: \"Application to pull tweets from Twitter for use in DTU CogSys's AI Playground\"\n",
    "\t* Website: <https://github.com/DTUComputeCognitiveSystems/AI_playground>\n",
    "\t* Read and agree to [Twitter's developer agreement and policy](https://dev.twitter.com/overview/terms/agreement-and-policy)\n",
    "3. Copy the consumer key and secret and paste below.\n",
    "\t* In the \"Keys and Access Tokens\" tab under \"Application Settings\""
   ]
  },
  {
   "cell_type": "code",
   "execution_count": null,
   "metadata": {},
   "outputs": [],
   "source": [
    "# For easier development, the consumer key and secret can be read from a file\n",
    "\n",
    "from pathlib import Path\n",
    "\n",
    "authentication_path = Path(\"data\", \"twitter\", \"authentication.json\")\n",
    "\n",
    "with open(authentication_path, \"r\") as authentication_file:\n",
    "    authentication = json.loads(authentication_file.read())\n",
    "\n",
    "consumer_key = authentication[\"consumer_key\"]\n",
    "consumer_secret = authentication[\"consumer_secret\"]\n",
    "\n",
    "# Alternatively, they can be set manually\n",
    "\n",
    "# consumer_key = \"\"\n",
    "# consumer_secret = \"\"\n",
    "\n",
    "twitter = TwitterClient(consumer_key, consumer_secret)"
   ]
  },
  {
   "cell_type": "code",
   "execution_count": null,
   "metadata": {},
   "outputs": [],
   "source": [
    "timeline = twitter.userTimeline(\"cogsys\", count = 10)\n",
    "\n",
    "for tweet in timeline:\n",
    "    print(tweet)\n",
    "    print()"
   ]
  },
  {
   "cell_type": "code",
   "execution_count": null,
   "metadata": {},
   "outputs": [],
   "source": [
    "tweets = twitter.search(\"#AI\", count = 5)\n",
    "\n",
    "for tweet in tweets:\n",
    "    print(tweet)\n",
    "    print()"
   ]
  }
 ],
 "metadata": {
  "kernelspec": {
   "display_name": "Python 3",
   "language": "python",
   "name": "python3"
  },
  "language_info": {
   "codemirror_mode": {
    "name": "ipython",
    "version": 3
   },
   "file_extension": ".py",
   "mimetype": "text/x-python",
   "name": "python",
   "nbconvert_exporter": "python",
   "pygments_lexer": "ipython3",
   "version": "3.6.5"
  }
 },
 "nbformat": 4,
 "nbformat_minor": 2
}
