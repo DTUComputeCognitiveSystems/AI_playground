{
 "cells": [
  {
   "cell_type": "markdown",
   "metadata": {},
   "source": [
    "# Twitter"
   ]
  },
  {
   "cell_type": "markdown",
   "metadata": {},
   "source": [
    "**Global setup**"
   ]
  },
  {
   "cell_type": "code",
   "execution_count": null,
   "metadata": {},
   "outputs": [],
   "source": [
    "try:\n",
    "    with open(\"../global_setup.py\") as setupfile:\n",
    "        exec(setupfile.read())\n",
    "except FileNotFoundError:\n",
    "    print('Setup already completed')"
   ]
  },
  {
   "cell_type": "markdown",
   "metadata": {},
   "source": [
    "**Local setup**"
   ]
  },
  {
   "cell_type": "code",
   "execution_count": null,
   "metadata": {},
   "outputs": [],
   "source": [
    "from pathlib import Path\n",
    "import json\n",
    "\n",
    "from src.text.twitter.twitter_client import TwitterClient\n",
    "from src.text.twitter.twitter_analyze import TwitterSentimentViewer\n",
    "from src.utility.files import ensure_directory\n",
    "\n",
    "authentication_path = Path(\"data\", \"twitter\", \"authentication.json\")\n",
    "ensure_directory(authentication_path)"
   ]
  },
  {
   "cell_type": "markdown",
   "metadata": {},
   "source": [
    "## Setup\n",
    "\n",
    "1. Create an account on Twitter (if you don't have any or want one specifically for this course).\n",
    "    * [Twitter](https://twitter.com)\n",
    "\t* You are only going to use this account to download tweets.  \n",
    "   \n",
    "   \n",
    "2. Create a new app in Twitter Application Management.\n",
    "    * Go to: [Twitter Application Management](https://apps.twitter.com/)\n",
    "\t* Name: Make up a good name for your application\n",
    "\t* Description: \"Application to pull tweets from Twitter for use in DTU CogSys's AI Playground\"\n",
    "\t* Website: <https://github.com/DTUComputeCognitiveSystems/AI_playground>\n",
    "\t* Read and agree to [Twitter's developer agreement and policy](https://dev.twitter.com/overview/terms/agreement-and-policy)  \n",
    "    \n",
    "    \n",
    "3. Copy the consumer key and secret and paste below.\n",
    "\t* In the \"Keys and Access Tokens\" tab under \"Application Settings\""
   ]
  },
  {
   "cell_type": "code",
   "execution_count": null,
   "metadata": {},
   "outputs": [],
   "source": [
    "# For easier development, the consumer key and secret can be read from a file\n",
    "use_file = True\n",
    "consumer_key = \"\"\n",
    "consumer_secret = \"\"\n",
    "\n",
    "if use_file:\n",
    "    twitter = TwitterClient.authenticate_from_path()\n",
    "    \n",
    "else:\n",
    "    twitter = TwitterClient(consumer_key, consumer_secret)\n",
    "    twitter.save_authentication_to_path()"
   ]
  },
  {
   "cell_type": "code",
   "execution_count": null,
   "metadata": {
    "scrolled": false
   },
   "outputs": [],
   "source": [
    "viewer = TwitterSentimentViewer(twitter_client=twitter)"
   ]
  },
  {
   "cell_type": "code",
   "execution_count": null,
   "metadata": {},
   "outputs": [],
   "source": [
    "twitter.clear_cache()"
   ]
  },
  {
   "cell_type": "code",
   "execution_count": null,
   "metadata": {},
   "outputs": [],
   "source": []
  }
 ],
 "metadata": {
  "kernelspec": {
   "display_name": "Python 3",
   "language": "python",
   "name": "python3"
  },
  "language_info": {
   "codemirror_mode": {
    "name": "ipython",
    "version": 3
   },
   "file_extension": ".py",
   "mimetype": "text/x-python",
   "name": "python",
   "nbconvert_exporter": "python",
   "pygments_lexer": "ipython3",
   "version": "3.6.5"
  }
 },
 "nbformat": 4,
 "nbformat_minor": 2
}
