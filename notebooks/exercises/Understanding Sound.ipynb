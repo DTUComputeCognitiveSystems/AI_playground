{
 "cells": [
  {
   "cell_type": "markdown",
   "metadata": {},
   "source": [
    "# Understanding Sound\n",
    "This notebook gives an introduction to how computers handle and process sound"
   ]
  },
  {
   "cell_type": "markdown",
   "metadata": {},
   "source": [
    "#### run global setup"
   ]
  },
  {
   "cell_type": "code",
   "execution_count": null,
   "metadata": {},
   "outputs": [],
   "source": [
    "try:\n",
    "    with open(\"../global_setup.py\") as setupfile:\n",
    "        exec(setupfile.read())\n",
    "except FileNotFoundError:\n",
    "    print('Setup already completed')"
   ]
  },
  {
   "cell_type": "markdown",
   "metadata": {},
   "source": [
    "#### run local setup"
   ]
  },
  {
   "cell_type": "code",
   "execution_count": null,
   "metadata": {},
   "outputs": [],
   "source": [
    "from notebooks.exercises.src.understanding_sound import miniRecorder, SoundPlotter, miniSound, SoundPlotter2, \\\n",
    "    SoundPlotter3, spectrogramAnimation"
   ]
  },
  {
   "cell_type": "markdown",
   "metadata": {},
   "source": [
    "# Understanding sound\n",
    "sources:  \n",
    "https://medium.com/@ageitgey/machine-learning-is-fun-part-6-how-to-do-speech-recognition-with-deep-learning-28293c162f7a  \n",
    "https://en.wikipedia.org/wiki/Spectral_density  \n",
    "https://blogs.technet.microsoft.com/machinelearning/2018/01/30/hearing-ai-getting-started-with-deep-learning-for-audio-on-azure/  \n",
    "\n",
    "## flow\n",
    "Plot with slider for frequency of sinus, maybe button for playing the tone  \n",
    "Plot of frequency spectrum for sinus  \n",
    "Adding two sinuses - plot waveform and frequency spectrum  \n",
    "Adding three sinuses - plot waveform and frequency spectrum  \n",
    "Recorded sound signal\n",
    "- plot waveform and frequency spectrum\n",
    "- sliding window for calculating freq spectrum \n",
    "- showing freq spectrum as colors\n",
    "\n",
    "Spectrogram"
   ]
  },
  {
   "cell_type": "markdown",
   "metadata": {},
   "source": [
    "# What is sound\n",
    "Airwaves -> condensator microphone -> voltage signal -> ADC -> Time resolution, amplitude resolution.\n",
    "Let's make a recording and inspect the signal"
   ]
  },
  {
   "cell_type": "code",
   "execution_count": null,
   "metadata": {},
   "outputs": [],
   "source": [
    "recorder = miniRecorder(seconds=1, rate=16000)\n",
    "sound = recorder.record()"
   ]
  },
  {
   "cell_type": "code",
   "execution_count": null,
   "metadata": {},
   "outputs": [],
   "source": [
    "recorder.playback()"
   ]
  },
  {
   "cell_type": "code",
   "execution_count": null,
   "metadata": {
    "scrolled": false
   },
   "outputs": [],
   "source": [
    "%matplotlib notebook\n",
    "%matplotlib notebook\n",
    "\n",
    "plotter = SoundPlotter(recorder=recorder)\n",
    "plotter.start()"
   ]
  },
  {
   "cell_type": "markdown",
   "metadata": {},
   "source": [
    "Try zooming in on the aobve signal. The sampling rate determines the distance between each sample and the resolution on the y axis is determined by the format of the stored values. If we use 16bit integers we can use 2^16 levels.  \n",
    "Also note the full lines between each sample are just drawn here to get prettier plots. The only data we have are the blue dots at regularly spaced intervals."
   ]
  },
  {
   "cell_type": "markdown",
   "metadata": {},
   "source": [
    "# Sound consists of...\n",
    "an infinite amount of sine waves at different frequencies and amplitudes.\n",
    "Every sound-clip can be split into a number of sine waves at different frequencies with different amplitudes. Let us create a simple signal where we know the frequency content"
   ]
  },
  {
   "cell_type": "code",
   "execution_count": null,
   "metadata": {},
   "outputs": [],
   "source": [
    "minisound = miniSound(rate=44100, freq1=512, freq2=None, seconds=1)"
   ]
  },
  {
   "cell_type": "code",
   "execution_count": null,
   "metadata": {},
   "outputs": [],
   "source": [
    "minisound.playBack()"
   ]
  },
  {
   "cell_type": "code",
   "execution_count": null,
   "metadata": {},
   "outputs": [],
   "source": [
    "%matplotlib notebook\n",
    "%matplotlib notebook\n",
    "\n",
    "plotter = SoundPlotter2(miniSound=minisound)"
   ]
  },
  {
   "cell_type": "markdown",
   "metadata": {},
   "source": [
    "The most simple signal we can think of is a single sine wave. We can listen to it, show its wave form and we can also compute the frequency content of it. This is done in the second plot. Right now we chose the frequency ourselves, so there is no surprise here, but we can also compute the frequency content of a signal that we did not define ourselves.\n",
    "As you add more and more frequencies at different amplitudes, the signal becomes increasingly complex. "
   ]
  },
  {
   "cell_type": "markdown",
   "metadata": {},
   "source": [
    "# More sine waves"
   ]
  },
  {
   "cell_type": "code",
   "execution_count": null,
   "metadata": {},
   "outputs": [],
   "source": [
    "%matplotlib notebook\n",
    "%matplotlib notebook\n",
    "\n",
    "minisound = miniSound(rate=44100, freq1=1024, freq2=900, seconds=1)\n",
    "\n",
    "plotter = SoundPlotter2(miniSound=minisound)"
   ]
  },
  {
   "cell_type": "code",
   "execution_count": null,
   "metadata": {},
   "outputs": [],
   "source": [
    "minisound.playBack()"
   ]
  },
  {
   "cell_type": "markdown",
   "metadata": {},
   "source": [
    "# The frequency content of a signal\n",
    "Below we will analyze the recording of your voice to see the frequency content of this signal. You can slide a window around the signal to see how the frequency content changes in different parts of the signal. The window can also be zoomed more in or out, to focus on only a specific part of the signal. Try to make a new recording where you whistle one long tone. Can you find the frequency of this tone?"
   ]
  },
  {
   "cell_type": "code",
   "execution_count": null,
   "metadata": {
    "scrolled": false
   },
   "outputs": [],
   "source": [
    "%matplotlib notebook\n",
    "%matplotlib notebook\n",
    "\n",
    "plotter = SoundPlotter3(recorder=recorder, log_y=False)\n",
    "plotter.start()"
   ]
  },
  {
   "cell_type": "markdown",
   "metadata": {},
   "source": [
    "We can illustrate the spectrum as colors. If we map the values of the spectrum between 0 and upper-limit to some colors, a colormap, we can illustrate the spectrum as the coloured plot above.  \n",
    "Sometimes, if we plot the frequency spectrum on a log scale we can more easily see the differences between the power at the different frequencies."
   ]
  },
  {
   "cell_type": "markdown",
   "metadata": {},
   "source": [
    "# The spectrogram \n",
    "You have seen that we can find the frequency content of any part of a signal, and that we can display the amplitude of each frequency in the signal as colours.  \n",
    "Now we use this idea to take a small window and move it along the signal. At every position we calculate the spectrum and then plot it vertically as colors, at the time instance which is the middle of the window. If we keep doing this we get what is called a spectrogram."
   ]
  },
  {
   "cell_type": "code",
   "execution_count": null,
   "metadata": {},
   "outputs": [],
   "source": [
    "%matplotlib inline\n",
    "\n",
    "spectrogramAnimation(recorder)"
   ]
  },
  {
   "cell_type": "code",
   "execution_count": null,
   "metadata": {},
   "outputs": [],
   "source": [
    "recorder.playback()"
   ]
  },
  {
   "cell_type": "markdown",
   "metadata": {},
   "source": [
    "Here the spectrogram is calculated without overlapping windows, but this can easily be added to get a more finegrained x-scale"
   ]
  },
  {
   "cell_type": "code",
   "execution_count": null,
   "metadata": {},
   "outputs": [],
   "source": [
    "# amplitude invariant\n",
    "# enheder, labels, colorbars\n",
    "# EKG\n",
    "# hvid støj\n",
    "# oktaver, pitch, log\n",
    "# instrumenter, toner op og ned\n",
    "# simple filtering on the spectrum\n",
    "# moving spectrogram"
   ]
  }
 ],
 "metadata": {
  "kernelspec": {
   "display_name": "Python (aib)",
   "language": "python",
   "name": "aib"
  },
  "language_info": {
   "codemirror_mode": {
    "name": "ipython",
    "version": 3
   },
   "file_extension": ".py",
   "mimetype": "text/x-python",
   "name": "python",
   "nbconvert_exporter": "python",
   "pygments_lexer": "ipython3",
   "version": "3.6.5"
  }
 },
 "nbformat": 4,
 "nbformat_minor": 2
}
