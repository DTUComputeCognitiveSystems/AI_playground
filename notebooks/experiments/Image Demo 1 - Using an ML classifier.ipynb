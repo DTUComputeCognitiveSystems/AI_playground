{
 "cells": [
  {
   "cell_type": "markdown",
   "metadata": {},
   "source": [
    "# Image Demo 1\n",
    "This demo illustrates how AI can be used to detect objects in images fetched from your webcamera. "
   ]
  },
  {
   "cell_type": "markdown",
   "metadata": {},
   "source": [
    "#### run global setup"
   ]
  },
  {
   "cell_type": "code",
   "execution_count": 1,
   "metadata": {},
   "outputs": [],
   "source": [
    "try:\n",
    "    with open(\"../global_setup.py\") as setupfile:\n",
    "        exec(setupfile.read())\n",
    "except FileNotFoundError:\n",
    "    print('Setup already completed')"
   ]
  },
  {
   "cell_type": "markdown",
   "metadata": {},
   "source": [
    "#### run local setup"
   ]
  },
  {
   "cell_type": "code",
   "execution_count": 2,
   "metadata": {},
   "outputs": [],
   "source": [
    "%%capture\n",
    "from notebooks.experiments.src.image_demos import VideoRecognitionDashboard, VideoTakeDashboard"
   ]
  },
  {
   "cell_type": "markdown",
   "metadata": {},
   "source": [
    "\n",
    "# Image Demo Notebooks\n",
    "\n",
    "These notebooks will lead you through multiple tasks dealing with applying deep learning to image recognition tasks. \n",
    "\n",
    "Learning objectives:\n",
    "\n",
    "* Be able to apply a neural network trained on images to classify objects\n",
    "    * Explain the importance of unbiased datasets\n",
    "    * Know basic metrics for NN quality\n",
    "* Train a neural network on self-gathered images\n",
    "    * Know the steps to take while training an ML classifier\n",
    "    * Explain the idea of dataset augmentationm\n",
    "    * Explain and judge basic metrics for NN training\n",
    "    * Be able to judge the quality of a basic neural network\n",
    "    \n"
   ]
  },
  {
   "cell_type": "markdown",
   "metadata": {},
   "source": [
    "---\n",
    "## Image Demo 1 - Using a classifier\n",
    "\n",
    "Modern algorithms can today detect objects in images in real-time. This is not a completely solved task, but the algorithms are getting so good that they are today used many places.  \n",
    "\n",
    "This demo shows how we can use Python to gather data from your webcamera and use a classification algorithm to classify what is seen in the images.  \n",
    "\n",
    "In the cell below you can run a program that uses AI to recognize objects in images. Try to see if you can make it recognize some objects around you and perhaps find some objects that it can not detect. "
   ]
  },
  {
   "cell_type": "code",
   "execution_count": 3,
   "metadata": {},
   "outputs": [
    {
     "data": {
      "application/vnd.jupyter.widget-view+json": {
       "model_id": "4327e8da2f1b4235a1e557aef51a0c28",
       "version_major": 2,
       "version_minor": 0
      },
      "text/plain": [
       "VBox(children=(HBox(children=(VBox(children=(Button(button_style='success', description='Start Camera', style=…"
      ]
     },
     "metadata": {},
     "output_type": "display_data"
    },
    {
     "name": "stdout",
     "output_type": "stream",
     "text": [
      "Frame: 1, Label:barbershop, Probability:0.14%\n",
      "Frame: 2, Label:barbershop, Probability:0.12%\n",
      "Frame: 3, Label:barbershop, Probability:0.11%\n",
      "Frame: 4, Label:barbershop, Probability:0.12%\n",
      "Frame: 5, Label:barbershop, Probability:0.12%\n",
      "Frame: 6, Label:barbershop, Probability:0.15%\n",
      "Frame: 7, Label:barbershop, Probability:0.19%\n",
      "Frame: 8, Label:barbershop, Probability:0.19%\n",
      "Frame: 9, Label:piggy_bank, Probability:0.06%\n",
      "Frame: 10, Label:barbershop, Probability:0.08%\n",
      "Frame: 11, Label:barbershop, Probability:0.17%\n",
      "Frame: 12, Label:barbershop, Probability:0.30%\n",
      "Frame: 13, Label:barbershop, Probability:0.22%\n",
      "Frame: 14, Label:barbershop, Probability:0.14%\n",
      "Frame: 15, Label:barbershop, Probability:0.17%\n",
      "Frame: 16, Label:barbershop, Probability:0.30%\n",
      "Frame: 17, Label:barbershop, Probability:0.11%\n",
      "Frame: 18, Label:bookcase, Probability:0.68%\n",
      "Frame: 19, Label:bookcase, Probability:0.89%\n",
      "Frame: 1, Label:bookcase, Probability:0.82%\n",
      "Frame: 2, Label:bookcase, Probability:0.85%\n",
      "Frame: 3, Label:bookcase, Probability:0.76%\n",
      "Frame: 4, Label:bookcase, Probability:0.76%\n",
      "Frame: 5, Label:bookcase, Probability:0.82%\n",
      "Frame: 6, Label:bookcase, Probability:0.74%\n",
      "Frame: 7, Label:bookcase, Probability:0.81%\n",
      "Frame: 8, Label:bookcase, Probability:0.85%\n",
      "Frame: 9, Label:bookcase, Probability:0.84%\n",
      "Frame: 10, Label:bookcase, Probability:0.87%\n",
      "Frame: 11, Label:bookcase, Probability:0.78%\n",
      "Frame: 12, Label:bookcase, Probability:0.80%\n",
      "Frame: 13, Label:bookcase, Probability:0.84%\n",
      "Frame: 14, Label:bookcase, Probability:0.78%\n",
      "Frame: 15, Label:bookcase, Probability:0.87%\n",
      "Frame: 16, Label:bookcase, Probability:0.83%\n",
      "Frame: 17, Label:bookcase, Probability:0.84%\n",
      "Frame: 18, Label:bookcase, Probability:0.87%\n",
      "Frame: 19, Label:bookcase, Probability:0.88%\n",
      "Frame: 20, Label:bookcase, Probability:0.60%\n",
      "Frame: 21, Label:bookcase, Probability:0.77%\n",
      "Frame: 22, Label:bookcase, Probability:0.81%\n",
      "Frame: 23, Label:bookcase, Probability:0.80%\n",
      "Frame: 24, Label:bookcase, Probability:0.77%\n",
      "Frame: 25, Label:bookcase, Probability:0.83%\n",
      "Frame: 26, Label:bookcase, Probability:0.82%\n",
      "Frame: 27, Label:bookcase, Probability:0.82%\n",
      "Frame: 28, Label:bookcase, Probability:0.81%\n",
      "Frame: 29, Label:bookcase, Probability:0.80%\n",
      "Frame: 30, Label:bookcase, Probability:0.78%\n",
      "Frame: 31, Label:bookcase, Probability:0.89%\n",
      "Frame: 32, Label:bookcase, Probability:0.85%\n",
      "Frame: 33, Label:bookcase, Probability:0.86%\n",
      "Frame: 34, Label:bookcase, Probability:0.81%\n",
      "Frame: 35, Label:bookcase, Probability:0.18%\n",
      "Frame: 36, Label:bookcase, Probability:0.35%\n",
      "Frame: 37, Label:bookcase, Probability:0.25%\n",
      "Frame: 38, Label:bookcase, Probability:0.26%\n",
      "Frame: 39, Label:bookcase, Probability:0.23%\n",
      "Frame: 40, Label:bookcase, Probability:0.41%\n",
      "Frame: 41, Label:bookcase, Probability:0.39%\n",
      "Frame: 42, Label:bookcase, Probability:0.26%\n",
      "Frame: 43, Label:bookcase, Probability:0.38%\n",
      "Frame: 44, Label:bookcase, Probability:0.25%\n",
      "Frame: 45, Label:bookcase, Probability:0.18%\n",
      "Frame: 46, Label:bookcase, Probability:0.33%\n",
      "Frame: 47, Label:bathtub, Probability:0.08%\n",
      "Frame: 48, Label:bathtub, Probability:0.22%\n",
      "Frame: 49, Label:pretzel, Probability:0.10%\n",
      "Frame: 50, Label:pretzel, Probability:0.14%\n",
      "Frame: 51, Label:pretzel, Probability:0.05%\n",
      "Frame: 52, Label:bathtub, Probability:0.04%\n",
      "Frame: 53, Label:bathtub, Probability:0.03%\n",
      "Frame: 54, Label:bathtub, Probability:0.01%\n",
      "Frame: 55, Label:bathtub, Probability:0.13%\n",
      "Frame: 56, Label:drumstick, Probability:0.07%\n",
      "Frame: 57, Label:bathtub, Probability:0.07%\n",
      "Frame: 58, Label:bathtub, Probability:0.08%\n",
      "Frame: 59, Label:bathtub, Probability:0.07%\n",
      "Frame: 60, Label:bathtub, Probability:0.06%\n",
      "Frame: 61, Label:prison, Probability:0.06%\n",
      "Frame: 62, Label:perfume, Probability:0.13%\n",
      "Frame: 63, Label:toaster, Probability:0.07%\n",
      "Frame: 64, Label:drumstick, Probability:0.17%\n",
      "Frame: 65, Label:bookcase, Probability:0.59%\n",
      "Frame: 66, Label:bookcase, Probability:0.71%\n",
      "Frame: 67, Label:medicine_chest, Probability:0.11%\n",
      "Frame: 68, Label:bookcase, Probability:0.22%\n",
      "Frame: 69, Label:bookcase, Probability:0.29%\n",
      "Frame: 70, Label:bookcase, Probability:0.41%\n",
      "Frame: 71, Label:bookcase, Probability:0.42%\n",
      "Frame: 72, Label:bookcase, Probability:0.41%\n",
      "Frame: 73, Label:bookcase, Probability:0.35%\n",
      "Frame: 74, Label:bookcase, Probability:0.31%\n",
      "Frame: 75, Label:bookcase, Probability:0.32%\n",
      "Frame: 76, Label:bookcase, Probability:0.27%\n",
      "Frame: 77, Label:bookcase, Probability:0.31%\n",
      "Frame: 78, Label:bookcase, Probability:0.49%\n",
      "Frame: 79, Label:bookcase, Probability:0.43%\n",
      "Frame: 80, Label:bookcase, Probability:0.35%\n",
      "Frame: 81, Label:bookcase, Probability:0.26%\n",
      "Frame: 82, Label:bookcase, Probability:0.20%\n",
      "Frame: 83, Label:bookcase, Probability:0.80%\n",
      "Frame: 84, Label:bookcase, Probability:0.74%\n",
      "Frame: 85, Label:bookcase, Probability:0.36%\n",
      "Frame: 86, Label:sunglass, Probability:0.30%\n",
      "Frame: 87, Label:bikini, Probability:0.06%\n",
      "Frame: 88, Label:sunglasses, Probability:0.05%\n",
      "Frame: 89, Label:sunglasses, Probability:0.12%\n",
      "Frame: 90, Label:stethoscope, Probability:0.19%\n",
      "Frame: 91, Label:stethoscope, Probability:0.19%\n",
      "Frame: 92, Label:dishwasher, Probability:0.09%\n",
      "Frame: 93, Label:bookcase, Probability:0.21%\n",
      "Frame: 94, Label:prison, Probability:0.33%\n",
      "Frame: 95, Label:paintbrush, Probability:0.13%\n",
      "Frame: 96, Label:bookcase, Probability:0.31%\n",
      "Frame: 97, Label:bookcase, Probability:0.50%\n",
      "Frame: 98, Label:bookcase, Probability:0.20%\n",
      "Frame: 99, Label:bookcase, Probability:0.51%\n",
      "Frame: 100, Label:bookcase, Probability:0.48%\n",
      "Frame: 101, Label:bookcase, Probability:0.65%\n",
      "Frame: 102, Label:bookcase, Probability:0.74%\n",
      "Frame: 103, Label:bookcase, Probability:0.61%\n",
      "Frame: 104, Label:bookcase, Probability:0.42%\n",
      "Frame: 105, Label:bookcase, Probability:0.45%\n",
      "Frame: 106, Label:bookcase, Probability:0.38%\n",
      "Frame: 107, Label:nail, Probability:0.12%\n",
      "Frame: 108, Label:bookcase, Probability:0.13%\n",
      "Frame: 109, Label:iron, Probability:0.18%\n",
      "Frame: 110, Label:bannister, Probability:0.13%\n",
      "Frame: 111, Label:bookcase, Probability:0.85%\n",
      "Frame: 112, Label:bookcase, Probability:0.55%\n",
      "Frame: 113, Label:bookcase, Probability:0.25%\n",
      "Frame: 114, Label:hair_spray, Probability:0.12%\n",
      "Frame: 115, Label:bookcase, Probability:0.35%\n",
      "Frame: 116, Label:bookcase, Probability:0.42%\n",
      "Frame: 117, Label:bookcase, Probability:0.18%\n",
      "Frame: 118, Label:bookcase, Probability:0.32%\n",
      "Frame: 119, Label:bookcase, Probability:0.31%\n",
      "Frame: 120, Label:bookcase, Probability:0.34%\n",
      "Frame: 121, Label:bookcase, Probability:0.28%\n",
      "Frame: 122, Label:bookcase, Probability:0.23%\n",
      "Frame: 123, Label:bookcase, Probability:0.30%\n",
      "Frame: 124, Label:barbershop, Probability:0.10%\n",
      "Frame: 125, Label:Band_Aid, Probability:0.09%\n",
      "Frame: 126, Label:bookcase, Probability:0.08%\n",
      "Frame: 127, Label:bookcase, Probability:0.16%\n",
      "Frame: 128, Label:oxygen_mask, Probability:0.16%\n",
      "Frame: 129, Label:bookcase, Probability:0.67%\n",
      "Frame: 130, Label:bookcase, Probability:0.64%\n",
      "Frame: 131, Label:bookcase, Probability:0.94%\n",
      "Frame: 132, Label:bookcase, Probability:0.87%\n",
      "Frame: 133, Label:bookcase, Probability:0.88%\n",
      "Frame: 134, Label:bookcase, Probability:0.90%\n",
      "Frame: 135, Label:bookcase, Probability:0.95%\n",
      "Frame: 136, Label:bookcase, Probability:0.87%\n",
      "Frame: 137, Label:bookcase, Probability:0.91%\n",
      "Frame: 138, Label:bookcase, Probability:0.97%\n"
     ]
    }
   ],
   "source": [
    "%matplotlib qt5\n",
    "dashboard = VideoRecognitionDashboard()\n",
    "dashboard.start"
   ]
  },
  {
   "cell_type": "markdown",
   "metadata": {},
   "source": [
    "---\n",
    "Now we take multiple images of multiple objects to judge the reliability of the neural network:\n",
    "Run the cell below to first take the images. Run the cell below that to display and classify the images."
   ]
  },
  {
   "cell_type": "code",
   "execution_count": null,
   "metadata": {},
   "outputs": [],
   "source": [
    "%matplotlib qt5\n",
    "vid_dashboard = VideoTakeDashboard()\n",
    "vid_dashboard.start"
   ]
  },
  {
   "cell_type": "code",
   "execution_count": null,
   "metadata": {},
   "outputs": [],
   "source": [
    "%matplotlib inline\n",
    "vid_dashboard.collector.show_images(model_name=vid_dashboard.select_network.value)"
   ]
  },
  {
   "cell_type": "markdown",
   "metadata": {},
   "source": [
    "### Analyzing the results\n",
    "* How accurate are the labels for each object? Decide if one of the probable labels accurately describes the object and  count how many images are correct for each object. \n",
    "\n",
    "* Are there differences in the accuracies for the objects? \n",
    "\n",
    "* Look at the list of categories the neural network is trained on [here](https://gist.github.com/yrevar/942d3a0ac09ec9e5eb3a)\n",
    "\n",
    "    * Do the categories reflect the environment you are in? \n",
    "\n",
    "    * Are there categories that you would not expect to encounter? \n",
    "\n",
    "    * Find an object not in the categories:\n",
    "        * What do you **expect** to happen when you classify this object?\n",
    "        * Take pictures of the object and classify them? What does happen?\n",
    "\n",
    "\n"
   ]
  },
  {
   "cell_type": "markdown",
   "metadata": {},
   "source": [
    "***\n",
    "*double click here to edit cell*\n",
    "\n",
    "\n",
    "** Type in the accuracies for the different objects here**:\n",
    "\n",
    "|  | Object 1 | Object 2 | Object 3 | Object 4 | Object 5 | \n",
    "| --- | --- | --- |--- |--- |--- |--- |\n",
    "| Accuracy | 0 | 0 |0 | 0| 0|"
   ]
  }
 ],
 "metadata": {
  "kernelspec": {
   "display_name": "Python 3",
   "language": "python",
   "name": "python3"
  },
  "language_info": {
   "codemirror_mode": {
    "name": "ipython",
    "version": 3
   },
   "file_extension": ".py",
   "mimetype": "text/x-python",
   "name": "python",
   "nbconvert_exporter": "python",
   "pygments_lexer": "ipython3",
   "version": "3.6.5"
  }
 },
 "nbformat": 4,
 "nbformat_minor": 2
}
