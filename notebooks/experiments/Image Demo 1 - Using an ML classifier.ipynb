{
 "cells": [
  {
   "cell_type": "markdown",
   "metadata": {},
   "source": [
    "# Image Demo 1\n",
    "This demo illustrates how AI can be used to detect objects in images fetched from your webcamera. "
   ]
  },
  {
   "cell_type": "markdown",
   "metadata": {},
   "source": [
    "#### run global setup"
   ]
  },
  {
   "cell_type": "code",
   "execution_count": 1,
   "metadata": {},
   "outputs": [],
   "source": [
    "try:\n",
    "    with open(\"../global_setup.py\") as setupfile:\n",
    "        exec(setupfile.read())\n",
    "except FileNotFoundError:\n",
    "    print('Setup already completed')"
   ]
  },
  {
   "cell_type": "markdown",
   "metadata": {},
   "source": [
    "#### run local setup"
   ]
  },
  {
   "cell_type": "code",
   "execution_count": 2,
   "metadata": {},
   "outputs": [],
   "source": [
    "%%capture\n",
    "from notebooks.experiments.src.image_demos import VideoRecognitionDashboard, VideoTakeDashboard"
   ]
  },
  {
   "cell_type": "markdown",
   "metadata": {},
   "source": [
    "\n",
    "# Image Demo Notebooks\n",
    "\n",
    "These notebooks will lead you through multiple tasks dealing with applying deep learning to image recognition tasks. \n",
    "\n",
    "Learning objectives:\n",
    "\n",
    "* Be able to apply a neural network trained on images to classify objects\n",
    "    * Explain the importance of unbiased datasets\n",
    "    * Know basic metrics for NN quality\n",
    "* Train a neural network on self-gathered images\n",
    "    * Know the steps to take while training an ML classifier\n",
    "    * Explain the idea of dataset augmentationm\n",
    "    * Explain and judge basic metrics for NN training\n",
    "    * Be able to judge the quality of a basic neural network\n",
    "    \n"
   ]
  },
  {
   "cell_type": "markdown",
   "metadata": {},
   "source": [
    "---\n",
    "## Image Demo 1 - Using a classifier\n",
    "\n",
    "Modern algorithms can today detect objects in images in real-time. This is not a completely solved task, but the algorithms are getting so good that they are today used many places.  \n",
    "\n",
    "This demo shows how we can use Python to gather data from your webcamera and use a classification algorithm to classify what is seen in the images.  \n",
    "\n",
    "In the cell below you can run a program that uses AI to recognize objects in images. Try to see if you can make it recognize some objects around you and perhaps find some objects that it can not detect. "
   ]
  },
  {
   "cell_type": "code",
   "execution_count": 3,
   "metadata": {},
   "outputs": [
    {
     "data": {
      "application/vnd.jupyter.widget-view+json": {
       "model_id": "0e2fca6254724469bea35753a4cc074b",
       "version_major": 2,
       "version_minor": 0
      },
      "text/plain": [
       "VBox(children=(HBox(children=(VBox(children=(Button(button_style='success', description='Start Camera', style=…"
      ]
     },
     "metadata": {},
     "output_type": "display_data"
    }
   ],
   "source": [
    "%matplotlib qt5\n",
    "dashboard = VideoRecognitionDashboard()\n",
    "dashboard.start"
   ]
  },
  {
   "cell_type": "markdown",
   "metadata": {},
   "source": [
    "---\n",
    "Now we take multiple images of multiple objects to judge the reliability of the neural network:\n",
    "Run the cell below to first take the images. Run the cell below that to display and classify the images."
   ]
  },
  {
   "cell_type": "code",
   "execution_count": 4,
   "metadata": {},
   "outputs": [
    {
     "data": {
      "application/vnd.jupyter.widget-view+json": {
       "model_id": "25b5d179c9904a199b7acb4640a09c4d",
       "version_major": 2,
       "version_minor": 0
      },
      "text/plain": [
       "VBox(children=(HBox(children=(Button(button_style='success', description='Start Camera', style=ButtonStyle(), …"
      ]
     },
     "metadata": {},
     "output_type": "display_data"
    }
   ],
   "source": [
    "%matplotlib qt5\n",
    "vid_dashboard = VideoTakeDashboard()\n",
    "vid_dashboard.start"
   ]
  },
  {
   "cell_type": "code",
   "execution_count": 5,
   "metadata": {},
   "outputs": [
    {
     "ename": "AttributeError",
     "evalue": "'NoneType' object has no attribute 'show_images'",
     "output_type": "error",
     "traceback": [
      "---------------------------------------------------------------------------",
      "AttributeError                            Traceback (most recent call last)",
      "<ipython-input-5-f136c3a9a14f> in <module>()\n      1 get_ipython().run_line_magic('matplotlib', 'inline')\n----> 2 vid_dashboard.collector.show_images(model_name=vid_dashboard.select_network.value)\n",
      "AttributeError: 'NoneType' object has no attribute 'show_images'"
     ]
    }
   ],
   "source": [
    "%matplotlib inline\n",
    "vid_dashboard.collector.show_images(model_name=vid_dashboard.select_network.value)"
   ]
  },
  {
   "cell_type": "markdown",
   "metadata": {},
   "source": [
    "### Analyzing the results\n",
    "* How accurate are the labels for each object? Decide if one of the probable labels accurately describes the object and  count how many images are correct for each object. \n",
    "\n",
    "* Are there differences in the accuracies for the objects? \n",
    "\n",
    "* Look at the list of categories the neural network is trained on [here](https://gist.github.com/yrevar/942d3a0ac09ec9e5eb3a)\n",
    "\n",
    "    * Do the categories reflect the environment you are in? \n",
    "\n",
    "    * Are there categories that you would not expect to encounter? \n",
    "\n",
    "    * Find an object not in the categories:\n",
    "        * What do you **expect** to happen when you classify this object?\n",
    "        * Take pictures of the object and classify them? What does happen?\n",
    "\n",
    "\n"
   ]
  },
  {
   "cell_type": "markdown",
   "metadata": {},
   "source": [
    "***\n",
    "*double click here to edit cell*\n",
    "\n",
    "\n",
    "** Type in the accuracies for the different objects here**:\n",
    "\n",
    "|  | Object 1 | Object 2 | Object 3 | Object 4 | Object 5 | \n",
    "| --- | --- | --- |--- |--- |--- |--- |\n",
    "| Accuracy | 0 | 0 |0 | 0| 0|"
   ]
  }
 ],
 "metadata": {
  "kernelspec": {
   "display_name": "Python 3",
   "language": "python",
   "name": "python3"
  },
  "language_info": {
   "codemirror_mode": {
    "name": "ipython",
    "version": 3
   },
   "file_extension": ".py",
   "mimetype": "text/x-python",
   "name": "python",
   "nbconvert_exporter": "python",
   "pygments_lexer": "ipython3",
   "version": "3.6.5"
  }
 },
 "nbformat": 4,
 "nbformat_minor": 2
}
