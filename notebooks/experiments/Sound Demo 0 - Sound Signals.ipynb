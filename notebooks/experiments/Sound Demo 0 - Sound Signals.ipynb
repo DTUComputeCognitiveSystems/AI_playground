{
 "cells": [
  {
   "cell_type": "markdown",
   "metadata": {},
   "source": [
    "# Sound Demo 0\n",
    "This demo illustrates sound signals in their waveform and the corresponding spectrogram."
   ]
  },
  {
   "cell_type": "markdown",
   "metadata": {},
   "source": [
    "#### run global setup"
   ]
  },
  {
   "cell_type": "code",
   "execution_count": 1,
   "metadata": {},
   "outputs": [],
   "source": [
    "try:\n",
    "    with open(\"../global_setup.py\") as setupfile:\n",
    "        exec(setupfile.read())\n",
    "except FileNotFoundError:\n",
    "    print('Setup already completed')"
   ]
  },
  {
   "cell_type": "markdown",
   "metadata": {},
   "source": [
    "#### run local setup"
   ]
  },
  {
   "cell_type": "code",
   "execution_count": 2,
   "metadata": {},
   "outputs": [
    {
     "name": "stderr",
     "output_type": "stream",
     "text": [
      "/Users/nbip/miniconda3/envs/aib/lib/python3.6/site-packages/h5py/__init__.py:36: FutureWarning: Conversion of the second argument of issubdtype from `float` to `np.floating` is deprecated. In future, it will be treated as `np.float64 == np.dtype(float).type`.\n",
      "  from ._conv import register_converters as _register_converters\n"
     ]
    }
   ],
   "source": [
    "from src.audio.live_spectrogram import LiveSpectrogram, run_livespec"
   ]
  },
  {
   "cell_type": "markdown",
   "metadata": {},
   "source": [
    "# Sound signals\n",
    "The sound signals that we can detect and process as humans are essentially airwaves or changes in sound pressure at different frequencies and amplitudes. A deep bass sound is airwaves propagating at low frequencies and a high pitched screetching sound is airwaves propagating at high frequencies. The volume is determined by the amplitude of these airwaves.  \n",
    "A microphone turns these airwaves into an electric signal. A loudspeaker does the opposite, turning an electric signal into airwaves via a vibrating membrane.  "
   ]
  },
  {
   "cell_type": "markdown",
   "metadata": {},
   "source": [
    "## Waveform\n",
    "We can inspect the voltage signal as it changes over time. This is also called the waveform  representation of the signal. A deeper explanation can be found [here](http://clas.mq.edu.au/speech/acoustics/waveforms/speech_waveforms.html)"
   ]
  },
  {
   "cell_type": "markdown",
   "metadata": {},
   "source": [
    "## Spectrogram\n",
    "We can also inspect the frequency content of the signal as it changes over time. This is called the spectrogram"
   ]
  },
  {
   "cell_type": "markdown",
   "metadata": {},
   "source": [
    "## Live waveform and spectrogram\n",
    "Below you can run a live visualization of the waveform and spectrogram of the sound signals recorded by the microphone in your computer. The top panel shows a running stream of 4 seconds of audio in waveform.  \n",
    "The bottom panel shows the spectrogram as it evolves over a 4 second running window."
   ]
  },
  {
   "cell_type": "code",
   "execution_count": 4,
   "metadata": {},
   "outputs": [],
   "source": [
    "run_livespec()"
   ]
  },
  {
   "cell_type": "markdown",
   "metadata": {},
   "source": [
    "Can you\n",
    "* Tell the difference between voiced (vocals) and unvoiced (consonants) sounds in the waveform? in the spectrogram?  \n",
    "Voiced sounds e.g. \"i\" = \"eye\", \"e\" = \"eee\"  \n",
    "Unvoiced sounds e.g. \"m\" = the sound of m in \"em\"\n",
    "* See how the frequency content of a whistle is changing as you change the pitch?\n",
    "* Explain the spectral shape of the sound \"sss\""
   ]
  },
  {
   "cell_type": "code",
   "execution_count": null,
   "metadata": {},
   "outputs": [],
   "source": []
  }
 ],
 "metadata": {
  "kernelspec": {
   "display_name": "Python (aib)",
   "language": "python",
   "name": "aib"
  },
  "language_info": {
   "codemirror_mode": {
    "name": "ipython",
    "version": 3
   },
   "file_extension": ".py",
   "mimetype": "text/x-python",
   "name": "python",
   "nbconvert_exporter": "python",
   "pygments_lexer": "ipython3",
   "version": "3.6.5"
  }
 },
 "nbformat": 4,
 "nbformat_minor": 2
}
