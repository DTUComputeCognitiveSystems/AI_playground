{
 "cells": [
  {
   "cell_type": "markdown",
   "metadata": {},
   "source": [
    "# Sound Demo 2\n",
    "This demo illustrates how use speech recognition tools in python\n",
    "\n",
    "```\n",
    "brew install swig git python3\n",
    "pip install pocketsphinx\n",
    "pip3 install SpeechRecognition\n",
    "```\n",
    "\n",
    "sources: https://realpython.com/python-speech-recognition/"
   ]
  },
  {
   "cell_type": "markdown",
   "metadata": {},
   "source": [
    "#### run global setup"
   ]
  },
  {
   "cell_type": "code",
   "execution_count": null,
   "metadata": {},
   "outputs": [],
   "source": [
    "try:\n",
    "    with open(\"../global_setup.py\") as setupfile:\n",
    "        exec(setupfile.read())\n",
    "except FileNotFoundError:\n",
    "    print('Setup already completed')"
   ]
  },
  {
   "cell_type": "markdown",
   "metadata": {},
   "source": [
    "#### run local setup"
   ]
  },
  {
   "cell_type": "code",
   "execution_count": null,
   "metadata": {},
   "outputs": [],
   "source": [
    "from src.audio.mini_recorder import miniRecorder"
   ]
  },
  {
   "cell_type": "code",
   "execution_count": null,
   "metadata": {},
   "outputs": [],
   "source": [
    "import speech_recognition as sr\n",
    "import sphinxbase\n",
    "import pocketsphinx\n",
    "\n",
    "class speechToText:\n",
    "    def __init__(self):\n",
    "        \n",
    "        self.r = sr.Recognizer()\n",
    "        \n",
    "    def record(self, duration=4):\n",
    "        with sr.Microphone() as source:\n",
    "            # adjust for ambient noise\n",
    "            self.r.adjust_for_ambient_noise(source)\n",
    "            print(\"Say something!\")\n",
    "            self.audio = self.r.listen(source, phrase_time_limit=duration)\n",
    "            print('Thank you')\n",
    "        \n",
    "    def recognize(self, API):\n",
    "        \n",
    "        if str.lower(API) == 'google':\n",
    "\n",
    "            # recognize speech using Google Speech Recognition\n",
    "            try:\n",
    "                # for testing purposes, we're just using the default API key\n",
    "                # to use another API key, use `r.recognize_google(audio, key=\"GOOGLE_SPEECH_RECOGNITION_API_KEY\")`\n",
    "                # instead of `r.recognize_google(audio)`\n",
    "                print(\"Google Speech Recognition thinks you said:\\n \" + self.r.recognize_google(self.audio))\n",
    "            except sr.UnknownValueError:\n",
    "                print(\"Google Speech Recognition could not understand audio\")\n",
    "            except sr.RequestError as e:\n",
    "                print(\"Could not request results from Google Speech Recognition service; {0}\".format(e))\n",
    "        \n",
    "        if str.lower(API) == 'sphinx':\n",
    "            # recognize speech using Sphinx\n",
    "            try:\n",
    "                print(\"Sphinx thinks you said:\\n \" + self.r.recognize_sphinx(self.audio))\n",
    "            except sr.UnknownValueError:\n",
    "                print(\"Sphinx could not understand audio\")\n",
    "            except sr.RequestError as e:\n",
    "                print(\"Sphinx error; {0}\".format(e))\n",
    "        \n"
   ]
  },
  {
   "cell_type": "code",
   "execution_count": null,
   "metadata": {},
   "outputs": [],
   "source": [
    "recorder = miniRecorder(seconds=2, rate=1600)\n",
    "audio = recorder.record()\n",
    "recorder.write2file('/tmp/wavtest.wav')"
   ]
  },
  {
   "cell_type": "code",
   "execution_count": null,
   "metadata": {},
   "outputs": [],
   "source": [
    "stt = speechToText()\n",
    "stt.record(duration=4)\n",
    "stt.recognize(API='google')\n",
    "stt.recognize(API='sphinx')"
   ]
  },
  {
   "cell_type": "markdown",
   "metadata": {},
   "source": [
    "## Assembly AI\n",
    "\n",
    "Assembly AI is another API for speech recognition. Create a profile here: https://www.assemblyai.com/ (press \"Get a free API token\")\n",
    "\n",
    "Log into your account. At the top of the page you will see \"Your API Token: --- \". Copy and paste this token below.\n"
   ]
  },
  {
   "cell_type": "code",
   "execution_count": null,
   "metadata": {},
   "outputs": [],
   "source": [
    "# AUDIO_FILE = \"as_good.wav\"\n",
    "AUDIO_FILE = \"/tmp/wavtest.wav\""
   ]
  },
  {
   "cell_type": "code",
   "execution_count": null,
   "metadata": {},
   "outputs": [],
   "source": [
    "import assemblyai\n",
    "\n",
    "aai = assemblyai.Client(token='fill-in')\n",
    "\n",
    "transcript = aai.transcribe(filename=AUDIO_FILE)"
   ]
  },
  {
   "cell_type": "code",
   "execution_count": null,
   "metadata": {},
   "outputs": [],
   "source": [
    "transcript"
   ]
  },
  {
   "cell_type": "code",
   "execution_count": null,
   "metadata": {},
   "outputs": [],
   "source": [
    "while transcript.status != 'completed':\n",
    "    transcript = transcript.get()\n",
    "\n",
    "text = transcript.text"
   ]
  },
  {
   "cell_type": "code",
   "execution_count": null,
   "metadata": {},
   "outputs": [],
   "source": [
    "text"
   ]
  },
  {
   "cell_type": "code",
   "execution_count": null,
   "metadata": {},
   "outputs": [],
   "source": [
    "transcript.props()"
   ]
  },
  {
   "cell_type": "code",
   "execution_count": null,
   "metadata": {},
   "outputs": [],
   "source": [
    "transcript.confidence"
   ]
  },
  {
   "cell_type": "code",
   "execution_count": null,
   "metadata": {},
   "outputs": [],
   "source": [
    "from pocketsphinx import LiveSpeech\n",
    "for phrase in LiveSpeech(): print(phrase)"
   ]
  },
  {
   "cell_type": "code",
   "execution_count": null,
   "metadata": {},
   "outputs": [],
   "source": [
    "from pocketsphinx import AudioFile\n",
    "\n",
    "# Frames per Second\n",
    "fps = 100\n",
    "\n",
    "for phrase in AudioFile(frate=fps):  # frate (default=100)\n",
    "    print('-' * 28)\n",
    "    print('| %5s |  %3s  |   %4s   |' % ('start', 'end', 'word'))\n",
    "    print('-' * 28)\n",
    "    for s in phrase.seg():\n",
    "        print('| %4ss | %4ss | %8s |' % (s.start_frame / fps, s.end_frame / fps, s.word))\n",
    "    print('-' * 28)"
   ]
  },
  {
   "cell_type": "code",
   "execution_count": null,
   "metadata": {},
   "outputs": [],
   "source": [
    "from __future__ import print_function\n",
    "import os\n",
    "from pocketsphinx import Pocketsphinx, get_model_path, get_data_path\n",
    "\n",
    "model_path = get_model_path()\n",
    "data_path = get_data_path()\n",
    "\n",
    "config = {\n",
    "    'hmm': os.path.join(model_path, 'en-us'),\n",
    "    'lm': os.path.join(model_path, 'en-us.lm.bin'),\n",
    "    'dict': os.path.join(model_path, 'cmudict-en-us.dict')\n",
    "}\n",
    "\n",
    "ps = Pocketsphinx(**config)\n",
    "ps.decode(\n",
    "    audio_file=AUDIO_FILE,  # os.path.join(data_path, 'goforward.raw'),\n",
    "    buffer_size=2048,\n",
    "    no_search=False,\n",
    "    full_utt=False\n",
    ")\n"
   ]
  },
  {
   "cell_type": "code",
   "execution_count": null,
   "metadata": {},
   "outputs": [],
   "source": [
    "print(ps.segments()) \n",
    "print('Detailed segments:', *ps.segments(detailed=True), sep='\\n')"
   ]
  },
  {
   "cell_type": "code",
   "execution_count": null,
   "metadata": {},
   "outputs": [],
   "source": [
    "print(ps.hypothesis())  \n",
    "print(ps.probability()) \n",
    "print(ps.score())       \n",
    "print(ps.confidence())  "
   ]
  },
  {
   "cell_type": "code",
   "execution_count": null,
   "metadata": {},
   "outputs": [],
   "source": []
  }
 ],
 "metadata": {
  "kernelspec": {
   "display_name": "Python (aib)",
   "language": "python",
   "name": "aib"
  },
  "language_info": {
   "codemirror_mode": {
    "name": "ipython",
    "version": 3
   },
   "file_extension": ".py",
   "mimetype": "text/x-python",
   "name": "python",
   "nbconvert_exporter": "python",
   "pygments_lexer": "ipython3",
   "version": "3.6.5"
  }
 },
 "nbformat": 4,
 "nbformat_minor": 2
}
