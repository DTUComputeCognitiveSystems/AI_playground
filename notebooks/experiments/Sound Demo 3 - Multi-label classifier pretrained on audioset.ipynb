{
 "cells": [
  {
   "cell_type": "markdown",
   "metadata": {
    "nbpresent": {
     "id": "d605db20-ad5f-46fd-b1b6-d3c443790dd2"
    }
   },
   "source": [
    "# Detecting sound sources in YouTube videos"
   ]
  },
  {
   "cell_type": "markdown",
   "metadata": {
    "nbpresent": {
     "id": "316d0c46-4c2d-464e-a43f-4cc155e77a44"
    }
   },
   "source": [
    "## First load all dependencies and set work and data paths"
   ]
  },
  {
   "cell_type": "code",
   "execution_count": 11,
   "metadata": {
    "nbpresent": {
     "id": "e7f98ac1-2ed0-4e07-aae1-4f0cc67710c2"
    },
    "scrolled": true
   },
   "outputs": [
    {
     "data": {
      "text/html": [
       "<style>.container { width:100% !important; }</style>"
      ],
      "text/plain": [
       "<IPython.core.display.HTML object>"
      ]
     },
     "metadata": {},
     "output_type": "display_data"
    },
    {
     "name": "stdout",
     "output_type": "stream",
     "text": [
      "32767\n",
      "Chosen classes for experiments:\n",
      "0               Speech\n",
      "137              Music\n",
      "62     Finger snapping\n",
      "63            Clapping\n",
      "500            Silence\n",
      "37             Humming\n",
      "Name: display_name, dtype: object\n"
     ]
    }
   ],
   "source": [
    "# set plotting parameters\n",
    "%matplotlib inline\n",
    "import matplotlib.pyplot as plt\n",
    "# change notebook settings for wider screen\n",
    "from IPython.core.display import display, HTML\n",
    "display(HTML(\"<style>.container { width:100% !important; }</style>\"))\n",
    "\n",
    "# For embedding YouTube videos in Ipython Notebook\n",
    "from IPython.display import YouTubeVideo\n",
    "# and setting the time of the video in seconds\n",
    "from datetime import timedelta\n",
    "\n",
    "import numpy as np\n",
    "import os\n",
    "import sys\n",
    "import urllib.request\n",
    "import pandas as pd\n",
    "\n",
    "sys.path.append(os.path.join('src', 'audioset_demos')) \n",
    "\n",
    "from __future__ import print_function\n",
    "\n",
    "# signal processing library\n",
    "from scipy import signal\n",
    "from scipy.io import wavfile\n",
    "import wave\n",
    "import six\n",
    "import tensorflow as tf\n",
    "import h5py\n",
    "\n",
    "# Audio IO and fast plotting\n",
    "import pyaudio\n",
    "from pyqtgraph.Qt import QtCore, QtGui\n",
    "import pyqtgraph as pg\n",
    "\n",
    "# Multiprocessing and threading\n",
    "import multiprocessing\n",
    "\n",
    "\n",
    "# Dependencies for creating deep VGGish embeddings\n",
    "from src.audioset_demos import vggish_input\n",
    "import vggish_input\n",
    "import vggish_params\n",
    "import vggish_postprocess\n",
    "import vggish_slim\n",
    "pca_params = 'vggish_pca_params.npz'\n",
    "model_checkpoint = 'vggish_model.ckpt'\n",
    "\n",
    "# Our YouTube video downloader based on youtube-dl module\n",
    "from src.audioset_demos import download_youtube_wav as dl_yt\n",
    "\n",
    "# third-party sounds processing and visualization library\n",
    "import librosa\n",
    "import librosa.display\n",
    "\n",
    "# Set user\n",
    "usr = 'maxvo'\n",
    "\n",
    "MAXINT16 = np.iinfo(np.int16).max\n",
    "print(MAXINT16)\n",
    "\n",
    "FOCUS_CLASSES_ID = [0, 137, 62, 63, 500, 37] \n",
    "#FOCUS_CLASSES_ID = [0, 137, 37, 40, 62, 63, 203, 208, 359, 412, 500]\n",
    "class_labels = pd.read_csv(os.path.join('src', 'audioset_demos', 'class_labels_indices.csv'))\n",
    "CLASS_NAMES = class_labels.loc[:, 'display_name'].tolist()\n",
    "\n",
    "FOCUS_CLASS_NAME_FRAME = class_labels.loc[FOCUS_CLASSES_ID, 'display_name']\n",
    "\n",
    "FOCUS_CLASS_NAME = FOCUS_CLASS_NAME_FRAME.tolist()\n",
    "\n",
    "print(\"Chosen classes for experiments:\")\n",
    "print(FOCUS_CLASS_NAME_FRAME)\n",
    "\n",
    "\n",
    "# Set current working directory\n",
    "src_dir = os.getcwd()\n",
    "\n",
    "# Set raw wav-file data directories for placing downloaded audio\n",
    "raw_dir = os.path.join(src_dir, 'data' ,'audioset_demos', 'raw')\n",
    "short_raw_dir = os.path.join(src_dir, 'data', 'audioset_demos', 'short_raw')\n",
    "if not os.path.exists(short_raw_dir):\n",
    "    os.makedirs(short_raw_dir)\n",
    "if not os.path.exists(raw_dir):\n",
    "    os.makedirs(raw_dir)\n",
    "    \n",
    "audioset_data_path = os.path.join('data', 'audioset_demos', 'audioset', 'packed_features')"
   ]
  },
  {
   "cell_type": "markdown",
   "metadata": {},
   "source": [
    "## Download model parameters and PCA embedding"
   ]
  },
  {
   "cell_type": "code",
   "execution_count": 12,
   "metadata": {},
   "outputs": [],
   "source": [
    "if not os.path.isfile(os.path.join('src', 'audioset_demos', 'vggish_model.ckpt')):\n",
    "    urllib.request.urlretrieve(\n",
    "        \"https://storage.googleapis.com/audioset/vggish_model.ckpt\",\n",
    "        filename=os.path.join('src', 'audioset_demos', 'vggish_model.ckpt')\n",
    "    )\n",
    "\n",
    "if not os.path.isfile(os.path.join('src', 'audioset_demos', 'vggish_pca_params.npz')):\n",
    "    urllib.request.urlretrieve(\n",
    "        \"https://storage.googleapis.com/audioset/vggish_pca_params.npz\",\n",
    "        filename=os.path.join('src', 'audioset_demos', 'vggish_pca_params.npz')\n",
    "    )\n",
    "    \n",
    "if not os.path.isfile(os.path.join('data', 'audioset_demos', 'features.tar.gz')):\n",
    "    urllib.request.urlretrieve(\n",
    "        \"https://storage.googleapis.com/eu_audioset/youtube_corpus/v1/features/features.tar.gz\",\n",
    "        filename=os.path.join('data', 'audioset_demos', 'features.tar.gz')\n",
    "    )\n",
    "\n"
   ]
  },
  {
   "cell_type": "code",
   "execution_count": 13,
   "metadata": {},
   "outputs": [],
   "source": [
    "import gzip\n",
    "import shutil\n",
    "with gzip.open(os.path.join('data', 'audioset_demos', 'features.tar.gz'), 'rb') as f_in:\n",
    "    with open('packed_features', 'wb') as f_out:\n",
    "        shutil.copyfileobj(f_in, f_out)"
   ]
  },
  {
   "cell_type": "code",
   "execution_count": 2,
   "metadata": {
    "nbpresent": {
     "id": "6b33953c-5d3f-4332-a625-2d56a3b58c0c"
    },
    "scrolled": true
   },
   "outputs": [],
   "source": [
    "def save_data(hdf5_path, x, video_id_list, y=None):\n",
    "    with h5py.File(hdf5_path, 'w') as hf:\n",
    "        hf.create_dataset('x', data=x)\n",
    "        hf.create_dataset('y', data=y)\n",
    "        hf.create_dataset('video_id_list', data=video_id_list, dtype='S11')\n",
    "\n",
    "def load_data(hdf5_path):\n",
    "    with h5py.File(hdf5_path, 'r') as hf:\n",
    "        x = hf['x'][:]\n",
    "        if hf['y'] is not None:\n",
    "            y = hf['y'][:]\n",
    "        else:\n",
    "            y = hf['y']\n",
    "        video_id_list = hf['video_id_list'][:].tolist()\n",
    "\n",
    "    return x, y, video_id_list\n",
    "\n",
    "def time_str_to_sec(time_str='00:00:00'):\n",
    "    time_str_list = time_str.split(':')\n",
    "    seconds = int(\n",
    "        timedelta(\n",
    "            hours=int(time_str_list[0]),\n",
    "            minutes=int(time_str_list[1]),\n",
    "            seconds=int(time_str_list[2])\n",
    "        ).total_seconds()\n",
    "    )\n",
    "    return seconds\n",
    "\n",
    "\n",
    "class miniRecorder:\n",
    "    \n",
    "    def __init__(self, seconds=4, sampling_rate=16000):\n",
    "        self.FORMAT = pyaudio.paInt16 #paFloat32  #paInt16\n",
    "        self.CHANNELS = 1       # Must be Mono \n",
    "        self.RATE = sampling_rate       # sampling rate (Hz), 22050 was used for this application\n",
    "        self.FRAMESIZE = 4200   # buffer size, number of data points to read at a time\n",
    "        self.RECORD_SECONDS = seconds + 1 # how long should the recording (approx) be\n",
    "        self.NOFRAMES = int((self.RATE * self.RECORD_SECONDS) / self.FRAMESIZE)  # number of frames needed\n",
    "    \n",
    "    def record(self):\n",
    "        # instantiate pyaudio\n",
    "        p = pyaudio.PyAudio()\n",
    "        # open stream\n",
    "        stream = p.open(format=self.FORMAT,\n",
    "                       channels=self.CHANNELS,\n",
    "                       rate=self.RATE,\n",
    "                       input=True,\n",
    "                       frames_per_buffer=self.FRAMESIZE)\n",
    "        # discard the first part of the recording\n",
    "        discard = stream.read(self.FRAMESIZE)\n",
    "        print('Recording...')\n",
    "        data = stream.read(self.NOFRAMES * self.FRAMESIZE)\n",
    "        decoded = np.frombuffer(data, dtype=np.int16) #np.float32)\n",
    "        print('Finished...')\n",
    "        stream.stop_stream()\n",
    "        stream.close()\n",
    "        p.terminate()\n",
    "        \n",
    "        # Remove first second to avoid \"click\" sound from starting recording\n",
    "        self.sound_clip = decoded[self.RATE:]\n",
    "\n",
    "class Worker(QtCore.QRunnable):\n",
    "    '''\n",
    "    Worker thread\n",
    "\n",
    "    Inherits from QRunnable to handler worker thread setup, signals and wrap-up.\n",
    "\n",
    "    :param callback: The function callback to run on this worker thread. Supplied args and \n",
    "                     kwargs will be passed through to the runner.\n",
    "    :type callback: function\n",
    "    :param args: Arguments to pass to the callback function\n",
    "    :param kwargs: Keywords to pass to the callback function\n",
    "\n",
    "    '''\n",
    "\n",
    "    def __init__(self, fn, *args, **kwargs):\n",
    "        super(Worker, self).__init__()\n",
    "        # Store constructor arguments (re-used for processing)\n",
    "        self.fn = fn\n",
    "        self.args = args\n",
    "        self.kwargs = kwargs\n",
    "\n",
    "    @QtCore.pyqtSlot()\n",
    "    def run(self):\n",
    "        '''\n",
    "        Initialise the runner function with passed args, kwargs.\n",
    "        '''\n",
    "        self.fn(*self.args, **self.kwargs)\n",
    "\n",
    "        \n",
    "class AudioFile:\n",
    "    def __init__(self, file, chunk):\n",
    "        \"\"\" Init audio stream \"\"\"\n",
    "        self.chunk = chunk\n",
    "        self.data = ''\n",
    "        self.wf = wave.open(file, 'rb')\n",
    "        self.p = pyaudio.PyAudio()\n",
    "        self.stream = self.p.open(\n",
    "            format = self.p.get_format_from_width(self.wf.getsampwidth()),\n",
    "            channels = self.wf.getnchannels(),\n",
    "            rate = self.wf.getframerate(),\n",
    "            output = True\n",
    "        )\n",
    "\n",
    "    def play(self):\n",
    "        \"\"\" Play entire file \"\"\"\n",
    "        self.data = self.wf.readframes(self.chunk)\n",
    "        while self.data:\n",
    "            self.stream.write(self.data)\n",
    "            self.data = self.wf.readframes(self.chunk)\n",
    "        self.close()\n",
    "\n",
    "    def close(self):\n",
    "        \"\"\" Graceful shutdown \"\"\" \n",
    "        self.stream.close()\n",
    "        self.p.terminate()\n",
    "    \n",
    "    def read(self, chunk, exception_on_overflow=False):\n",
    "        return self.data\n",
    "        \n",
    "\n",
    "        \n",
    "class App(QtGui.QMainWindow):\n",
    "    def __init__(self,\n",
    "                 predictor,\n",
    "                 n_top_classes=10,\n",
    "                 plot_classes=FOCUS_CLASSES_ID,\n",
    "                 parent=None):\n",
    "        super(App, self).__init__(parent)\n",
    "        \n",
    "        ### Predictor model ###\n",
    "        self.predictor = predictor\n",
    "        self.n_classes = predictor.n_classes\n",
    "        self.n_top_classes = n_top_classes\n",
    "        self.plot_classes = plot_classes\n",
    "        self.n_plot_classes = len(self.plot_classes)\n",
    "        \n",
    "        ### Start/stop control variable\n",
    "        self.continue_recording = False\n",
    "        self._timerId = None\n",
    "\n",
    "        ### Settings ###\n",
    "        self.rate = 16000    # sampling rate\n",
    "        self.chunk = 1000    # reading chunk sizes, \n",
    "        #self.rate = 22050    # sampling rate\n",
    "        #self.chunk = 2450    # reading chunk sizes, make it a divisor of sampling rate\n",
    "        #self.rate = 44100    # sampling rate\n",
    "        #self.chunk = 882    # reading chunk sizes, make it a divisor of sampling rate\n",
    "        self.nperseg = 400   # samples pr segment for spectrogram, scipy default is 256\n",
    "        # self.nperseg = 490   # samples pr segment for spectrogram, scipy default is 256\n",
    "        self.noverlap = 0    # overlap between spectrogram windows, scipt default is nperseg // 8 \n",
    "        self.tape_length = 20  # length of running tape\n",
    "        self.plot_length = 10 * self.rate\n",
    "        self.samples_passed = 0\n",
    "        self.pred_length = 10\n",
    "        self.pred_samples = self.rate * self.pred_length\n",
    "        self.start_tape()    # initialize the tape\n",
    "        self.eps = np.finfo(float).eps\n",
    "        # Interval between predictions in number of samples\n",
    "        self.pred_intv = (self.tape_length // 4) * self.rate\n",
    "        self.pred_step = 10 * self.chunk\n",
    "        self.full_tape = False\n",
    "        #### Create Gui Elements ###########\n",
    "        self.mainbox = QtGui.QWidget()\n",
    "        self.setCentralWidget(self.mainbox)\n",
    "        self.mainbox.setLayout(QtGui.QVBoxLayout())\n",
    "        self.canvas = pg.GraphicsLayoutWidget()\n",
    "        self.mainbox.layout().addWidget(self.canvas)\n",
    "        self.label = QtGui.QLabel()\n",
    "        self.mainbox.layout().addWidget(self.label)\n",
    "        \n",
    "        # Thread pool for prediction worker coordination\n",
    "        self.threadpool = QtCore.QThreadPool()\n",
    "        # self.threadpool_plot = QtCore.QThreadPool()\n",
    "        print(\"Multithreading with maximum %d threads\" % self.threadpool.maxThreadCount())\n",
    "        \n",
    "        # Play, record and predict button in toolbar\n",
    "        '''\n",
    "        self.playTimer = QtCore.QTimer()\n",
    "        self.playTimer.setInterval(500)\n",
    "        self.playTimer.timeout.connect(self.playTick)\n",
    "        self.toolbar = self.addToolBar(\"Play\")\n",
    "        self.playScansAction = QtGui.QAction(QtGui.QIcon(\"control_play_blue.png\"), \"play scans\", self)\n",
    "        self.playScansAction.triggered.connect(self.playScansPressed)\n",
    "        self.playScansAction.setCheckable(True)\n",
    "        self.toolbar.addAction(self.playScansAction)\n",
    "        '''\n",
    "        \n",
    "        # Buttons and user input\n",
    "        btn_brow_1 = QtGui.QPushButton('Start/Stop Recording', self)\n",
    "        btn_brow_1.setGeometry(300, 15, 250, 25)\n",
    "        #btn_brow_4.clicked.connect(support.main(fname_points, self.fname_stl_indir, self.fname_stl_outdir))\n",
    "        # Action: Start or stop recording\n",
    "        btn_brow_1.clicked.connect(lambda: self.press_record())\n",
    "        \n",
    "        btn_brow_2 = QtGui.QPushButton('Predict', self)\n",
    "        btn_brow_2.setGeometry(20, 15, 250, 25)\n",
    "        # Action: predict on present tape roll\n",
    "        btn_brow_2.clicked.connect(\n",
    "            lambda: self.start_predictions(\n",
    "                sound_clip=self.tape,\n",
    "                full_tape=False\n",
    "            )\n",
    "        )\n",
    "        \n",
    "        self.le1 = QtGui.QLineEdit(self)\n",
    "        self.le1.setGeometry(600, 15, 250, 21)\n",
    "        self.yt_video_id = str(self.le1.text())\n",
    "        \n",
    "        self.statusBar().showMessage(\"Ready\")\n",
    "\n",
    "        # self.toolbar = self.addToolBar('Exit')\n",
    "        # self.toolbar.addAction(exitAction)\n",
    "\n",
    "        self.setGeometry(300, 300, 1400, 1200)\n",
    "        self.setWindowTitle('Live Audio Event Detector')\n",
    "        # self.show()\n",
    "        \n",
    "        #  line plot\n",
    "        self.plot = self.canvas.addPlot()\n",
    "        self.p1 = self.plot.plot(pen='r')\n",
    "        self.plot.setXRange(0, self.plot_length)\n",
    "        self.plot.setYRange(-0.5, 0.5)\n",
    "        self.plot.hideAxis('left')\n",
    "        self.plot.hideAxis('bottom')\n",
    "        self.canvas.nextRow()\n",
    "        \n",
    "        # spectrogram\n",
    "        self.view = self.canvas.addViewBox()\n",
    "        self.view.setAspectLocked(False)\n",
    "        self.view.setRange(QtCore.QRectF(0,0, self.spec.shape[1], 100))\n",
    "        # image plot\n",
    "        self.img = pg.ImageItem() #(border='w')\n",
    "        self.view.addItem(self.img)\n",
    "        \n",
    "        # bipolar colormap\n",
    "        pos = np.array([0., 1., 0.5, 0.25, 0.75])\n",
    "        color = np.array([[0,255,255,255], [255,255,0,255], [0,0,0,255], (0, 0, 255, 255), (255, 0, 0, 255)], dtype=np.ubyte)\n",
    "        cmap = pg.ColorMap(pos, color)\n",
    "        lut = cmap.getLookupTable(0.0, 1.0, 256)\n",
    "        self.img.setLookupTable(lut)\n",
    "        self.img.setLevels([-15, -5])\n",
    "        \n",
    "        self.canvas.nextRow()\n",
    "        \n",
    "        # create bar chart\n",
    "        #self.view2 = self.canvas.addViewBox()\n",
    "        # dummy data\n",
    "        #self.x = np.arange(self.n_top_classes)\n",
    "        #self.y1 = np.linspace(0, self.n_classes, num=self.n_top_classes)\n",
    "        #self.bg1 = pg.BarGraphItem(x=self.x, height=self.y1, width=0.6, brush='r')\n",
    "        #self.view2.addItem(self.bg1)\n",
    "        \n",
    "        # Prediction line plot\n",
    "        self.plot2 = self.canvas.addPlot()\n",
    "        self.plot2.addLegend()\n",
    "        self.plot_list = [None]*self.n_plot_classes\n",
    "        for i in range(self.n_plot_classes):\n",
    "            self.plot_list[i] = self.plot2.plot(\n",
    "                pen=pg.intColor(i),\n",
    "                name=CLASS_NAMES[self.plot_classes[i]]\n",
    "            )\n",
    "        \n",
    "        self.plot2.setXRange(0, self.plot_length)\n",
    "        self.plot2.setYRange(0.0, 1.0)\n",
    "        self.plot2.hideAxis('left')\n",
    "        self.plot2.hideAxis('bottom')\n",
    "\n",
    "        # self.canvas.nextRow()\n",
    "        #### Start  #####################\n",
    "        \n",
    "        # self.p = pyaudio.PyAudio()\n",
    "        # self.start_stream()\n",
    "        # self._update()\n",
    "\n",
    "    def playScansPressed(self):\n",
    "        if self.playScansAction.isChecked():\n",
    "            self.playTimer.start()\n",
    "        else:\n",
    "            self.playTimer.stop()\n",
    "\n",
    "    def playTick(self):\n",
    "        self._update()\n",
    "\n",
    "        \n",
    "    def start_stream(self):\n",
    "        if not self.yt_video_id:\n",
    "            self.stream = self.p.open(\n",
    "                format=pyaudio.paFloat32, \n",
    "                channels=1, \n",
    "                rate=self.rate,\n",
    "                input=True,\n",
    "                frames_per_buffer=self.chunk\n",
    "            )\n",
    "        else: \n",
    "            self.stream = AudioFile(self.yt_video_id, self.chunk)\n",
    "            self.stream.play()\n",
    "\n",
    "    \n",
    "    def close_stream(self):\n",
    "        self.stream.stop_stream()\n",
    "        self.stream.close()\n",
    "        self.p.terminate()\n",
    "        # self.exit_pool()\n",
    "        \n",
    "    def read_stream(self):\n",
    "        self.raw = self.stream.read(self.chunk, exception_on_overflow=False)\n",
    "        data = np.frombuffer(self.raw, dtype=np.float32)\n",
    "        return self.raw, data\n",
    "    \n",
    "    def start_tape(self):\n",
    "        self.tape = np.zeros(self.tape_length * self.rate)\n",
    "        # empty spectrogram tape\n",
    "        self.f, self.t, self.Sxx = signal.spectrogram(\n",
    "            self.tape[-self.plot_length:],\n",
    "            self.rate, \n",
    "            nperseg=self.nperseg,\n",
    "            noverlap=self.noverlap,\n",
    "            detrend=False,\n",
    "            return_onesided=True,\n",
    "            mode='magnitude'\n",
    "        )\n",
    "        self.spec = np.zeros(self.Sxx.shape)\n",
    "        self.pred = np.zeros((self.n_plot_classes, self.plot_length))\n",
    "        \n",
    "    def tape_add(self):\n",
    "        if self.continue_recording:\n",
    "            raw, audio = self.read_stream()\n",
    "            self.tape[:-self.chunk] = self.tape[self.chunk:]\n",
    "            self.tape[-self.chunk:] = audio\n",
    "            self.samples_passed += self.chunk\n",
    "        \n",
    "        # spectrogram on whole tape\n",
    "        # self.f, self.t, self.Sxx = signal.spectrogram(self.tape, self.rate)\n",
    "        # self.spec = self.Sxx\n",
    "        \n",
    "        # spectrogram on last added part of tape\n",
    "        self.f, self.t, self.Sxx = signal.spectrogram(self.tape[-self.chunk:], \n",
    "                                                      self.rate, \n",
    "                                                      nperseg=self.nperseg,\n",
    "                                                      noverlap=self.noverlap)\n",
    "        spec_chunk = self.Sxx.shape[1]\n",
    "        self.spec[:, :-spec_chunk] = self.spec[:, spec_chunk:]\n",
    "        # Extend spectrogram after converting to dB scale\n",
    "        self.spec[:, -spec_chunk:] = np.log10(abs(self.Sxx) + self.eps)\n",
    "        \n",
    "        self.pred[:, :-self.chunk] = self.pred[:, self.chunk:]\n",
    "        '''\n",
    "        if (self.samples_passed % self.pred_intv) == 0:\n",
    "            sound_clip = self.tape # (MAXINT16 * self.tape).astype('int16') / 32768.0\n",
    "            if self.full_tape:\n",
    "                # predictions on full tape\n",
    "                pred_chunk = self.predictor.predict(\n",
    "                    sound_clip=sound_clip[-self.pred_intv:],\n",
    "                    sample_rate=self.rate\n",
    "                )[0][self.plot_classes]\n",
    "                self.pred[:, -self.pred_intv:] = np.asarray(\n",
    "                        (self.pred_intv) * [pred_chunk]).transpose()\n",
    "\n",
    "            else:\n",
    "                # prediction, on some snip of the last part of the signal\n",
    "                # 1 s seems to be the shortest time frame with reliable predictions\n",
    "                self.start_predictions(sound_clip)\n",
    "        '''\n",
    "    \n",
    "    def start_predictions(self, sound_clip=None, full_tape=False):\n",
    "        #self.samples_passed_at_predict = self.samples_passed\n",
    "        if sound_clip is None:\n",
    "            sound_clip = self.tape\n",
    "        \n",
    "        if full_tape:\n",
    "            worker = Worker(self.provide_prediction, *(), **{\n",
    "                    \"sound_clip\": sound_clip,\n",
    "                    \"pred_start\": -self.pred_samples,\n",
    "                    \"pred_stop\": None,\n",
    "                    \"pred_step\": self.pred_samples\n",
    "                }\n",
    "            )\n",
    "            self.threadpool.start(worker)\n",
    "        else:\n",
    "            for chunk in range(0, self.pred_intv, self.pred_step):\n",
    "                pred_start = - self.pred_intv - self.pred_samples + chunk\n",
    "                pred_stop = - self.pred_intv + chunk\n",
    "                worker = Worker(self.provide_prediction, *(), **{\n",
    "                        \"sound_clip\": sound_clip,\n",
    "                        \"pred_start\": pred_start,\n",
    "                        \"pred_stop\": pred_stop,\n",
    "                        \"pred_step\": self.pred_step\n",
    "                    }\n",
    "                )\n",
    "                self.threadpool.start(worker)\n",
    "    \n",
    "    def provide_prediction(self, sound_clip, pred_start, pred_stop, pred_step):\n",
    "        #samples_passed_since_predict = self.samples_passed - self.samples_passed_at_predict\n",
    "        #pred_stop -= samples_passed_since_predict\n",
    "        pred_chunk = self.predictor.predict(\n",
    "            sound_clip=sound_clip[pred_start:pred_stop],\n",
    "            sample_rate=self.rate\n",
    "        )[0][self.plot_classes]\n",
    "        #samples_passed_since_predict = self.samples_passed - self.samples_passed_at_predict - samples_passed_since_predict\n",
    "        #pred_stop -= samples_passed_since_predict\n",
    "        if pred_stop is not None:\n",
    "            pred_stop_step = pred_stop - pred_step\n",
    "        else:\n",
    "            pred_stop_step = None\n",
    "        self.pred[:, pred_stop_step:pred_stop] = np.asarray(\n",
    "            (pred_step) * [pred_chunk]\n",
    "        ).transpose()\n",
    "\n",
    "\n",
    "    def exit_pool(self):\n",
    "        \"\"\"\n",
    "        Exit all QRunnables and delete QThreadPool\n",
    "\n",
    "        \"\"\"\n",
    "\n",
    "        # When trying to quit, the application takes a long time to stop\n",
    "        self.threadpool.globalInstance().waitForDone()\n",
    "        self.threadpool.deleteLater()\n",
    "\n",
    "        sys.exit(0)\n",
    "    \n",
    "    def press_record(self):\n",
    "        self.yt_video_id = str(self.le1.text())\n",
    "        # Switch between continue recording or stopping it \n",
    "        # Start or avoid starting recording dependent on last press\n",
    "        if self.continue_recording:\n",
    "            self.continue_recording = False\n",
    "            #if self._timerId is not None:\n",
    "            #    self.killTimer(self._timerId)\n",
    "            self.close_stream()\n",
    "        else:\n",
    "            self.continue_recording = True\n",
    "            self.p = pyaudio.PyAudio()\n",
    "            self.start_stream()\n",
    "            self._update()\n",
    "    \n",
    "    def _update(self):\n",
    "        try:\n",
    "            if self.continue_recording:\n",
    "                self.tape_add()\n",
    "\n",
    "                # self.img.setImage(self.spec.T)\n",
    "                #kwargs = {\n",
    "                #    \"image\": self.spec.T,\n",
    "                #    \"autoLevels\": False,\n",
    "                #\n",
    "                #worker = Worker(self.img.setImage, *(), **kwargs)\n",
    "                #self.threadpool_plot.start(worker)\n",
    "\n",
    "                self.img.setImage(self.spec.T, autoLevels=False)\n",
    "\n",
    "                #worker = Worker(\n",
    "                #    self.p1.setData,\n",
    "                #    *(),\n",
    "                #    **{'y': self.tape[-self.plot_length:]}\n",
    "                #)\n",
    "                #self.threadpool_plot.start(worker)\n",
    "\n",
    "                self.p1.setData(self.tape[-self.plot_length:])\n",
    "\n",
    "                #pred_var = np.var(self.pred, axis=-1)\n",
    "                #pred_mean = np.mean(self.pred, axis=-1)\n",
    "\n",
    "                #class_cand = np.where( (pred_mean > 0.001)*(pred_var > 0.01) )\n",
    "\n",
    "                # n_classes_incl = min(self.n_top_classes, class_cand[0].shape[0]) \n",
    "\n",
    "                # print(n_classes_incl)\n",
    "\n",
    "                for i in range(self.n_plot_classes):\n",
    "                    #worker = Worker(\n",
    "                    #    self.plot_list[i].setData,\n",
    "                    #    *(),\n",
    "                    #    **{'y': self.pred[i,:]}\n",
    "                    #)\n",
    "                    #self.threadpool_plot.start(worker)\n",
    "\n",
    "                    self.plot_list[i].setData(self.pred[i,:]) # self.plot_classes[i],:])\n",
    "\n",
    "                #self.bg1.setOpts(\n",
    "                #    height=self.y1\n",
    "                #)\n",
    "                #self.bg1.setOpts(\n",
    "                #    height=np.sort(\n",
    "                #        self.pred[:, -1]\n",
    "                #    )[-1:-(self.n_top_classes+1):-1]\n",
    "                #)\n",
    "                #print(np.max(self.tape), np.min(self.tape))\n",
    "                # self.label.setText('Class: {0:0.3f}'.format(self.pred[-1]))\n",
    "\n",
    "                QtCore.QTimer.singleShot(1, self._update)\n",
    "            \n",
    "        except KeyboardInterrupt:\n",
    "            self.close_stream()"
   ]
  },
  {
   "cell_type": "code",
   "execution_count": 3,
   "metadata": {
    "nbpresent": {
     "id": "4ffc738d-9fff-4629-bbd9-40b9176a1d72"
    },
    "scrolled": true
   },
   "outputs": [
    {
     "name": "stderr",
     "output_type": "stream",
     "text": [
      "Using TensorFlow backend.\n"
     ]
    },
    {
     "name": "stdout",
     "output_type": "stream",
     "text": [
      "\n",
      "Loading VGGish base model:\n",
      "_________________________________________________________________\n",
      "Layer (type)                 Output Shape              Param #   \n",
      "=================================================================\n",
      "input_1 (InputLayer)         (None, 96, 64, 1)         0         \n",
      "_________________________________________________________________\n",
      "conv1 (Conv2D)               (None, 96, 64, 64)        640       \n",
      "_________________________________________________________________\n",
      "pool1 (MaxPooling2D)         (None, 48, 32, 64)        0         \n",
      "_________________________________________________________________\n",
      "conv2 (Conv2D)               (None, 48, 32, 128)       73856     \n",
      "_________________________________________________________________\n",
      "pool2 (MaxPooling2D)         (None, 24, 16, 128)       0         \n",
      "_________________________________________________________________\n",
      "conv3_1 (Conv2D)             (None, 24, 16, 256)       295168    \n",
      "_________________________________________________________________\n",
      "conv3_2 (Conv2D)             (None, 24, 16, 256)       590080    \n",
      "_________________________________________________________________\n",
      "pool3 (MaxPooling2D)         (None, 12, 8, 256)        0         \n",
      "_________________________________________________________________\n",
      "conv4_1 (Conv2D)             (None, 12, 8, 512)        1180160   \n",
      "_________________________________________________________________\n",
      "conv4_2 (Conv2D)             (None, 12, 8, 512)        2359808   \n",
      "_________________________________________________________________\n",
      "pool4 (MaxPooling2D)         (None, 6, 4, 512)         0         \n",
      "_________________________________________________________________\n",
      "flatten (Flatten)            (None, 12288)             0         \n",
      "_________________________________________________________________\n",
      "fc1_1 (Dense)                (None, 4096)              50335744  \n",
      "_________________________________________________________________\n",
      "fc1_2 (Dense)                (None, 4096)              16781312  \n",
      "_________________________________________________________________\n",
      "fc2 (Dense)                  (None, 128)               524416    \n",
      "=================================================================\n",
      "Total params: 72,141,184\n",
      "Trainable params: 72,141,184\n",
      "Non-trainable params: 0\n",
      "_________________________________________________________________\n",
      "\n",
      "\n",
      "Loading top model with weights from:\n",
      "models/md_50000_iters.h5\n",
      "__________________________________________________________________________________________________\n",
      "Layer (type)                    Output Shape         Param #     Connected to                     \n",
      "==================================================================================================\n",
      "input_2 (InputLayer)            (None, 10, 128)      0                                            \n",
      "__________________________________________________________________________________________________\n",
      "dense_1 (Dense)                 (None, 10, 1024)     132096      input_2[0][0]                    \n",
      "__________________________________________________________________________________________________\n",
      "batch_normalization_1 (BatchNor (None, 10, 1024)     4096        dense_1[0][0]                    \n",
      "__________________________________________________________________________________________________\n",
      "activation_1 (Activation)       (None, 10, 1024)     0           batch_normalization_1[0][0]      \n",
      "__________________________________________________________________________________________________\n",
      "dropout_1 (Dropout)             (None, 10, 1024)     0           activation_1[0][0]               \n",
      "__________________________________________________________________________________________________\n",
      "dense_2 (Dense)                 (None, 10, 1024)     1049600     dropout_1[0][0]                  \n",
      "__________________________________________________________________________________________________\n",
      "batch_normalization_2 (BatchNor (None, 10, 1024)     4096        dense_2[0][0]                    \n",
      "__________________________________________________________________________________________________\n",
      "activation_2 (Activation)       (None, 10, 1024)     0           batch_normalization_2[0][0]      \n",
      "__________________________________________________________________________________________________\n",
      "dropout_2 (Dropout)             (None, 10, 1024)     0           activation_2[0][0]               \n",
      "__________________________________________________________________________________________________\n",
      "dense_3 (Dense)                 (None, 10, 1024)     1049600     dropout_2[0][0]                  \n",
      "__________________________________________________________________________________________________\n",
      "batch_normalization_3 (BatchNor (None, 10, 1024)     4096        dense_3[0][0]                    \n",
      "__________________________________________________________________________________________________\n",
      "activation_3 (Activation)       (None, 10, 1024)     0           batch_normalization_3[0][0]      \n",
      "__________________________________________________________________________________________________\n",
      "dropout_3 (Dropout)             (None, 10, 1024)     0           activation_3[0][0]               \n",
      "__________________________________________________________________________________________________\n",
      "dense_4 (Dense)                 (None, 10, 527)      540175      dropout_3[0][0]                  \n",
      "__________________________________________________________________________________________________\n",
      "dense_5 (Dense)                 (None, 10, 527)      540175      dropout_3[0][0]                  \n",
      "__________________________________________________________________________________________________\n",
      "lambda_1 (Lambda)               (None, 527)          0           dense_4[0][0]                    \n",
      "                                                                 dense_5[0][0]                    \n",
      "==================================================================================================\n",
      "Total params: 3,323,934\n",
      "Trainable params: 3,317,790\n",
      "Non-trainable params: 6,144\n",
      "__________________________________________________________________________________________________\n"
     ]
    }
   ],
   "source": [
    "from AudioSetClassifier import AudioSetClassifier\n",
    "\n",
    "    # model_type='decision_level_single_attention',\n",
    "    # balance_type='balance_in_batch',\n",
    "    # at_iteration=50000\n",
    "\n",
    "#ASC = AudioSetClassifier(\n",
    "#    model_type='decision_level_max_pooling', #single_attention',\n",
    "#   balance_type='balance_in_batch',\n",
    "#    iters=50000\n",
    "#)\n",
    "\n",
    "ASC = AudioSetClassifier()"
   ]
  },
  {
   "cell_type": "code",
   "execution_count": null,
   "metadata": {
    "nbpresent": {
     "id": "54841c41-8eaf-402a-a6fc-c08c2c2cbbb0"
    },
    "scrolled": true
   },
   "outputs": [],
   "source": [
    "app=0           #This is the solution\n",
    "app = QtGui.QApplication(sys.argv)\n",
    "MainApp = App(predictor=ASC)\n",
    "MainApp.show()\n",
    "sys.exit(app.exec_())"
   ]
  },
  {
   "cell_type": "code",
   "execution_count": 8,
   "metadata": {
    "nbpresent": {
     "id": "6f0aead9-99f9-4481-8029-9c452ad53810"
    },
    "scrolled": true
   },
   "outputs": [
    {
     "name": "stdout",
     "output_type": "stream",
     "text": [
      "Recording...\n",
      "Finished...\n"
     ]
    }
   ],
   "source": [
    "minirec = miniRecorder(seconds=10, sampling_rate=16000)\n",
    "minirec.record()"
   ]
  },
  {
   "cell_type": "code",
   "execution_count": 9,
   "metadata": {
    "nbpresent": {
     "id": "81c6e57c-6c7b-4a35-a97e-a6363ee26870"
    },
    "scrolled": true
   },
   "outputs": [
    {
     "name": "stdout",
     "output_type": "stream",
     "text": [
      "[[  8.65663052e-01   1.39752665e-05   1.58889816e-04   1.18576922e-03]]\n"
     ]
    }
   ],
   "source": [
    "minirec_pred = ASC.predict(sound_clip=minirec.sound_clip / 32768.0, sample_rate=16000)\n",
    "\n",
    "print(minirec_pred[:,[0, 37, 62, 63]])"
   ]
  },
  {
   "cell_type": "code",
   "execution_count": 10,
   "metadata": {
    "scrolled": true
   },
   "outputs": [
    {
     "name": "stdout",
     "output_type": "stream",
     "text": [
      "(1, 527)\n",
      "                  display_name      prob\n",
      "0                       Speech  0.865663\n",
      "506         Inside, small room  0.050520\n",
      "1    Male speech, man speaking  0.047573\n",
      "5         Narration, monologue  0.047426\n",
      "46                       Snort  0.043561\n",
      "482                       Ping  0.025956\n",
      "354                       Door  0.017503\n",
      "458                      Arrow  0.016863\n",
      "438                       Chop  0.014797\n",
      "387                    Writing  0.014618\n"
     ]
    },
    {
     "data": {
      "image/png": "[encoded data removed]",
      "text/plain": [
       "<Figure size 432x288 with 1 Axes>"
      ]
     },
     "metadata": {},
     "output_type": "display_data"
    },
    {
     "name": "stdout",
     "output_type": "stream",
     "text": [
      "\n"
     ]
    }
   ],
   "source": [
    "max_prob_classes = np.argsort(minirec_pred, axis=-1)[:, ::-1]\n",
    "max_prob = np.sort(minirec_pred, axis=-1)[:,::-1]\n",
    "\n",
    "print(max_prob.shape)\n",
    "\n",
    "example = pd.DataFrame(class_labels['display_name'][max_prob_classes[0,:10]])\n",
    "example.loc[:, 'prob'] = pd.Series(max_prob[0, :10], index=example.index)\n",
    "print(example)\n",
    "example.plot.bar(x='display_name', y='prob', rot=90)\n",
    "plt.show()\n",
    "print()\n",
    "    "
   ]
  },
  {
   "cell_type": "markdown",
   "metadata": {
    "nbpresent": {
     "id": "9f9fcab8-c6a6-472d-8f10-64fda68bfdb0"
    }
   },
   "source": [
    "## Parameters for how to plot audio"
   ]
  },
  {
   "cell_type": "code",
   "execution_count": 32,
   "metadata": {
    "nbpresent": {
     "id": "b55050f8-9476-48db-bef9-9d597e40513e"
    },
    "scrolled": true
   },
   "outputs": [],
   "source": [
    "# Sample rate\n",
    "# this has to be at least twice of max frequency which we've entered\n",
    "# but you can play around with different sample rates and see how this\n",
    "# affects the results;\n",
    "# since we generated this audio, the sample rate is the bitrate\n",
    "sample_rate = vggish_params.SAMPLE_RATE\n",
    "\n",
    "# size of audio FFT window relative to sample_rate\n",
    "n_window = 1024\n",
    "# overlap between adjacent FFT windows\n",
    "n_overlap = 360\n",
    "# number of mel frequency bands to generate\n",
    "n_mels = 64\n",
    "\n",
    "# max duration of short video clips\n",
    "duration = 10\n",
    "\n",
    "# note frequencies https://pages.mtu.edu/~suits/notefreqs.html\n",
    "freq1 = 512.\n",
    "freq2 = 1024.\n",
    "# fmin and fmax for librosa filters in Hz - used for visualization purposes only\n",
    "fmax = max(freq1, freq2)*8 + 1000. \n",
    "fmin = 0.\n",
    "\n",
    "# stylistic change to the notebook\n",
    "fontsize = 14\n",
    "\n",
    "plt.rcParams['font.family'] = 'serif'\n",
    "plt.rcParams['font.serif'] = 'Ubuntu'\n",
    "plt.rcParams['font.monospace'] = 'Ubuntu Mono'\n",
    "plt.rcParams['font.size'] = fontsize\n",
    "plt.rcParams['axes.labelsize'] = fontsize\n",
    "plt.rcParams['axes.labelweight'] = 'bold'\n",
    "plt.rcParams['axes.titlesize'] = fontsize\n",
    "plt.rcParams['xtick.labelsize'] = fontsize\n",
    "plt.rcParams['ytick.labelsize'] = fontsize\n",
    "plt.rcParams['legend.fontsize'] = fontsize\n",
    "plt.rcParams['figure.titlesize'] = fontsize"
   ]
  },
  {
   "cell_type": "markdown",
   "metadata": {
    "nbpresent": {
     "id": "3cfeceb7-cbd3-4891-b5fc-f98d84ef5d22"
    }
   },
   "source": [
    "## Choosing video IDs and start times before download"
   ]
  },
  {
   "cell_type": "code",
   "execution_count": 33,
   "metadata": {
    "nbpresent": {
     "id": "01bddd87-ac2c-4c80-903a-35af8d2c608b"
    },
    "scrolled": true
   },
   "outputs": [],
   "source": [
    "video_ids = [\n",
    "    'BaW_jenozKc',\n",
    "    'E6sS2d-NeTE',\n",
    "    'xV0eTva6SKQ',\n",
    "    '2Szah76TMgo',\n",
    "    'g38kRk6YAA0',\n",
    "    'OkkkPAE9KvE',\n",
    "    'N1zUp9aPFG4'\n",
    "]\n",
    "\n",
    "video_start_time_str = [\n",
    "    '00:00:00',\n",
    "    '00:00:10',\n",
    "    '00:00:05',\n",
    "    '00:00:02',\n",
    "    '00:03:10',\n",
    "    '00:00:10',\n",
    "    '00:00:06'\n",
    "]\n",
    "video_start_time = list(map(time_str_to_sec, video_start_time_str))"
   ]
  },
  {
   "cell_type": "markdown",
   "metadata": {
    "nbpresent": {
     "id": "e08791f7-35ac-43b1-bd0e-6405c1e46a12"
    }
   },
   "source": [
    "## Download, save and cut video audio"
   ]
  },
  {
   "cell_type": "code",
   "execution_count": 34,
   "metadata": {
    "nbpresent": {
     "id": "5716c9e0-5a8a-4503-80e2-930de41ea8ed"
    },
    "scrolled": false
   },
   "outputs": [
    {
     "name": "stdout",
     "output_type": "stream",
     "text": [
      "Done downloading, now converting ...\n",
      "youtube-dl test video ''_ä↭𝕐 \n",
      "\tshort clip saved in:\n",
      "\t\t data/short_raw/BaW_jenozKc.wav\n",
      "youtube-dl test video ''_ä↭𝕐 \n",
      "\tfull clip saved in:\n",
      "\t\t data/raw/BaW_jenozKc.wav\n",
      "\n",
      "Done downloading, now converting ...\n",
      "Brandweer - Prio 1 Binnenbrand De Grevelingen Grevelingen Den Bosch - 634TS 651AL \n",
      "\tshort clip saved in:\n",
      "\t\t data/short_raw/E6sS2d-NeTE.wav\n",
      "Brandweer - Prio 1 Binnenbrand De Grevelingen Grevelingen Den Bosch - 634TS 651AL \n",
      "\tfull clip saved in:\n",
      "\t\t data/raw/E6sS2d-NeTE.wav\n",
      "\n",
      "Done downloading, now converting ...\n",
      "LED Lights + 100W Siren \n",
      "\tshort clip saved in:\n",
      "\t\t data/short_raw/xV0eTva6SKQ.wav\n",
      "LED Lights + 100W Siren \n",
      "\tfull clip saved in:\n",
      "\t\t data/raw/xV0eTva6SKQ.wav\n",
      "\n",
      "Done downloading, now converting ...\n",
      "Start \n",
      "\tshort clip saved in:\n",
      "\t\t data/short_raw/2Szah76TMgo.wav\n",
      "Start \n",
      "\tfull clip saved in:\n",
      "\t\t data/raw/2Szah76TMgo.wav\n",
      "\n",
      "Done downloading, now converting ...\n",
      "Splitting a Playing Card in ULTRA SLOW MOTION - Smarter Every Day 194 \n",
      "\tshort clip saved in:\n",
      "\t\t data/short_raw/g38kRk6YAA0.wav\n",
      "Splitting a Playing Card in ULTRA SLOW MOTION - Smarter Every Day 194 \n",
      "\tfull clip saved in:\n",
      "\t\t data/raw/g38kRk6YAA0.wav\n",
      "\n",
      "Done downloading, now converting ...\n",
      "Capuchin Monkeys _ Wild Caribbean _ BBC Earth \n",
      "\tshort clip saved in:\n",
      "\t\t data/short_raw/OkkkPAE9KvE.wav\n",
      "Capuchin Monkeys _ Wild Caribbean _ BBC Earth \n",
      "\tfull clip saved in:\n",
      "\t\t data/raw/OkkkPAE9KvE.wav\n",
      "\n",
      "Done downloading, now converting ...\n",
      "Zoo Animal Sounds! \n",
      "\tshort clip saved in:\n",
      "\t\t data/short_raw/N1zUp9aPFG4.wav\n",
      "Zoo Animal Sounds! \n",
      "\tfull clip saved in:\n",
      "\t\t data/raw/N1zUp9aPFG4.wav\n",
      "\n"
     ]
    }
   ],
   "source": [
    "video_titles = []\n",
    "maxv = np.iinfo(np.int16).max\n",
    "\n",
    "for i, vid in enumerate(video_ids): \n",
    "    # Download and store video under data/raw/\n",
    "    video_title = dl_yt.download_youtube_wav(\n",
    "        video_id=vid,\n",
    "        raw_dir=raw_dir,\n",
    "        short_raw_dir=short_raw_dir,\n",
    "        start_sec=video_start_time[i],\n",
    "        duration=duration,\n",
    "        sample_rate=sample_rate\n",
    "    )\n",
    "    video_titles += [video_title]\n",
    "    \n",
    "    print()\n",
    "    '''\n",
    "    audio_path = os.path.join(raw_dir, vid) + '.wav'\n",
    "    short_audio_path = os.path.join(short_raw_dir, vid) + '.wav'\n",
    "    \n",
    "    # Load and downsample audio to 16000\n",
    "    # audio is a 1D time series of the sound\n",
    "    # can also use (audio, fs) = soundfile.read(audio_path)\n",
    "    (audio, fs) = librosa.load(\n",
    "        audio_path,\n",
    "        sr = sample_rate,\n",
    "        offset = video_start_time[i],\n",
    "        duration = duration\n",
    "    )\n",
    "    \n",
    "    # Store downsampled 10sec clip under data/short_raw/\n",
    "    wavfile.write(\n",
    "        filename=short_audio_path,\n",
    "        rate=sample_rate,\n",
    "        data=(audio * maxv).astype(np.int16)\n",
    "    )\n",
    "    '''"
   ]
  },
  {
   "cell_type": "code",
   "execution_count": null,
   "metadata": {
    "scrolled": false
   },
   "outputs": [],
   "source": [
    "# Usage example for pyaudio\n",
    "i = 6\n",
    "a = AudioFile(\n",
    "    os.path.join(short_raw_dir, video_ids[i]) + '.wav',\n",
    "    chunk = 1000\n",
    ")\n",
    "a.play()\n",
    "a.close()   "
   ]
  },
  {
   "cell_type": "markdown",
   "metadata": {
    "nbpresent": {
     "id": "f36c6cd0-b514-41f2-96ff-ae3d793fdb7c"
    }
   },
   "source": [
    "## Retrieve VGGish PCA embeddings "
   ]
  },
  {
   "cell_type": "code",
   "execution_count": 35,
   "metadata": {
    "nbpresent": {
     "id": "cd40069f-71d6-46bf-803e-a0fe5427d064"
    },
    "scrolled": true
   },
   "outputs": [
    {
     "name": "stdout",
     "output_type": "stream",
     "text": [
      "INFO:tensorflow:Restoring parameters from vggish_model.ckpt\n",
      "(10, 96, 64)\n",
      "(10, 128)\n",
      "(10, 128)\n",
      "(10, 96, 64)\n",
      "(10, 128)\n",
      "(10, 128)\n",
      "(10, 96, 64)\n",
      "(10, 128)\n",
      "(10, 128)\n",
      "(10, 96, 64)\n",
      "(10, 128)\n",
      "(10, 128)\n",
      "(10, 96, 64)\n",
      "(10, 128)\n",
      "(10, 128)\n",
      "(10, 96, 64)\n",
      "(10, 128)\n",
      "(10, 128)\n",
      "(10, 96, 64)\n",
      "(10, 128)\n",
      "(10, 128)\n",
      "7\n"
     ]
    }
   ],
   "source": [
    "video_vggish_emb = []\n",
    "\n",
    "# Restore VGGish model trained on YouTube8M dataset\n",
    "# Retrieve PCA-embeddings of bottleneck features\n",
    "with tf.Graph().as_default(), tf.Session() as sess:\n",
    "    # Define the model in inference mode, load the checkpoint, and\n",
    "    # locate input and output tensors.\n",
    "    vggish_slim.define_vggish_slim(training=False)\n",
    "    vggish_slim.load_vggish_slim_checkpoint(sess, model_checkpoint)\n",
    "    features_tensor = sess.graph.get_tensor_by_name(\n",
    "        vggish_params.INPUT_TENSOR_NAME)\n",
    "    embedding_tensor = sess.graph.get_tensor_by_name(\n",
    "        vggish_params.OUTPUT_TENSOR_NAME)\n",
    "\n",
    "    for i, vid in enumerate(video_ids): \n",
    "        audio_path = os.path.join(short_raw_dir, vid) + '.wav'\n",
    "\n",
    "        examples_batch = vggish_input.wavfile_to_examples(audio_path)\n",
    "\n",
    "        print(examples_batch.shape)\n",
    "\n",
    "        # Prepare a postprocessor to munge the model embeddings.\n",
    "        pproc = vggish_postprocess.Postprocessor(pca_params)\n",
    "\n",
    "        # Run inference and postprocessing.\n",
    "        [embedding_batch] = sess.run([embedding_tensor],\n",
    "                                     feed_dict={features_tensor: examples_batch})\n",
    "        print(embedding_batch.shape)\n",
    "        postprocessed_batch = pproc.postprocess(embedding_batch)\n",
    "        print(postprocessed_batch.shape)\n",
    "        \n",
    "        video_vggish_emb.extend([postprocessed_batch])\n",
    "\n",
    "print(len(video_vggish_emb))"
   ]
  },
  {
   "cell_type": "markdown",
   "metadata": {
    "nbpresent": {
     "id": "bb98a458-4f73-4e60-910f-1752ee7b9909"
    }
   },
   "source": [
    "## Plot audio, transformations and embeddings\n",
    "\n",
    "### Function for visualising audio"
   ]
  },
  {
   "cell_type": "code",
   "execution_count": 14,
   "metadata": {
    "nbpresent": {
     "id": "a8558f23-0ffe-48b9-b39b-af8bc3453681"
    },
    "scrolled": true
   },
   "outputs": [],
   "source": [
    "def plot_audio(audio, emb):\n",
    "    audio_sec = audio.shape[0]/sample_rate\n",
    "    # Make a new figure\n",
    "    plt.figure(figsize=(18, 16), dpi= 60, facecolor='w', edgecolor='k')\n",
    "    plt.subplot(511)\n",
    "    # Display the spectrogram on a mel scale\n",
    "    librosa.display.waveplot(audio, int(sample_rate), max_sr = int(sample_rate))\n",
    "    plt.title('Raw audio waveform @ %d Hz' % sample_rate, fontsize = fontsize) \n",
    "    plt.xlabel(\"Time (s)\")\n",
    "    plt.ylabel(\"Amplitude\")\n",
    "\n",
    "    # Define filters and windows\n",
    "    melW =librosa.filters.mel(sr=sample_rate, n_fft=n_window, n_mels=n_mels, fmin=fmin, fmax=fmax)\n",
    "    ham_win = np.hamming(n_window)\n",
    "    \n",
    "    # Compute fft to spectrogram\n",
    "    [f, t, x] = signal.spectral.spectrogram(\n",
    "        x=audio,\n",
    "        window=ham_win,\n",
    "        nperseg=n_window,\n",
    "        noverlap=n_overlap,\n",
    "        detrend=False,\n",
    "        return_onesided=True,\n",
    "        mode='magnitude')\n",
    "        \n",
    "    # Apply filters and log transformation\n",
    "    x_filtered = np.dot(x.T, melW.T)\n",
    "    x_logmel = np.log(x_filtered + 1e-8)\n",
    "    x_logmel = x_logmel.astype(np.float32)\n",
    "\n",
    "    # Display frequency power spectrogram\n",
    "    plt.subplot(512)\n",
    "    x_coords = np.linspace(0, audio_sec, x.shape[0])\n",
    "    librosa.display.specshow(\n",
    "        x.T,\n",
    "        sr=sample_rate,\n",
    "        x_axis='time',\n",
    "        y_axis='hz',\n",
    "        x_coords=x_coords\n",
    "    )\n",
    "    plt.xlabel(\"Time (s)\")\n",
    "    plt.title(\"FFT spectrogram (dB)\", fontsize = fontsize)\n",
    "    # optional colorbar plot\n",
    "    plt.colorbar(format='%+02.0f dB')\n",
    "\n",
    "    # Display log-mel freq. power spectrogram\n",
    "    plt.subplot(513)\n",
    "    x_coords = np.linspace(0, audio_sec, x_logmel.shape[0])\n",
    "    librosa.display.specshow(\n",
    "        x_logmel.T,\n",
    "        sr=sample_rate,\n",
    "        x_axis='time',\n",
    "        y_axis='mel',\n",
    "        x_coords=x_coords\n",
    "    )\n",
    "    plt.xlabel(\"Time (s)\")\n",
    "    plt.title(\"Mel power spectrogram used in DCASE 2017 (dB)\", fontsize = fontsize)\n",
    "    # optional colorbar plot\n",
    "    plt.colorbar(format='%+02.0f dB')\n",
    "    \n",
    "    # Display embeddings\n",
    "    plt.subplot(514)\n",
    "    x_coords = np.linspace(0, audio_sec, emb.shape[0])\n",
    "    librosa.display.specshow(\n",
    "        emb.T,\n",
    "        sr=sample_rate,\n",
    "        x_axis='time',\n",
    "        y_axis=None,\n",
    "        x_coords=x_coords\n",
    "    )\n",
    "    plt.xlabel(\"Time (s)\")\n",
    "    plt.colorbar()\n",
    "    \n",
    "    plt.subplot(515)\n",
    "    plt.scatter(\n",
    "        x=emb[:, 0],\n",
    "        y=emb[:, 1],\n",
    "    )\n",
    "    plt.xlabel(\"PC_1\")\n",
    "    plt.ylabel(\"PC_2\")\n",
    "\n",
    "    # Make the figure layout compact\n",
    "    plt.tight_layout()\n",
    "    \n",
    "    plt.show()"
   ]
  },
  {
   "cell_type": "markdown",
   "metadata": {
    "nbpresent": {
     "id": "75f66f6d-eb7f-4464-b2a1-ee482ccb3dc8"
    }
   },
   "source": [
    "### Visualise all clips of audio chosen"
   ]
  },
  {
   "cell_type": "raw",
   "metadata": {
    "collapsed": true,
    "nbpresent": {
     "id": "80752a32-6989-4f12-a523-317be7ab4290"
    },
    "scrolled": true
   },
   "source": [
    "for i, vid in enumerate(video_ids): \n",
    "    print(\"\\nAnalyzing audio from video with title:\\n\", video_titles[i])\n",
    "    audio_path = os.path.join(short_raw_dir, vid) + '.wav'\n",
    "    \n",
    "    # audio is a 1D time series of the sound\n",
    "    # can also use (audio, fs) = soundfile.read(audio_path)\n",
    "    (audio, fs) = librosa.load(\n",
    "        audio_path,\n",
    "        sr = sample_rate,\n",
    "    )\n",
    "    \n",
    "    plot_audio(audio, video_vggish_emb[i])\n",
    "    \n",
    "    start=int(\n",
    "        timedelta(\n",
    "            hours=0,\n",
    "            minutes=0,\n",
    "            seconds=video_start_time[i]\n",
    "        ).total_seconds()\n",
    "    )\n",
    "\n",
    "    YouTubeVideo(vid, start=start, autoplay=0, theme=\"light\", color=\"red\")\n",
    "    print()"
   ]
  },
  {
   "cell_type": "markdown",
   "metadata": {
    "nbpresent": {
     "id": "222ea62a-be25-4cd9-9b90-dfe54957d786"
    }
   },
   "source": [
    "### Visualise one clip of audio and embed YouTube video for comparison"
   ]
  },
  {
   "cell_type": "code",
   "execution_count": 17,
   "metadata": {
    "nbpresent": {
     "id": "5d7e5c01-6989-4ff1-be53-8877ace82fae"
    },
    "scrolled": true
   },
   "outputs": [
    {
     "name": "stderr",
     "output_type": "stream",
     "text": [
      "/usr/local/anaconda3/envs/audioset_tensorflow/lib/python3.6/site-packages/librosa/filters.py:284: UserWarning: Empty filters detected in mel frequency basis. Some channels will produce empty responses. Try increasing your sampling rate (and fmax) or reducing n_mels.\n",
      "  warnings.warn('Empty filters detected in mel frequency basis. '\n",
      "/usr/local/anaconda3/envs/audioset_tensorflow/lib/python3.6/site-packages/matplotlib/font_manager.py:1328: UserWarning: findfont: Font family ['serif'] not found. Falling back to DejaVu Sans\n",
      "  (prop.get_family(), self.defaultFamily[fontext]))\n"
     ]
    },
    {
     "data": {
      "image/png": "[encoded data removed]",
      "text/plain": [
       "<Figure size 1080x960 with 8 Axes>"
      ]
     },
     "metadata": {},
     "output_type": "display_data"
    },
    {
     "data": {
      "image/jpeg": "[encoded data removed]",
      "text/html": [
       "\n",
       "        <iframe\n",
       "            width=\"400\"\n",
       "            height=\"300\"\n",
       "            src=\"https://www.youtube.com/embed/g38kRk6YAA0?start=190&end=200&autoplay=0&theme=light&color=red\"\n",
       "            frameborder=\"0\"\n",
       "            allowfullscreen\n",
       "        ></iframe>\n",
       "        "
      ],
      "text/plain": [
       "<IPython.lib.display.YouTubeVideo at 0x1c462974e0>"
      ]
     },
     "execution_count": 17,
     "metadata": {},
     "output_type": "execute_result"
    }
   ],
   "source": [
    "i = 4\n",
    "vid = video_ids[i]\n",
    "\n",
    "audio_path = os.path.join(raw_dir, vid) + '.wav'\n",
    "    \n",
    "# audio is a 1D time series of the sound\n",
    "# can also use (audio, fs) = soundfile.read(audio_path)\n",
    "(audio, fs) = librosa.load(\n",
    "    audio_path,\n",
    "    sr = sample_rate,\n",
    "    offset = video_start_time[i],\n",
    "    duration = duration\n",
    ")\n",
    "\n",
    "plot_audio(audio, video_vggish_emb[i])\n",
    "\n",
    "start=int(\n",
    "    timedelta(\n",
    "        hours=0,\n",
    "        minutes=0,\n",
    "        seconds=video_start_time[i]\n",
    "    ).total_seconds()\n",
    ")\n",
    "\n",
    "YouTubeVideo(\n",
    "    vid,\n",
    "    start=start,\n",
    "    end=start+duration,\n",
    "    autoplay=0,\n",
    "    theme=\"light\",\n",
    "    color=\"red\"\n",
    ")\n",
    "\n",
    "# Plot emb with scatter\n",
    "# Check first couple of PCs, \n",
    "# for both train and test data, to see if the test is lacking variance"
   ]
  },
  {
   "cell_type": "markdown",
   "metadata": {
    "nbpresent": {
     "id": "6dbabce3-3bc2-4e42-82f4-ffe2d15a650d"
    }
   },
   "source": [
    "## Evaluate trained audio detection model"
   ]
  },
  {
   "cell_type": "code",
   "execution_count": 36,
   "metadata": {
    "nbpresent": {
     "id": "7043a2c2-b5c0-4f9e-a340-7e33538b1ad7"
    },
    "scrolled": true
   },
   "outputs": [],
   "source": [
    "import audio_event_detection_model as AEDM\n",
    "import utilities\n",
    "from sklearn import metrics\n",
    "\n",
    "model = AEDM.CRNN_audio_event_detector()\n",
    "\n"
   ]
  },
  {
   "cell_type": "markdown",
   "metadata": {},
   "source": [
    "### Evaluating model on audio downloaded"
   ]
  },
  {
   "cell_type": "code",
   "execution_count": 38,
   "metadata": {},
   "outputs": [],
   "source": [
    "(x_user_inp, y_user_inp) = utilities.transform_data(\n",
    "    np.array(video_vggish_emb)\n",
    ")\n",
    "predictions = model.predict(\n",
    "    x=x_user_inp\n",
    ")"
   ]
  },
  {
   "cell_type": "markdown",
   "metadata": {},
   "source": [
    "### Evaluating model on training data"
   ]
  },
  {
   "cell_type": "code",
   "execution_count": 37,
   "metadata": {
    "nbpresent": {
     "id": "c504edd2-2877-425c-b112-b57f8dd2b547"
    },
    "scrolled": true
   },
   "outputs": [
    {
     "name": "stdout",
     "output_type": "stream",
     "text": [
      "\n",
      "\n",
      "Loading top model with weights from:\n",
      "models/md_50000_iters.h5\n",
      "__________________________________________________________________________________________________\n",
      "Layer (type)                    Output Shape         Param #     Connected to                     \n",
      "==================================================================================================\n",
      "input_8 (InputLayer)            (None, 10, 128)      0                                            \n",
      "__________________________________________________________________________________________________\n",
      "dense_21 (Dense)                (None, 10, 1024)     132096      input_8[0][0]                    \n",
      "__________________________________________________________________________________________________\n",
      "batch_normalization_13 (BatchNo (None, 10, 1024)     4096        dense_21[0][0]                   \n",
      "__________________________________________________________________________________________________\n",
      "activation_13 (Activation)      (None, 10, 1024)     0           batch_normalization_13[0][0]     \n",
      "__________________________________________________________________________________________________\n",
      "dropout_13 (Dropout)            (None, 10, 1024)     0           activation_13[0][0]              \n",
      "__________________________________________________________________________________________________\n",
      "dense_22 (Dense)                (None, 10, 1024)     1049600     dropout_13[0][0]                 \n",
      "__________________________________________________________________________________________________\n",
      "batch_normalization_14 (BatchNo (None, 10, 1024)     4096        dense_22[0][0]                   \n",
      "__________________________________________________________________________________________________\n",
      "activation_14 (Activation)      (None, 10, 1024)     0           batch_normalization_14[0][0]     \n",
      "__________________________________________________________________________________________________\n",
      "dropout_14 (Dropout)            (None, 10, 1024)     0           activation_14[0][0]              \n",
      "__________________________________________________________________________________________________\n",
      "dense_23 (Dense)                (None, 10, 1024)     1049600     dropout_14[0][0]                 \n",
      "__________________________________________________________________________________________________\n",
      "batch_normalization_15 (BatchNo (None, 10, 1024)     4096        dense_23[0][0]                   \n",
      "__________________________________________________________________________________________________\n",
      "activation_15 (Activation)      (None, 10, 1024)     0           batch_normalization_15[0][0]     \n",
      "__________________________________________________________________________________________________\n",
      "dropout_15 (Dropout)            (None, 10, 1024)     0           activation_15[0][0]              \n",
      "__________________________________________________________________________________________________\n",
      "dense_24 (Dense)                (None, 10, 527)      540175      dropout_15[0][0]                 \n",
      "__________________________________________________________________________________________________\n",
      "dense_25 (Dense)                (None, 10, 527)      540175      dropout_15[0][0]                 \n",
      "__________________________________________________________________________________________________\n",
      "lambda_5 (Lambda)               (None, 527)          0           dense_24[0][0]                   \n",
      "                                                                 dense_25[0][0]                   \n",
      "==================================================================================================\n",
      "Total params: 3,323,934\n",
      "Trainable params: 3,317,790\n",
      "Non-trainable params: 6,144\n",
      "__________________________________________________________________________________________________\n"
     ]
    }
   ],
   "source": [
    "(x_tr, y_tr, vid_tr) = load_data(os.path.join(audioset_data_path, 'bal_train.h5'))\n",
    "(x_tr, y_tr) = utilities.transform_data(x_tr, y_tr)\n",
    "\n",
    "pred_tr = model.predict(x=x_tr)"
   ]
  },
  {
   "cell_type": "code",
   "execution_count": 21,
   "metadata": {
    "nbpresent": {
     "id": "958bd79a-5974-4711-823d-8746eda948fd"
    },
    "scrolled": true
   },
   "outputs": [
    {
     "name": "stdout",
     "output_type": "stream",
     "text": [
      "0.999973\n",
      "0.130054151625\n",
      "0.984930222934\n",
      "0.984930222934\n"
     ]
    }
   ],
   "source": [
    "print(pred_tr.max())\n",
    "\n",
    "print(metrics.accuracy_score(y_tr, (pred_tr > 0.5).astype(np.float32)))\n",
    "\n",
    "print(metrics.roc_auc_score(y_tr, pred_tr))\n",
    "print(np.mean(metrics.roc_auc_score(y_tr, pred_tr, average=None)))\n",
    "\n",
    "stats = utilities.calculate_stats(pred_tr, y_tr)\n",
    "mAUC = np.mean([stat['auc'] for stat in stats])\n",
    "\n"
   ]
  },
  {
   "cell_type": "code",
   "execution_count": 39,
   "metadata": {
    "nbpresent": {
     "id": "e66aa339-dfc7-4d97-bda6-87c988a6a934"
    },
    "scrolled": true
   },
   "outputs": [],
   "source": [
    "max_prob_classes = np.argsort(predictions, axis=-1)[:, ::-1]\n",
    "max_prob = np.sort(predictions, axis=-1)[:,::-1]"
   ]
  },
  {
   "cell_type": "code",
   "execution_count": 40,
   "metadata": {
    "nbpresent": {
     "id": "a83706aa-8b3d-4cc4-8293-82e32e367ab9"
    },
    "scrolled": true
   },
   "outputs": [
    {
     "name": "stdout",
     "output_type": "stream",
     "text": [
      "0.984930222934\n",
      "0.87231\n",
      "[[ 0.85056537  0.84223366  0.27688268  0.23452662  0.12581593  0.05143182\n",
      "   0.02919197  0.02805768  0.02699612  0.01704121]\n",
      " [ 0.32978365  0.1321748   0.10872712  0.10825769  0.07952435  0.07356845\n",
      "   0.04511245  0.03998784  0.03936461  0.03507403]\n",
      " [ 0.87230974  0.86156976  0.81838012  0.65405416  0.33036518  0.19758119\n",
      "   0.15447959  0.08347502  0.06029229  0.05457394]\n",
      " [ 0.18422596  0.1432181   0.11541138  0.10077612  0.06737918  0.06132444\n",
      "   0.05907288  0.05696394  0.04590562  0.03907897]\n",
      " [ 0.73532987  0.50799     0.30799454  0.16915816  0.08796553  0.07880456\n",
      "   0.06258963  0.06124302  0.0446381   0.04250672]\n",
      " [ 0.76051241  0.3201108   0.24144822  0.24041927  0.21041867  0.16869307\n",
      "   0.16662784  0.10298688  0.09610511  0.08055314]\n",
      " [ 0.67560714  0.18969995  0.17008433  0.08974643  0.07025716  0.06953395\n",
      "   0.0580983   0.05612611  0.05410512  0.04845256]]\n",
      "(7, 527)\n",
      "[[  7   0   5 518 525   1 137 407 506   4]\n",
      " [137 396  35 322   0 398 325 318 300 308]\n",
      " [322 396 323 324 325 300 310 316  74  73]\n",
      " [ 72 435 426  87 137   0  89 434  88 301]\n",
      " [  0 137 442 470 443 365 438 364 440 418]\n",
      " [  0 514  72 112 111 113 127 510 126  98]\n",
      " [  0 300 110  72 307 109 348 108 135 343]]\n"
     ]
    }
   ],
   "source": [
    "print(mAUC)\n",
    "\n",
    "print(max_prob.max())\n",
    "\n",
    "print(max_prob[:,:10])\n",
    "\n",
    "print(predictions.shape)\n",
    "\n",
    "print(max_prob_classes[:,:10])"
   ]
  },
  {
   "cell_type": "code",
   "execution_count": 41,
   "metadata": {
    "nbpresent": {
     "id": "50307451-c4ea-48a9-86fb-680e40a0d57b"
    },
    "scrolled": true
   },
   "outputs": [],
   "source": [
    "from numpy import genfromtxt\n",
    "import pandas as pd\n",
    "\n",
    "class_labels = pd.read_csv('class_labels_indices.csv')"
   ]
  },
  {
   "cell_type": "code",
   "execution_count": 42,
   "metadata": {
    "nbpresent": {
     "id": "fdc75af3-5097-44a4-9c24-4aa1753c031a"
    },
    "scrolled": true
   },
   "outputs": [
    {
     "name": "stdout",
     "output_type": "stream",
     "text": [
      "0                                       Speech\n",
      "514                        Environmental noise\n",
      "72                                      Animal\n",
      "112    Bird vocalization, bird call, bird song\n",
      "111                                       Bird\n",
      "113                               Chirp, tweet\n",
      "127                                    Cricket\n",
      "510                  Outside, rural or natural\n",
      "126                                     Insect\n",
      "98                                        Fowl\n",
      "Name: display_name, dtype: object\n"
     ]
    }
   ],
   "source": [
    "print(class_labels['display_name'][max_prob_classes[5,:10]])"
   ]
  },
  {
   "cell_type": "code",
   "execution_count": null,
   "metadata": {},
   "outputs": [],
   "source": [
    "for i, vid in enumerate(video_ids[0]):\n",
    "    print(video_titles[i])\n",
    "    print()\n",
    "    \n",
    "    example = pd.DataFrame(class_labels['display_name'][max_prob_classes[i,:10]])\n",
    "    example.loc[:, 'prob'] = pd.Series(max_prob[i, :10], index=example.index)\n",
    "    print(example)\n",
    "    example.plot.bar(x='display_name', y='prob', rot=90)\n",
    "    plt.show()\n",
    "    print()"
   ]
  },
  {
   "cell_type": "markdown",
   "metadata": {},
   "source": [
    "## Investigating model predictions on downloaded audio clips"
   ]
  },
  {
   "cell_type": "code",
   "execution_count": 46,
   "metadata": {},
   "outputs": [
    {
     "name": "stdout",
     "output_type": "stream",
     "text": [
      "youtube-dl test video ''_ä↭𝕐\n",
      "\n"
     ]
    },
    {
     "data": {
      "image/jpeg": "[encoded data removed]",
      "text/html": [
       "\n",
       "        <iframe\n",
       "            width=\"400\"\n",
       "            height=\"300\"\n",
       "            src=\"https://www.youtube.com/embed/BaW_jenozKc?start=190&end=200&autoplay=0&theme=light&color=red\"\n",
       "            frameborder=\"0\"\n",
       "            allowfullscreen\n",
       "        ></iframe>\n",
       "        "
      ],
      "text/plain": [
       "<IPython.lib.display.YouTubeVideo at 0x1c62c3f9b0>"
      ]
     },
     "execution_count": 46,
     "metadata": {},
     "output_type": "execute_result"
    }
   ],
   "source": [
    "i = 0\n",
    "vid = video_ids[i]\n",
    "\n",
    "print(video_titles[i])\n",
    "print()\n",
    "\n",
    "YouTubeVideo(\n",
    "    vid,\n",
    "    start=start,\n",
    "    end=start+duration,\n",
    "    autoplay=0,\n",
    "    theme=\"light\",\n",
    "    color=\"red\"\n",
    ")"
   ]
  },
  {
   "cell_type": "code",
   "execution_count": 47,
   "metadata": {},
   "outputs": [
    {
     "name": "stdout",
     "output_type": "stream",
     "text": [
      "                  display_name      prob\n",
      "7           Speech synthesizer  0.850565\n",
      "0                       Speech  0.842234\n",
      "5         Narration, monologue  0.276883\n",
      "518                   Sidetone  0.234527\n",
      "525                      Radio  0.125816\n",
      "1    Male speech, man speaking  0.051432\n",
      "137                      Music  0.029192\n",
      "407                       Tick  0.028058\n",
      "506         Inside, small room  0.026996\n",
      "4                 Conversation  0.017041\n"
     ]
    },
    {
     "name": "stderr",
     "output_type": "stream",
     "text": [
      "/usr/local/anaconda3/envs/audioset_tensorflow/lib/python3.6/site-packages/matplotlib/font_manager.py:1328: UserWarning: findfont: Font family ['serif'] not found. Falling back to DejaVu Sans\n",
      "  (prop.get_family(), self.defaultFamily[fontext]))\n"
     ]
    },
    {
     "data": {
      "image/png": "[encoded data removed]",
      "text/plain": [
       "<Figure size 432x288 with 1 Axes>"
      ]
     },
     "metadata": {},
     "output_type": "display_data"
    },
    {
     "name": "stdout",
     "output_type": "stream",
     "text": [
      "\n"
     ]
    }
   ],
   "source": [
    "example = pd.DataFrame(class_labels['display_name'][max_prob_classes[i,:10]])\n",
    "example.loc[:, 'prob'] = pd.Series(max_prob[i, :10], index=example.index)\n",
    "print(example)\n",
    "example.plot.bar(x='display_name', y='prob', rot=90)\n",
    "plt.show()\n",
    "print()"
   ]
  },
  {
   "cell_type": "code",
   "execution_count": null,
   "metadata": {
    "nbpresent": {
     "id": "16a04f52-63d0-4600-8d0f-420f9b070c7a"
    },
    "scrolled": true
   },
   "outputs": [],
   "source": [
    "#eval_metrics = model.evaluate(x=x_tr, y=y_tr)"
   ]
  },
  {
   "cell_type": "code",
   "execution_count": null,
   "metadata": {
    "nbpresent": {
     "id": "df8968b5-d621-47b9-9b9f-db6ef15007d5"
    },
    "scrolled": true
   },
   "outputs": [],
   "source": [
    "#for i, metric_name in enumerate(model.metrics_names): \n",
    "#    print(\"{}: {:1.4f}\".format(metric_name, eval_metrics[i]))"
   ]
  },
  {
   "cell_type": "code",
   "execution_count": 27,
   "metadata": {
    "nbpresent": {
     "id": "33291c71-88ad-4a96-9a25-77f41324c34a"
    },
    "scrolled": true
   },
   "outputs": [
    {
     "name": "stdout",
     "output_type": "stream",
     "text": [
      "\n",
      "Loading VGGish base model:\n",
      "_________________________________________________________________\n",
      "Layer (type)                 Output Shape              Param #   \n",
      "=================================================================\n",
      "input_6 (InputLayer)         (None, 96, 64, 1)         0         \n",
      "_________________________________________________________________\n",
      "conv1 (Conv2D)               (None, 96, 64, 64)        640       \n",
      "_________________________________________________________________\n",
      "pool1 (MaxPooling2D)         (None, 48, 32, 64)        0         \n",
      "_________________________________________________________________\n",
      "conv2 (Conv2D)               (None, 48, 32, 128)       73856     \n",
      "_________________________________________________________________\n",
      "pool2 (MaxPooling2D)         (None, 24, 16, 128)       0         \n",
      "_________________________________________________________________\n",
      "conv3_1 (Conv2D)             (None, 24, 16, 256)       295168    \n",
      "_________________________________________________________________\n",
      "conv3_2 (Conv2D)             (None, 24, 16, 256)       590080    \n",
      "_________________________________________________________________\n",
      "pool3 (MaxPooling2D)         (None, 12, 8, 256)        0         \n",
      "_________________________________________________________________\n",
      "conv4_1 (Conv2D)             (None, 12, 8, 512)        1180160   \n",
      "_________________________________________________________________\n",
      "conv4_2 (Conv2D)             (None, 12, 8, 512)        2359808   \n",
      "_________________________________________________________________\n",
      "pool4 (MaxPooling2D)         (None, 6, 4, 512)         0         \n",
      "_________________________________________________________________\n",
      "flatten (Flatten)            (None, 12288)             0         \n",
      "_________________________________________________________________\n",
      "fc1_1 (Dense)                (None, 4096)              50335744  \n",
      "_________________________________________________________________\n",
      "fc1_2 (Dense)                (None, 4096)              16781312  \n",
      "_________________________________________________________________\n",
      "fc2 (Dense)                  (None, 128)               524416    \n",
      "=================================================================\n",
      "Total params: 72,141,184\n",
      "Trainable params: 72,141,184\n",
      "Non-trainable params: 0\n",
      "_________________________________________________________________\n",
      "\n",
      "\n",
      "Loading top model with weights from:\n",
      "models/md_50000_iters.h5\n",
      "__________________________________________________________________________________________________\n",
      "Layer (type)                    Output Shape         Param #     Connected to                     \n",
      "==================================================================================================\n",
      "input_7 (InputLayer)            (None, 10, 128)      0                                            \n",
      "__________________________________________________________________________________________________\n",
      "dense_16 (Dense)                (None, 10, 1024)     132096      input_7[0][0]                    \n",
      "__________________________________________________________________________________________________\n",
      "batch_normalization_10 (BatchNo (None, 10, 1024)     4096        dense_16[0][0]                   \n",
      "__________________________________________________________________________________________________\n",
      "activation_10 (Activation)      (None, 10, 1024)     0           batch_normalization_10[0][0]     \n",
      "__________________________________________________________________________________________________\n",
      "dropout_10 (Dropout)            (None, 10, 1024)     0           activation_10[0][0]              \n",
      "__________________________________________________________________________________________________\n",
      "dense_17 (Dense)                (None, 10, 1024)     1049600     dropout_10[0][0]                 \n",
      "__________________________________________________________________________________________________\n",
      "batch_normalization_11 (BatchNo (None, 10, 1024)     4096        dense_17[0][0]                   \n",
      "__________________________________________________________________________________________________\n",
      "activation_11 (Activation)      (None, 10, 1024)     0           batch_normalization_11[0][0]     \n",
      "__________________________________________________________________________________________________\n",
      "dropout_11 (Dropout)            (None, 10, 1024)     0           activation_11[0][0]              \n",
      "__________________________________________________________________________________________________\n",
      "dense_18 (Dense)                (None, 10, 1024)     1049600     dropout_11[0][0]                 \n",
      "__________________________________________________________________________________________________\n",
      "batch_normalization_12 (BatchNo (None, 10, 1024)     4096        dense_18[0][0]                   \n",
      "__________________________________________________________________________________________________\n",
      "activation_12 (Activation)      (None, 10, 1024)     0           batch_normalization_12[0][0]     \n",
      "__________________________________________________________________________________________________\n",
      "dropout_12 (Dropout)            (None, 10, 1024)     0           activation_12[0][0]              \n",
      "__________________________________________________________________________________________________\n",
      "dense_19 (Dense)                (None, 10, 527)      540175      dropout_12[0][0]                 \n",
      "__________________________________________________________________________________________________\n",
      "dense_20 (Dense)                (None, 10, 527)      540175      dropout_12[0][0]                 \n",
      "__________________________________________________________________________________________________\n",
      "lambda_4 (Lambda)               (None, 527)          0           dense_19[0][0]                   \n",
      "                                                                 dense_20[0][0]                   \n",
      "==================================================================================================\n",
      "Total params: 3,323,934\n",
      "Trainable params: 3,317,790\n",
      "Non-trainable params: 6,144\n",
      "__________________________________________________________________________________________________\n"
     ]
    }
   ],
   "source": [
    "#qtapp = App(model)\n",
    "\n",
    "from AudioSetClassifier import AudioSetClassifier\n",
    "\n",
    "import time\n",
    "\n",
    "ASC = AudioSetClassifier()"
   ]
  },
  {
   "cell_type": "code",
   "execution_count": 28,
   "metadata": {
    "nbpresent": {
     "id": "5cc30246-58f0-4201-a1ae-1258334993c2"
    },
    "scrolled": true
   },
   "outputs": [
    {
     "name": "stdout",
     "output_type": "stream",
     "text": [
      "Time spent on 1 forward pass prediction: 0.42424607276916504\n"
     ]
    }
   ],
   "source": [
    "sound_clip = os.path.join(short_raw_dir, video_ids[1]) + '.wav'\n",
    "\n",
    "\n",
    "\n",
    "t0 = time.time()\n",
    "test_pred = ASC.predict(sound_clip=sound_clip)\n",
    "t1 = time.time()\n",
    "\n",
    "print('Time spent on 1 forward pass prediction:', t1-t0)"
   ]
  },
  {
   "cell_type": "code",
   "execution_count": 29,
   "metadata": {
    "nbpresent": {
     "id": "d6c2f253-24a3-4b5a-815a-86a25f417f8e"
    },
    "scrolled": true
   },
   "outputs": [
    {
     "name": "stdout",
     "output_type": "stream",
     "text": [
      "(1, 527)\n"
     ]
    }
   ],
   "source": [
    "print(test_pred.shape)"
   ]
  },
  {
   "cell_type": "code",
   "execution_count": 30,
   "metadata": {
    "nbpresent": {
     "id": "0ca59d31-399a-440e-81ff-481b85ceead9"
    },
    "scrolled": true
   },
   "outputs": [
    {
     "name": "stdout",
     "output_type": "stream",
     "text": [
      "youtube-dl test video ''_ä↭𝕐\n",
      "\n",
      "(1, 527)\n",
      "                  display_name      prob\n",
      "7           Speech synthesizer  0.850565\n",
      "0                       Speech  0.842234\n",
      "5         Narration, monologue  0.276883\n",
      "518                   Sidetone  0.234527\n",
      "525                      Radio  0.125816\n",
      "1    Male speech, man speaking  0.051432\n",
      "137                      Music  0.029192\n",
      "407                       Tick  0.028058\n",
      "506         Inside, small room  0.026996\n",
      "4                 Conversation  0.017041\n"
     ]
    },
    {
     "name": "stderr",
     "output_type": "stream",
     "text": [
      "/usr/local/anaconda3/envs/audioset_tensorflow/lib/python3.6/site-packages/matplotlib/font_manager.py:1328: UserWarning: findfont: Font family ['serif'] not found. Falling back to DejaVu Sans\n",
      "  (prop.get_family(), self.defaultFamily[fontext]))\n"
     ]
    },
    {
     "data": {
      "image/png": "[encoded data removed]",
      "text/plain": [
       "<Figure size 432x288 with 1 Axes>"
      ]
     },
     "metadata": {},
     "output_type": "display_data"
    },
    {
     "name": "stdout",
     "output_type": "stream",
     "text": [
      "\n",
      "Brandweer - Prio 1 Binnenbrand De Grevelingen Grevelingen Den Bosch - 634TS 651AL\n",
      "\n",
      "(1, 527)\n",
      "                        display_name      prob\n",
      "137                            Music  0.329784\n",
      "396                            Siren  0.132175\n",
      "35                 Synthetic singing  0.108727\n",
      "322                Emergency vehicle  0.108258\n",
      "0                             Speech  0.079524\n",
      "398                           Buzzer  0.073568\n",
      "325  Fire engine, fire truck (siren)  0.045112\n",
      "318             Air horn, truck horn  0.039988\n",
      "300                          Vehicle  0.039365\n",
      "308  Vehicle horn, car horn, honking  0.035074\n"
     ]
    },
    {
     "data": {
      "image/png": "[encoded data removed]",
      "text/plain": [
       "<Figure size 432x288 with 1 Axes>"
      ]
     },
     "metadata": {},
     "output_type": "display_data"
    },
    {
     "name": "stdout",
     "output_type": "stream",
     "text": [
      "\n",
      "LED Lights + 100W Siren\n",
      "\n",
      "(1, 527)\n",
      "                        display_name      prob\n",
      "322                Emergency vehicle  0.872310\n",
      "396                            Siren  0.861570\n",
      "323               Police car (siren)  0.818380\n",
      "324                Ambulance (siren)  0.654054\n",
      "325  Fire engine, fire truck (siren)  0.330365\n",
      "300                          Vehicle  0.197581\n",
      "310                        Car alarm  0.154480\n",
      "316                            Truck  0.083475\n",
      "74                               Dog  0.060292\n",
      "73            Domestic animals, pets  0.054574\n"
     ]
    },
    {
     "data": {
      "image/png": "[encoded data removed]",
      "text/plain": [
       "<Figure size 432x288 with 1 Axes>"
      ]
     },
     "metadata": {},
     "output_type": "display_data"
    },
    {
     "name": "stdout",
     "output_type": "stream",
     "text": [
      "\n",
      "Start\n",
      "\n",
      "(1, 527)\n",
      "            display_name      prob\n",
      "72                Animal  0.184226\n",
      "435             Eruption  0.143218\n",
      "426            Explosion  0.115411\n",
      "87                 Horse  0.100776\n",
      "137                Music  0.067379\n",
      "0                 Speech  0.061324\n",
      "89         Neigh, whinny  0.059073\n",
      "434           Burst, pop  0.056964\n",
      "88             Clip-clop  0.045906\n",
      "301  Boat, Water vehicle  0.039079\n"
     ]
    },
    {
     "data": {
      "image/png": "[encoded data removed]",
      "text/plain": [
       "<Figure size 432x288 with 1 Axes>"
      ]
     },
     "metadata": {},
     "output_type": "display_data"
    },
    {
     "name": "stdout",
     "output_type": "stream",
     "text": [
      "\n",
      "Splitting a Playing Card in ULTRA SLOW MOTION - Smarter Every Day 194\n",
      "\n",
      "(1, 527)\n",
      "               display_name      prob\n",
      "0                    Speech  0.735330\n",
      "137                   Music  0.507990\n",
      "442            Chink, clink  0.307995\n",
      "470                Breaking  0.169158\n",
      "443                 Shatter  0.087966\n",
      "365     Cutlery, silverware  0.078805\n",
      "438                    Chop  0.062590\n",
      "364  Dishes, pots, and pans  0.061243\n",
      "440                   Crack  0.044638\n",
      "418                   Tools  0.042507\n"
     ]
    },
    {
     "data": {
      "image/png": "[encoded data removed]",
      "text/plain": [
       "<Figure size 432x288 with 1 Axes>"
      ]
     },
     "metadata": {},
     "output_type": "display_data"
    },
    {
     "name": "stdout",
     "output_type": "stream",
     "text": [
      "\n",
      "Capuchin Monkeys _ Wild Caribbean _ BBC Earth\n",
      "\n",
      "(1, 527)\n",
      "                                display_name      prob\n",
      "0                                     Speech  0.760512\n",
      "514                      Environmental noise  0.320111\n",
      "72                                    Animal  0.241448\n",
      "112  Bird vocalization, bird call, bird song  0.240419\n",
      "111                                     Bird  0.210419\n",
      "113                             Chirp, tweet  0.168693\n",
      "127                                  Cricket  0.166628\n",
      "510                Outside, rural or natural  0.102987\n",
      "126                                   Insect  0.096105\n",
      "98                                      Fowl  0.080553\n"
     ]
    },
    {
     "data": {
      "image/png": "[encoded data removed]",
      "text/plain": [
       "<Figure size 432x288 with 1 Axes>"
      ]
     },
     "metadata": {},
     "output_type": "display_data"
    },
    {
     "name": "stdout",
     "output_type": "stream",
     "text": [
      "\n",
      "Zoo Animal Sounds!\n",
      "\n",
      "(1, 527)\n",
      "                      display_name      prob\n",
      "0                           Speech  0.675607\n",
      "300                        Vehicle  0.189700\n",
      "110                           Roar  0.170084\n",
      "72                          Animal  0.089746\n",
      "307                            Car  0.070257\n",
      "109   Roaring cats (lions, tigers)  0.069534\n",
      "348  Medium engine (mid frequency)  0.058098\n",
      "108                   Wild animals  0.056126\n",
      "135                         Rattle  0.054105\n",
      "343                         Engine  0.048453\n"
     ]
    },
    {
     "data": {
      "image/png": "[encoded data removed]",
      "text/plain": [
       "<Figure size 432x288 with 1 Axes>"
      ]
     },
     "metadata": {},
     "output_type": "display_data"
    },
    {
     "name": "stdout",
     "output_type": "stream",
     "text": [
      "\n"
     ]
    }
   ],
   "source": [
    "for i, vid in enumerate(video_ids):\n",
    "    print(video_titles[i])\n",
    "    print()\n",
    "    sound_clip = os.path.join(short_raw_dir, vid) + '.wav'\n",
    "    predictions = ASC.predict(sound_clip=sound_clip)\n",
    "    max_prob_classes = np.argsort(predictions, axis=-1)[:, ::-1]\n",
    "    max_prob = np.sort(predictions, axis=-1)[:,::-1]\n",
    "    \n",
    "    print(max_prob.shape)\n",
    "    \n",
    "    example = pd.DataFrame(class_labels['display_name'][max_prob_classes[0,:10]])\n",
    "    example.loc[:, 'prob'] = pd.Series(max_prob[0, :10], index=example.index)\n",
    "    print(example)\n",
    "    example.plot.bar(x='display_name', y='prob', rot=90)\n",
    "    plt.show()\n",
    "    print()"
   ]
  },
  {
   "cell_type": "code",
   "execution_count": null,
   "metadata": {
    "nbpresent": {
     "id": "fce185d9-edff-4c78-a286-198199f2993b"
    },
    "scrolled": true
   },
   "outputs": [],
   "source": [
    "import sys\n",
    "\n",
    "app=0           #This is the solution\n",
    "app = QtGui.QApplication(sys.argv)\n",
    "MainApp = App(predictor=ASC)\n",
    "MainApp.show()\n",
    "sys.exit(app.exec_())"
   ]
  },
  {
   "cell_type": "code",
   "execution_count": null,
   "metadata": {
    "nbpresent": {
     "id": "3ba4d055-b02d-4cd3-ac1d-2ae99409594a"
    },
    "scrolled": true
   },
   "outputs": [],
   "source": [
    "#from PyQt4 import QtGui, QtCore\n",
    "\n",
    "class SimpleWindow(QtGui.QWidget):\n",
    "    def __init__(self, parent=None):\n",
    "        QtGui.QWidget.__init__(self, parent)\n",
    "\n",
    "        self.setGeometry(300, 300, 200, 80)\n",
    "        self.setWindowTitle('Hello World')\n",
    "\n",
    "        quit = QtGui.QPushButton('Close', self)\n",
    "        quit.setGeometry(10, 10, 60, 35)\n",
    "\n",
    "        self.connect(quit, QtCore.SIGNAL('clicked()'),\n",
    "                     self, QtCore.SLOT('close()'))\n",
    "\n",
    "if __name__ == '__main__':\n",
    "    app = QtCore.QCoreApplication.instance()\n",
    "    if app is None:\n",
    "        app = QtGui.QApplication([])\n",
    "\n",
    "    sw = SimpleWindow()\n",
    "    sw.show()\n",
    "\n",
    "    try:\n",
    "        from IPython.lib.guisupport import start_event_loop_qt4\n",
    "        start_event_loop_qt4(app)\n",
    "    except ImportError:\n",
    "        app.exec_()"
   ]
  },
  {
   "cell_type": "markdown",
   "metadata": {
    "nbpresent": {
     "id": "84fe3103-77b3-469b-8827-e75131f508f6"
    }
   },
   "source": [
    "1. Understand attention\n",
    "2. Understand filters\n",
    "3. Understand Multi-label, hierachical, knowledge graphs\n",
    "4. Understand class imbalance \n",
    "5. CCA on VGGish vs. ResNet audioset emb. to check if there's a linear connection. \n",
    "6. Train linear layer to convert VGGish emb. to ResNet-50 emb. "
   ]
  },
  {
   "cell_type": "markdown",
   "metadata": {
    "nbpresent": {
     "id": "0c1dad31-0602-4239-96d1-30bddea3ca6c"
    }
   },
   "source": [
    "Plot in GUI:\n",
    "1. Exclude all non-active classes\n",
    "2. Draw class names on curves going up\n",
    "3. Remove histogram\n",
    "4. Make faster"
   ]
  },
  {
   "cell_type": "code",
   "execution_count": null,
   "metadata": {
    "nbpresent": {
     "id": "63a16377-be91-4d4d-b6e4-55bf9af07a83"
    },
    "scrolled": false
   },
   "outputs": [],
   "source": [
    "video_vggish_emb = []\n",
    "test_wav_path = os.path.join(src_dir, 'data', 'wav_file')\n",
    "wav_files = os.listdir(test_wav_path)\n",
    "example_names = []\n",
    "\n",
    "# Restore VGGish model trained on YouTube8M dataset\n",
    "# Retrieve PCA-embeddings of bottleneck features\n",
    "with tf.Graph().as_default(), tf.Session() as sess:\n",
    "    # Define the model in inference mode, load the checkpoint, and\n",
    "    # locate input and output tensors.\n",
    "    vggish_slim.define_vggish_slim(training=False)\n",
    "    vggish_slim.load_vggish_slim_checkpoint(sess, model_checkpoint)\n",
    "    features_tensor = sess.graph.get_tensor_by_name(\n",
    "        vggish_params.INPUT_TENSOR_NAME)\n",
    "    embedding_tensor = sess.graph.get_tensor_by_name(\n",
    "        vggish_params.OUTPUT_TENSOR_NAME)\n",
    "    # Prepare a postprocessor to munge the model embeddings.\n",
    "    pproc = vggish_postprocess.Postprocessor(pca_params)\n",
    "    \n",
    "    for i, vid in enumerate(wav_files): \n",
    "        audio_path = os.path.join(test_wav_path, vid)\n",
    "        print(vid)\n",
    "\n",
    "        examples_batch = vggish_input.wavfile_to_examples(audio_path)\n",
    "\n",
    "        print(examples_batch.shape)\n",
    "\n",
    "        # Run inference and postprocessing.\n",
    "        [embedding_batch] = sess.run([embedding_tensor],\n",
    "                                     feed_dict={features_tensor: examples_batch})\n",
    "        print(embedding_batch.shape)\n",
    "        postprocessed_batch = pproc.postprocess(embedding_batch)\n",
    "        batch_shape = postprocessed_batch.shape\n",
    "        print(batch_shape)\n",
    "        \n",
    "        if batch_shape[0] > 10:\n",
    "            postprocessed_batch = postprocessed_batch[:10]\n",
    "        elif batch_shape[0] < 10:\n",
    "            zero_pad = np.zeros((10, 128))\n",
    "            zero_pad[:batch_shape[0]] = postprocessed_batch \n",
    "            postprocessed_batch = zero_pad\n",
    "        \n",
    "        print(postprocessed_batch.shape)\n",
    "        \n",
    "        if postprocessed_batch.shape[0] == 10:\n",
    "            video_vggish_emb.extend([postprocessed_batch])\n",
    "            example_names.extend([vid])\n",
    "\n",
    "print(len(video_vggish_emb))"
   ]
  },
  {
   "cell_type": "code",
   "execution_count": null,
   "metadata": {
    "nbpresent": {
     "id": "14993fa2-57b5-41f5-ba9e-4777a5ce92d8"
    },
    "scrolled": false
   },
   "outputs": [],
   "source": [
    "import audio_event_detection_model as AEDM\n",
    "import utilities\n",
    "model = AEDM.CRNN_audio_event_detector()"
   ]
  },
  {
   "cell_type": "code",
   "execution_count": null,
   "metadata": {
    "nbpresent": {
     "id": "7dcf4ef3-d0ff-45f9-b8d5-844c14d74fba"
    },
    "scrolled": true
   },
   "outputs": [],
   "source": [
    "(x_user_inp, y_user_inp) = utilities.transform_data(\n",
    "    np.array(video_vggish_emb)\n",
    ")\n",
    "predictions_AEDM = model.predict(\n",
    "    x=x_user_inp\n",
    ")\n"
   ]
  },
  {
   "cell_type": "code",
   "execution_count": null,
   "metadata": {
    "nbpresent": {
     "id": "c911d026-e531-4169-a430-9d4be6e8202e"
    },
    "scrolled": true
   },
   "outputs": [],
   "source": [
    "predictions_ASC = np.zeros([len(wav_files), 527])\n",
    "\n",
    "for i, vid in enumerate(wav_files): \n",
    "    audio_path = os.path.join(test_wav_path, vid)\n",
    "    predictions_ASC[i] = ASC.predict(sound_clip=audio_path)"
   ]
  },
  {
   "cell_type": "code",
   "execution_count": null,
   "metadata": {
    "nbpresent": {
     "id": "713ca796-67e7-47ff-a214-73ea62a7c998"
    },
    "scrolled": true
   },
   "outputs": [],
   "source": [
    "qkong_res = '''2018Q1Q10Q17Q12Q59Q512440Q-5889Q.fea_lab ['Speech'] [0.8013877]\n",
    "12_4_train ambience.fea_lab ['Vehicle', 'Rail transport', 'Train', 'Railroad car, train wagon'] [0.38702238, 0.6618184, 0.7742054, 0.5886036]\n",
    "19_3_forest winter.fea_lab ['Animal'] [0.16109303]\n",
    "2018Q1Q10Q17Q58Q49Q512348Q-5732Q.fea_lab ['Speech'] [0.78335935]\n",
    "15_1_whistle.fea_lab ['Whistling'] [0.34013063] ['music']\n",
    "2018Q1Q10Q13Q52Q8Q512440Q-5889Q.fea_lab ['Speech'] [0.7389336]\n",
    "09_2_my guitar.fea_lab ['Music', 'Musical instrument', 'Plucked string instrument', 'Guitar'] [0.84308875, 0.48860216, 0.43791085, 0.47915566]\n",
    "2018Q1Q10Q13Q29Q46Q512440Q-5889Q.fea_lab ['Vehicle'] [0.18344605]\n",
    "05_2_DFA.fea_lab ['Music', 'Musical instrument', 'Plucked string instrument', 'Guitar'] [0.93665695, 0.57123834, 0.53891456, 0.63112855]\n",
    "'''\n",
    "\n",
    "q_kong_res = {\n",
    "    '2018Q1Q10Q17Q12Q59Q512440Q-5889Q.wav': (['Speech'], [0.8013877]),\n",
    "    '12_4_train ambience.wav': (['Vehicle', 'Rail transport', 'Train', 'Railroad car, train wagon'], [0.38702238, 0.6618184, 0.7742054, 0.5886036]),\n",
    "    '19_3_forest winter.wav': (['Animal'], [0.16109303]),\n",
    "    '2018Q1Q10Q17Q58Q49Q512348Q-5732Q.wav': (['Speech'], [0.78335935]),\n",
    "    '15_1_whistle.wav': (['Whistling'], [0.34013063], ['music']),\n",
    "    '2018Q1Q10Q13Q52Q8Q512440Q-5889Q.wav': (['Speech'], [0.7389336]),\n",
    "    '09_2_my guitar.wav': (['Music', 'Musical instrument', 'Plucked string instrument', 'Guitar'], [0.84308875, 0.48860216, 0.43791085, 0.47915566]),\n",
    "    '2018Q1Q10Q13Q29Q46Q512440Q-5889Q.wav': (['Vehicle'], [0.18344605]),\n",
    "    '05_2_DFA.wav': (['Music', 'Musical instrument', 'Plucked string instrument', 'Guitar'], [0.93665695, 0.57123834, 0.53891456, 0.63112855])\n",
    "}\n",
    "\n",
    "\n",
    "#test_examples_res = qkong_res.split('\\n')\n",
    "#print(test_examples_res)\n",
    "#rint()\n",
    "#split_fun = lambda x: x.split(' [')\n",
    "#test_examples_res = list(map(split_fun, test_examples_res))#\n",
    "\n",
    "# print(test_examples_res)"
   ]
  },
  {
   "cell_type": "code",
   "execution_count": null,
   "metadata": {
    "nbpresent": {
     "id": "e0b48579-5159-4a1c-90ef-8c7bd433305d"
    },
    "scrolled": false
   },
   "outputs": [],
   "source": [
    "max_prob_classes_AEDM = np.argsort(predictions_AEDM, axis=-1)[:, ::-1]\n",
    "max_prob_AEDM = np.sort(predictions_AEDM, axis=-1)[:,::-1]\n",
    "\n",
    "max_prob_classes_ASC = np.argsort(predictions_ASC, axis=-1)[:, ::-1]\n",
    "max_prob_ASC = np.sort(predictions_ASC, axis=-1)[:,::-1]\n",
    "\n",
    "for i in range(len(wav_files)):\n",
    "    print(wav_files[i])\n",
    "    print(max_prob_classes_AEDM[i,:10])\n",
    "    print(max_prob_AEDM[i,:10])\n",
    "    print()\n",
    "    print(max_prob_classes_ASC[i,:10])\n",
    "    print(max_prob_ASC[i,:10])\n",
    "    print()\n",
    "    print()"
   ]
  },
  {
   "cell_type": "markdown",
   "metadata": {},
   "source": [
    "2018Q1Q10Q17Q12Q59Q512440Q-5889Q.wav\n",
    "2018Q1Q10Q13Q52Q8Q512440Q-5889Q.wav\n",
    "2018Q1Q10Q13Q29Q46Q512440Q-5889Q.wav\n",
    "2018Q1Q10Q17Q58Q49Q512348Q-5732Q.wav"
   ]
  },
  {
   "cell_type": "code",
   "execution_count": null,
   "metadata": {
    "nbpresent": {
     "id": "c5195796-3384-4af7-baaa-cec50a886025"
    },
    "scrolled": true
   },
   "outputs": [],
   "source": [
    "for i, vid in enumerate(example_names):\n",
    "    print(vid)\n",
    "    print()\n",
    "    example = pd.DataFrame(class_labels['display_name'][max_prob_classes_AEDM[i,:10]])\n",
    "    example.loc[:, 'top_10_AEDM_pred'] = pd.Series(max_prob_AEDM[i, :10], index=example.index)\n",
    "    example.loc[:, 'index_ASC'] = pd.Series(max_prob_classes_ASC[i,:10], index=example.index)\n",
    "    example.loc[:, 'display_name_ASC'] = pd.Series(\n",
    "        class_labels['display_name'][max_prob_classes_ASC[i,:10]],\n",
    "        index=example.index_ASC\n",
    "    )\n",
    "    example.loc[:, 'top_10_ASC_pred'] = pd.Series(max_prob_ASC[i, :10], index=example.index)\n",
    "    print(example)\n",
    "    example.plot.bar(x='display_name', y=['top_10_AEDM_pred', 'top_10_ASC_pred'] , rot=90)\n",
    "    plt.show()\n",
    "    print()\n",
    "    \n",
    "    ex_lab = q_kong_res[vid][0]\n",
    "    ex_pred = q_kong_res[vid][1]\n",
    "    \n",
    "    example = pd.DataFrame(class_labels[class_labels['display_name'].isin(ex_lab)])\n",
    "    example.loc[:, 'AEDM_pred'] = pd.Series(\n",
    "        predictions_AEDM[i, example.index.tolist()],\n",
    "        index=example.index\n",
    "    )\n",
    "    example.loc[:, 'ASC_pred'] = pd.Series(\n",
    "        predictions_ASC[i, example.index.tolist()],\n",
    "        index=example.index\n",
    "    )\n",
    "    example.loc[:, 'qkong_pred'] = pd.Series(\n",
    "        ex_pred,\n",
    "        index=example.index\n",
    "    )\n",
    "    print(example)\n",
    "    print()\n",
    "    \n",
    "    example.plot.bar(x='display_name', y=['AEDM_pred', 'ASC_pred', 'qkong_pred'], rot=90)\n",
    "    plt.show()"
   ]
  },
  {
   "cell_type": "markdown",
   "metadata": {},
   "source": [
    "## Audio set data collection pipeline\n",
    "\n",
    "### Download, cut and convert the audio of listed urls"
   ]
  },
  {
   "cell_type": "code",
   "execution_count": null,
   "metadata": {
    "scrolled": true
   },
   "outputs": [],
   "source": [
    "colnames = '# YTID, start_seconds, end_seconds, positive_labels'.split(', ')\n",
    "print(colnames)\n",
    "bal_train_csv = pd.read_csv('balanced_train_segments.csv', sep=', ', header=2) #usecols=colnames)\n",
    "bal_train_csv.rename(columns={colnames[0]: colnames[0][-4:]}, inplace=True)"
   ]
  },
  {
   "cell_type": "code",
   "execution_count": null,
   "metadata": {
    "scrolled": true
   },
   "outputs": [],
   "source": [
    "print(bal_train_csv.columns.values)\n",
    "print(bal_train_csv.loc[:10, colnames[3]])\n",
    "print(bal_train_csv.YTID.tolist()[:10])\n",
    "\n",
    "bal_train_csv['pos_lab_list'] = bal_train_csv.positive_labels.apply(lambda x: x[1:-1].split(','))\n",
    "colnames.extend('pos_lab_list')\n",
    "\n",
    "print('Pos_lab_list')\n",
    "print(bal_train_csv.loc[:10, 'pos_lab_list'])\n",
    "\n",
    "sample_rate = 16000\n",
    "\n",
    "audioset_short_raw_dir = os.path.join(src_dir, 'data', 'audioset_short_raw')\n",
    "if not os.path.exists(audioset_short_raw_dir):\n",
    "    os.makedirs(audioset_short_raw_dir)\n",
    "audioset_raw_dir = os.path.join(src_dir, 'data', 'audioset_raw')\n",
    "if not os.path.exists(audioset_raw_dir):\n",
    "    os.makedirs(audioset_raw_dir)\n",
    "audioset_embed_path = os.path.join(src_dir, 'data', 'audioset_embed')\n",
    "if not os.path.exists(audioset_embed_path):\n",
    "    os.makedirs(audioset_embed_path)\n",
    "\n",
    "audioset_video_titles = []\n",
    "audioset_video_ids = bal_train_csv.YTID.tolist()\n",
    "audioset_video_ids_bin = bal_train_csv.YTID.astype('|S11').tolist()\n",
    "video_start_time = bal_train_csv.start_seconds.tolist()\n",
    "video_end_time = bal_train_csv.end_seconds.tolist()\n",
    "\n",
    "# Provide class dictionary for conversion from mid to either index [0] or display_name [1] \n",
    "class_dict = class_labels.set_index('mid').T.to_dict('list')\n",
    "\n",
    "print(class_dict['/m/09x0r'])\n",
    "\n",
    "print(\n",
    "    list(\n",
    "        map(\n",
    "            lambda x: class_dict[x][0],\n",
    "            bal_train_csv.loc[0, 'pos_lab_list']\n",
    "        )\n",
    "    )\n",
    ")\n",
    "\n",
    "bal_train_csv['pos_lab_ind_list'] = bal_train_csv.pos_lab_list.apply(\n",
    "    lambda x: [class_dict[y][0] for y in x]\n",
    ")\n",
    "\n",
    "class_vec = np.zeros([1, 527])\n",
    "class_vec[:, bal_train_csv.loc[0, 'pos_lab_ind_list']] = 1\n",
    "print(class_vec)\n",
    "\n",
    "print(bal_train_csv.dtypes)\n",
    "#print(bal_train_csv.loc[:10, colnames[4]])"
   ]
  },
  {
   "cell_type": "code",
   "execution_count": null,
   "metadata": {
    "scrolled": true
   },
   "outputs": [],
   "source": [
    "video_ids_incl = []\n",
    "video_ids_incl_bin = []\n",
    "video_ids_excl = []\n",
    "vggish_embeds = []\n",
    "labels = []"
   ]
  },
  {
   "cell_type": "code",
   "execution_count": null,
   "metadata": {
    "scrolled": true
   },
   "outputs": [],
   "source": [
    "print(video_ids_incl)"
   ]
  },
  {
   "cell_type": "code",
   "execution_count": null,
   "metadata": {
    "scrolled": true
   },
   "outputs": [],
   "source": [
    "video_ids_incl = video_ids_incl[:-1]\n",
    "print(video_ids_incl)\n",
    "video_ids_checked = video_ids_incl + video_ids_excl\n",
    "video_ids = [vid for vid in audioset_video_ids if vid not in video_ids_checked]"
   ]
  },
  {
   "cell_type": "code",
   "execution_count": null,
   "metadata": {
    "scrolled": true
   },
   "outputs": [],
   "source": [
    "for i, vid in enumerate(video_ids):\n",
    "    print('{}.'.format(i))\n",
    "    # Download and store video under data/audioset_short_raw/\n",
    "    if (vid + '.wav') not in os.listdir(audioset_short_raw_dir):\n",
    "        video_title = dl_yt.download_youtube_wav(\n",
    "            video_id=vid,\n",
    "            raw_dir=None,\n",
    "            short_raw_dir=audioset_short_raw_dir,\n",
    "            start_sec=video_start_time[i],\n",
    "            duration=video_end_time[i]-video_start_time[i],\n",
    "            sample_rate=sample_rate\n",
    "        )\n",
    "        audioset_video_titles += [video_title]\n",
    "        wav_available = video_title is not None\n",
    "    else:\n",
    "        print(vid, 'already downloaded, so we skip this download.')\n",
    "        wav_available = True\n",
    "    \n",
    "    if wav_available:\n",
    "        video_ids_incl += [vid]\n",
    "        video_ids_incl_bin += [audioset_video_ids_bin[i]]\n",
    "        vggish_embeds.extend(\n",
    "            ASC.embed(\n",
    "                os.path.join(\n",
    "                    audioset_short_raw_dir,\n",
    "                    vid\n",
    "                ) + '.wav'\n",
    "            )\n",
    "        )\n",
    "        class_vec = np.zeros([1, 527])\n",
    "        class_vec[:, bal_train_csv.loc[i, 'pos_lab_ind_list']] = 1\n",
    "        labels.extend(class_vec)\n",
    "    else:\n",
    "        video_ids_excl += [vid]\n",
    "    print()\n",
    "                \n",
    "\n",
    "\n",
    "\n"
   ]
  },
  {
   "cell_type": "code",
   "execution_count": null,
   "metadata": {},
   "outputs": [],
   "source": [
    "jobs = []\n",
    "for i, vid in enumerate(video_ids):\n",
    "    # Download and store video under data/audioset_short_raw/\n",
    "    if (vid + '.wav') not in os.listdir(audioset_short_raw_dir):\n",
    "        args = (\n",
    "            vid,\n",
    "            None,\n",
    "            audioset_short_raw_dir,\n",
    "            video_start_time[i],\n",
    "            video_end_time[i]-video_start_time[i],\n",
    "            sample_rate\n",
    "        )\n",
    "        process = multiprocessing.Process(\n",
    "            target=dl_yt.download_youtube_wav,\n",
    "            args=args\n",
    "        )\n",
    "        jobs.append(process)\n",
    "\n",
    "# Start the processes (i.e. calculate the random number lists)\n",
    "for j in jobs:\n",
    "    j.start()\n",
    "\n",
    "# Ensure all of the processes have finished\n",
    "for j in jobs:\n",
    "    j.join()"
   ]
  },
  {
   "cell_type": "code",
   "execution_count": null,
   "metadata": {
    "scrolled": true
   },
   "outputs": [],
   "source": [
    "save_data(\n",
    "    hdf5_path=os.path.join(audioset_embed_path, 'bal_train.h5'),\n",
    "    x=np.array(vggish_embeds),\n",
    "    video_id_list=np.array(video_ids_incl_bin),\n",
    "    y=np.array(labels)\n",
    ")"
   ]
  },
  {
   "cell_type": "code",
   "execution_count": null,
   "metadata": {
    "scrolled": true
   },
   "outputs": [],
   "source": [
    "x, y, vid_list = load_data(os.path.join(audioset_embed_path, 'bal_train.h5'))"
   ]
  },
  {
   "cell_type": "code",
   "execution_count": null,
   "metadata": {
    "scrolled": true
   },
   "outputs": [],
   "source": [
    "print(vid_list)"
   ]
  },
  {
   "cell_type": "code",
   "execution_count": null,
   "metadata": {
    "scrolled": true
   },
   "outputs": [],
   "source": [
    "x_train, y_train, video_id_train = load_data(os.path.join(audioset_embed_path, 'bal_train.h5'))"
   ]
  },
  {
   "cell_type": "code",
   "execution_count": null,
   "metadata": {},
   "outputs": [],
   "source": [
    "print(video_id_train)"
   ]
  },
  {
   "cell_type": "code",
   "execution_count": null,
   "metadata": {},
   "outputs": [],
   "source": [
    "x_train, y_train, video_id_train = load_data(\n",
    "    os.path.join(\n",
    "        'data',\n",
    "        'audioset',\n",
    "        'packed_features',\n",
    "        'bal_train.h5'\n",
    "    )\n",
    ")\n",
    "\n",
    "print(video_id_train[:100])"
   ]
  },
  {
   "cell_type": "code",
   "execution_count": 2,
   "metadata": {},
   "outputs": [
    {
     "name": "stdout",
     "output_type": "stream",
     "text": [
      "\n",
      "Loading VGGish base model:\n"
     ]
    },
    {
     "name": "stderr",
     "output_type": "stream",
     "text": [
      "Using TensorFlow backend.\n"
     ]
    },
    {
     "name": "stdout",
     "output_type": "stream",
     "text": [
      "_________________________________________________________________\n",
      "Layer (type)                 Output Shape              Param #   \n",
      "=================================================================\n",
      "input_1 (InputLayer)         (None, 96, 64, 1)         0         \n",
      "_________________________________________________________________\n",
      "conv1 (Conv2D)               (None, 96, 64, 64)        640       \n",
      "_________________________________________________________________\n",
      "pool1 (MaxPooling2D)         (None, 48, 32, 64)        0         \n",
      "_________________________________________________________________\n",
      "conv2 (Conv2D)               (None, 48, 32, 128)       73856     \n",
      "_________________________________________________________________\n",
      "pool2 (MaxPooling2D)         (None, 24, 16, 128)       0         \n",
      "_________________________________________________________________\n",
      "conv3_1 (Conv2D)             (None, 24, 16, 256)       295168    \n",
      "_________________________________________________________________\n",
      "conv3_2 (Conv2D)             (None, 24, 16, 256)       590080    \n",
      "_________________________________________________________________\n",
      "pool3 (MaxPooling2D)         (None, 12, 8, 256)        0         \n",
      "_________________________________________________________________\n",
      "conv4_1 (Conv2D)             (None, 12, 8, 512)        1180160   \n",
      "_________________________________________________________________\n",
      "conv4_2 (Conv2D)             (None, 12, 8, 512)        2359808   \n",
      "_________________________________________________________________\n",
      "pool4 (MaxPooling2D)         (None, 6, 4, 512)         0         \n",
      "_________________________________________________________________\n",
      "flatten (Flatten)            (None, 12288)             0         \n",
      "_________________________________________________________________\n",
      "fc1_1 (Dense)                (None, 4096)              50335744  \n",
      "_________________________________________________________________\n",
      "fc1_2 (Dense)                (None, 4096)              16781312  \n",
      "_________________________________________________________________\n",
      "fc2 (Dense)                  (None, 128)               524416    \n",
      "=================================================================\n",
      "Total params: 72,141,184\n",
      "Trainable params: 72,141,184\n",
      "Non-trainable params: 0\n",
      "_________________________________________________________________\n",
      "\n",
      "\n",
      "Loading top model with weights from:\n",
      "models/md_50000_iters.h5\n",
      "__________________________________________________________________________________________________\n",
      "Layer (type)                    Output Shape         Param #     Connected to                     \n",
      "==================================================================================================\n",
      "input_2 (InputLayer)            (None, 10, 128)      0                                            \n",
      "__________________________________________________________________________________________________\n",
      "dense_1 (Dense)                 (None, 10, 1024)     132096      input_2[0][0]                    \n",
      "__________________________________________________________________________________________________\n",
      "batch_normalization_1 (BatchNor (None, 10, 1024)     4096        dense_1[0][0]                    \n",
      "__________________________________________________________________________________________________\n",
      "activation_1 (Activation)       (None, 10, 1024)     0           batch_normalization_1[0][0]      \n",
      "__________________________________________________________________________________________________\n",
      "dropout_1 (Dropout)             (None, 10, 1024)     0           activation_1[0][0]               \n",
      "__________________________________________________________________________________________________\n",
      "dense_2 (Dense)                 (None, 10, 1024)     1049600     dropout_1[0][0]                  \n",
      "__________________________________________________________________________________________________\n",
      "batch_normalization_2 (BatchNor (None, 10, 1024)     4096        dense_2[0][0]                    \n",
      "__________________________________________________________________________________________________\n",
      "activation_2 (Activation)       (None, 10, 1024)     0           batch_normalization_2[0][0]      \n",
      "__________________________________________________________________________________________________\n",
      "dropout_2 (Dropout)             (None, 10, 1024)     0           activation_2[0][0]               \n",
      "__________________________________________________________________________________________________\n",
      "dense_3 (Dense)                 (None, 10, 1024)     1049600     dropout_2[0][0]                  \n",
      "__________________________________________________________________________________________________\n",
      "batch_normalization_3 (BatchNor (None, 10, 1024)     4096        dense_3[0][0]                    \n",
      "__________________________________________________________________________________________________\n",
      "activation_3 (Activation)       (None, 10, 1024)     0           batch_normalization_3[0][0]      \n",
      "__________________________________________________________________________________________________\n",
      "dropout_3 (Dropout)             (None, 10, 1024)     0           activation_3[0][0]               \n",
      "__________________________________________________________________________________________________\n",
      "dense_4 (Dense)                 (None, 10, 527)      540175      dropout_3[0][0]                  \n",
      "__________________________________________________________________________________________________\n",
      "dense_5 (Dense)                 (None, 10, 527)      540175      dropout_3[0][0]                  \n",
      "__________________________________________________________________________________________________\n",
      "lambda_1 (Lambda)               (None, 527)          0           dense_4[0][0]                    \n",
      "                                                                 dense_5[0][0]                    \n",
      "==================================================================================================\n",
      "Total params: 3,323,934\n",
      "Trainable params: 3,317,790\n",
      "Non-trainable params: 6,144\n",
      "__________________________________________________________________________________________________\n"
     ]
    },
    {
     "name": "stderr",
     "output_type": "stream",
     "text": [
      "/Users/maxvo/Documents/EDU_demos/audioset/retrieve_audioset.py:101: ParserWarning: Falling back to the 'python' engine because the 'c' engine does not support regex separators (separators > 1 char and different from '\\s+' are interpreted as regex); you can avoid this warning by specifying engine='python'.\n",
      "  metadata = pd.read_csv(metadata_file, sep=', ', header=2) #usecols=colnames)\n",
      "  0%|          | 0/22160 [00:00<?, ?it/s]"
     ]
    },
    {
     "name": "stdout",
     "output_type": "stream",
     "text": [
      "Done downloading, now converting ...\n",
      "BGZ Movies  -  Juste Pour Délirer \n",
      "\tshort clip saved in:\n",
      "\t\t data/short_raw/--PJHxphWEs.wav\n"
     ]
    },
    {
     "ename": "KeyboardInterrupt",
     "evalue": "",
     "output_type": "error",
     "traceback": [
      "\u001b[0;31m---------------------------------------------------------------------------\u001b[0m",
      "\u001b[0;31mKeyboardInterrupt\u001b[0m                         Traceback (most recent call last)",
      "\u001b[0;32m<ipython-input-2-99022a32de5f>\u001b[0m in \u001b[0;36m<module>\u001b[0;34m()\u001b[0m\n\u001b[1;32m      2\u001b[0m \u001b[0;34m\u001b[0m\u001b[0m\n\u001b[1;32m      3\u001b[0m retrieve_embeddings(\n\u001b[0;32m----> 4\u001b[0;31m     \u001b[0mdata_path\u001b[0m\u001b[0;34m=\u001b[0m\u001b[0mos\u001b[0m\u001b[0;34m.\u001b[0m\u001b[0mpath\u001b[0m\u001b[0;34m.\u001b[0m\u001b[0mjoin\u001b[0m\u001b[0;34m(\u001b[0m\u001b[0;34m'data'\u001b[0m\u001b[0;34m,\u001b[0m \u001b[0;34m'audioset'\u001b[0m\u001b[0;34m)\u001b[0m\u001b[0;34m\u001b[0m\u001b[0m\n\u001b[0m\u001b[1;32m      5\u001b[0m )\n",
      "\u001b[0;32m~/Documents/EDU_demos/audioset/retrieve_audioset.py\u001b[0m in \u001b[0;36mretrieve_embeddings\u001b[0;34m(data_path, metadata_file, class_labels_file, embed_path)\u001b[0m\n\u001b[1;32m    160\u001b[0m             \u001b[0;31m# Ensure all of the processes have finished\u001b[0m\u001b[0;34m\u001b[0m\u001b[0;34m\u001b[0m\u001b[0m\n\u001b[1;32m    161\u001b[0m             \u001b[0;32mfor\u001b[0m \u001b[0mj\u001b[0m \u001b[0;32min\u001b[0m \u001b[0mjobs\u001b[0m\u001b[0;34m:\u001b[0m\u001b[0;34m\u001b[0m\u001b[0m\n\u001b[0;32m--> 162\u001b[0;31m                 \u001b[0mj\u001b[0m\u001b[0;34m.\u001b[0m\u001b[0mjoin\u001b[0m\u001b[0;34m(\u001b[0m\u001b[0;34m)\u001b[0m\u001b[0;34m\u001b[0m\u001b[0m\n\u001b[0m\u001b[1;32m    163\u001b[0m             \u001b[0mi\u001b[0m \u001b[0;34m+=\u001b[0m \u001b[0;36m1\u001b[0m\u001b[0;34m\u001b[0m\u001b[0m\n\u001b[1;32m    164\u001b[0m             \u001b[0mpbar\u001b[0m\u001b[0;34m.\u001b[0m\u001b[0mupdate\u001b[0m\u001b[0;34m(\u001b[0m\u001b[0;36m1\u001b[0m\u001b[0;34m)\u001b[0m\u001b[0;34m\u001b[0m\u001b[0m\n",
      "\u001b[0;32m/usr/local/anaconda3/envs/audioset_tensorflow/lib/python3.6/multiprocessing/process.py\u001b[0m in \u001b[0;36mjoin\u001b[0;34m(self, timeout)\u001b[0m\n\u001b[1;32m    122\u001b[0m         \u001b[0;32massert\u001b[0m \u001b[0mself\u001b[0m\u001b[0;34m.\u001b[0m\u001b[0m_parent_pid\u001b[0m \u001b[0;34m==\u001b[0m \u001b[0mos\u001b[0m\u001b[0;34m.\u001b[0m\u001b[0mgetpid\u001b[0m\u001b[0;34m(\u001b[0m\u001b[0;34m)\u001b[0m\u001b[0;34m,\u001b[0m \u001b[0;34m'can only join a child process'\u001b[0m\u001b[0;34m\u001b[0m\u001b[0m\n\u001b[1;32m    123\u001b[0m         \u001b[0;32massert\u001b[0m \u001b[0mself\u001b[0m\u001b[0;34m.\u001b[0m\u001b[0m_popen\u001b[0m \u001b[0;32mis\u001b[0m \u001b[0;32mnot\u001b[0m \u001b[0;32mNone\u001b[0m\u001b[0;34m,\u001b[0m \u001b[0;34m'can only join a started process'\u001b[0m\u001b[0;34m\u001b[0m\u001b[0m\n\u001b[0;32m--> 124\u001b[0;31m         \u001b[0mres\u001b[0m \u001b[0;34m=\u001b[0m \u001b[0mself\u001b[0m\u001b[0;34m.\u001b[0m\u001b[0m_popen\u001b[0m\u001b[0;34m.\u001b[0m\u001b[0mwait\u001b[0m\u001b[0;34m(\u001b[0m\u001b[0mtimeout\u001b[0m\u001b[0;34m)\u001b[0m\u001b[0;34m\u001b[0m\u001b[0m\n\u001b[0m\u001b[1;32m    125\u001b[0m         \u001b[0;32mif\u001b[0m \u001b[0mres\u001b[0m \u001b[0;32mis\u001b[0m \u001b[0;32mnot\u001b[0m \u001b[0;32mNone\u001b[0m\u001b[0;34m:\u001b[0m\u001b[0;34m\u001b[0m\u001b[0m\n\u001b[1;32m    126\u001b[0m             \u001b[0m_children\u001b[0m\u001b[0;34m.\u001b[0m\u001b[0mdiscard\u001b[0m\u001b[0;34m(\u001b[0m\u001b[0mself\u001b[0m\u001b[0;34m)\u001b[0m\u001b[0;34m\u001b[0m\u001b[0m\n",
      "\u001b[0;32m/usr/local/anaconda3/envs/audioset_tensorflow/lib/python3.6/multiprocessing/popen_fork.py\u001b[0m in \u001b[0;36mwait\u001b[0;34m(self, timeout)\u001b[0m\n\u001b[1;32m     48\u001b[0m                     \u001b[0;32mreturn\u001b[0m \u001b[0;32mNone\u001b[0m\u001b[0;34m\u001b[0m\u001b[0m\n\u001b[1;32m     49\u001b[0m             \u001b[0;31m# This shouldn't block if wait() returned successfully.\u001b[0m\u001b[0;34m\u001b[0m\u001b[0;34m\u001b[0m\u001b[0m\n\u001b[0;32m---> 50\u001b[0;31m             \u001b[0;32mreturn\u001b[0m \u001b[0mself\u001b[0m\u001b[0;34m.\u001b[0m\u001b[0mpoll\u001b[0m\u001b[0;34m(\u001b[0m\u001b[0mos\u001b[0m\u001b[0;34m.\u001b[0m\u001b[0mWNOHANG\u001b[0m \u001b[0;32mif\u001b[0m \u001b[0mtimeout\u001b[0m \u001b[0;34m==\u001b[0m \u001b[0;36m0.0\u001b[0m \u001b[0;32melse\u001b[0m \u001b[0;36m0\u001b[0m\u001b[0;34m)\u001b[0m\u001b[0;34m\u001b[0m\u001b[0m\n\u001b[0m\u001b[1;32m     51\u001b[0m         \u001b[0;32mreturn\u001b[0m \u001b[0mself\u001b[0m\u001b[0;34m.\u001b[0m\u001b[0mreturncode\u001b[0m\u001b[0;34m\u001b[0m\u001b[0m\n\u001b[1;32m     52\u001b[0m \u001b[0;34m\u001b[0m\u001b[0m\n",
      "\u001b[0;32m/usr/local/anaconda3/envs/audioset_tensorflow/lib/python3.6/multiprocessing/popen_fork.py\u001b[0m in \u001b[0;36mpoll\u001b[0;34m(self, flag)\u001b[0m\n\u001b[1;32m     26\u001b[0m             \u001b[0;32mwhile\u001b[0m \u001b[0;32mTrue\u001b[0m\u001b[0;34m:\u001b[0m\u001b[0;34m\u001b[0m\u001b[0m\n\u001b[1;32m     27\u001b[0m                 \u001b[0;32mtry\u001b[0m\u001b[0;34m:\u001b[0m\u001b[0;34m\u001b[0m\u001b[0m\n\u001b[0;32m---> 28\u001b[0;31m                     \u001b[0mpid\u001b[0m\u001b[0;34m,\u001b[0m \u001b[0msts\u001b[0m \u001b[0;34m=\u001b[0m \u001b[0mos\u001b[0m\u001b[0;34m.\u001b[0m\u001b[0mwaitpid\u001b[0m\u001b[0;34m(\u001b[0m\u001b[0mself\u001b[0m\u001b[0;34m.\u001b[0m\u001b[0mpid\u001b[0m\u001b[0;34m,\u001b[0m \u001b[0mflag\u001b[0m\u001b[0;34m)\u001b[0m\u001b[0;34m\u001b[0m\u001b[0m\n\u001b[0m\u001b[1;32m     29\u001b[0m                 \u001b[0;32mexcept\u001b[0m \u001b[0mOSError\u001b[0m \u001b[0;32mas\u001b[0m \u001b[0me\u001b[0m\u001b[0;34m:\u001b[0m\u001b[0;34m\u001b[0m\u001b[0m\n\u001b[1;32m     30\u001b[0m                     \u001b[0;31m# Child process not yet created. See #1731717\u001b[0m\u001b[0;34m\u001b[0m\u001b[0;34m\u001b[0m\u001b[0m\n",
      "\u001b[0;31mKeyboardInterrupt\u001b[0m: "
     ]
    }
   ],
   "source": [
    "from retrieve_audioset import retrieve_embeddings\n",
    "\n",
    "retrieve_embeddings(\n",
    "    data_path=os.path.join('data', 'audioset')\n",
    ")"
   ]
  },
  {
   "cell_type": "code",
   "execution_count": null,
   "metadata": {},
   "outputs": [],
   "source": []
  }
 ],
 "metadata": {
  "kernelspec": {
   "display_name": "Python [default]",
   "language": "python",
   "name": "python3"
  },
  "language_info": {
   "codemirror_mode": {
    "name": "ipython",
    "version": 3
   },
   "file_extension": ".py",
   "mimetype": "text/x-python",
   "name": "python",
   "nbconvert_exporter": "python",
   "pygments_lexer": "ipython3",
   "version": "3.6.5"
  }
 },
 "nbformat": 4,
 "nbformat_minor": 2
}
